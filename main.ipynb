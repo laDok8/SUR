{
 "cells": [
  {
   "cell_type": "code",
   "execution_count": 2,
   "metadata": {
    "collapsed": true
   },
   "outputs": [],
   "source": [
    "import numpy as np\n",
    "import matplotlib.pyplot as plt\n",
    "import os\n",
    "from ikrlib import *\n",
    "\n",
    "\n",
    "if not os.path.isfile(\"SUR_projekt2022-2023.zip\"):\n",
    "    !wget https://www.fit.vutbr.cz/study/courses/SUR/public/projekt_2022-2023/SUR_projekt2022-2023.zip\n",
    "    !unzip SUR_projekt2022-2023.zip\n"
   ]
  },
  {
   "cell_type": "code",
   "execution_count": 5,
   "metadata": {},
   "outputs": [
    {
     "name": "stdout",
     "output_type": "stream",
     "text": [
      "(62, 80, 80) (62,)\n"
     ]
    }
   ],
   "source": [
    "CLASSES = 31\n",
    "\n",
    "def png2fea2(dir_name):\n",
    "    \"\"\"\n",
    "    Loads all *.png images from directory dir_name into a dictionary. Keys are the file names\n",
    "    and values and 2D numpy arrays with corresponding grayscale images\n",
    "    \"\"\"\n",
    "    features = {}\n",
    "    for f in glob(dir_name + '/*.png'):\n",
    "        features[f] = np.array(Image.open(f).convert('L'), dtype=np.float64)\n",
    "    return features\n",
    "\n",
    "\n",
    "train_x = np.empty((0,80,80))\n",
    "train_y = np.empty((0),dtype=int)\n",
    "\n",
    "# TODO pridat vse nechci si uvarit PC\n",
    "# TODO mozna bych zkonkatenoval mfcc do train_x\n",
    "for i in range(1,CLASSES+1): \n",
    "    train_i = np.array(list(png2fea2('dev/'+str(i)).values()))\n",
    "    label_i = np.full(len(train_i),i)\n",
    "    #add to train_x\n",
    "    train_x = np.concatenate((train_x, train_i), axis=0)\n",
    "    train_y = np.concatenate((train_y,label_i),axis=0)\n",
    "\n",
    "\n",
    "print(train_x.shape, train_y.shape)\n",
    "# sample1 = train_im[0]\n",
    "# print(train_im.shape)"
   ]
  },
  {
   "cell_type": "code",
   "execution_count": 86,
   "metadata": {},
   "outputs": [
    {
     "name": "stdout",
     "output_type": "stream",
     "text": [
      "(12, 6400)\n"
     ]
    }
   ],
   "source": [
    "flat = train_x.reshape(train_x.shape[0],-1)\n",
    "print(flat.shape)\n"
   ]
  },
  {
   "cell_type": "code",
   "execution_count": 87,
   "metadata": {},
   "outputs": [
    {
     "name": "stdout",
     "output_type": "stream",
     "text": [
      "(12, 1)\n",
      "[[ 0.46463576]\n",
      " [-2.2421178 ]\n",
      " [-2.08799668]\n",
      " [-2.79019983]\n",
      " [-1.97974532]\n",
      " [-0.55474608]\n",
      " [ 2.15825138]\n",
      " [ 1.85282947]\n",
      " [ 0.37569382]\n",
      " [ 2.07901749]\n",
      " [ 1.73125068]\n",
      " [ 0.99312711]]\n"
     ]
    }
   ],
   "source": [
    "#LDA reduce dim\n",
    "CLASSES = 2\n",
    "from sklearn.discriminant_analysis import LinearDiscriminantAnalysis as LDA\n",
    "lda = LDA(n_components=CLASSES-1)\n",
    "lda.fit(flat,train_y)\n",
    "lda_results = lda.transform(flat)\n",
    "print(lda_results.shape)\n",
    "print(lda_results)\n"
   ]
  },
  {
   "cell_type": "code",
   "execution_count": 88,
   "metadata": {},
   "outputs": [
    {
     "data": {
      "text/plain": [
       "0.9166666666666666"
      ]
     },
     "execution_count": 88,
     "metadata": {},
     "output_type": "execute_result"
    }
   ],
   "source": [
    "#train data accuarcy\n",
    "(lda.predict(flat) == train_y).sum()/len(train_y)"
   ]
  },
  {
   "cell_type": "code",
   "execution_count": 89,
   "metadata": {},
   "outputs": [
    {
     "name": "stdout",
     "output_type": "stream",
     "text": [
      "Processing file:  dev/1/f401_04_f18_i0_0.png\n",
      "Processing file:  dev/1/f401_04_r09_i0_0.png\n",
      "Processing file:  dev/2/f402_04_f18_i0_0.png\n",
      "Processing file:  dev/2/f402_04_r09_i0_0.png\n",
      "(4, 80, 80) (4,)\n"
     ]
    }
   ],
   "source": [
    "#create Test data\n",
    "test_x = np.empty((0,80,80))\n",
    "test_y = np.empty((0),dtype=int)\n",
    "\n",
    "for i in range(1,CLASSES+1): \n",
    "    test_i = np.array(list(png2fea('dev/'+str(i)).values()))\n",
    "    label_i = np.full(len(test_i),i)\n",
    "    #add to test_x\n",
    "    test_x = np.concatenate((test_x, test_i), axis=0)\n",
    "    test_y = np.concatenate((test_y,label_i),axis=0)\n",
    "print(test_x.shape, test_y.shape)\n",
    "\n",
    "# flatten test data\n",
    "test_x = test_x.reshape(test_x.shape[0],-1)\n"
   ]
  },
  {
   "cell_type": "code",
   "execution_count": 90,
   "metadata": {},
   "outputs": [
    {
     "data": {
      "text/plain": [
       "0.5"
      ]
     },
     "execution_count": 90,
     "metadata": {},
     "output_type": "execute_result"
    }
   ],
   "source": [
    "#test data accuarcy\n",
    "print(\"test data accuracy\", (lda.predict(test_x) == test_y).sum()/len(test_y))"
   ]
  },
  {
   "cell_type": "code",
   "execution_count": null,
   "metadata": {},
   "outputs": [],
   "source": []
  }
 ],
 "metadata": {
  "kernelspec": {
   "display_name": "Python 3",
   "language": "python",
   "name": "python3"
  },
  "language_info": {
   "codemirror_mode": {
    "name": "ipython",
    "version": 3
   },
   "file_extension": ".py",
   "mimetype": "text/x-python",
   "name": "python",
   "nbconvert_exporter": "python",
   "pygments_lexer": "ipython3",
   "version": "3.10.6"
  }
 },
 "nbformat": 4,
 "nbformat_minor": 0
}
