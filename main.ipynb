{
 "cells": [
  {
   "cell_type": "code",
   "execution_count": 42,
   "metadata": {
    "collapsed": true
   },
   "outputs": [],
   "source": [
    "import numpy as np\n",
    "import matplotlib.pyplot as plt\n",
    "import os\n",
    "from ikrlib import *\n",
    "\n",
    "\n",
    "if not os.path.isfile(\"SUR_projekt2022-2023.zip\"):\n",
    "    !wget https://www.fit.vutbr.cz/study/courses/SUR/public/projekt_2022-2023/SUR_projekt2022-2023.zip\n",
    "    !unzip SUR_projekt2022-2023.zip\n"
   ]
  },
  {
   "cell_type": "code",
   "execution_count": 43,
   "metadata": {},
   "outputs": [
    {
     "name": "stdout",
     "output_type": "stream",
     "text": [
      "Processing file:  train/1/f401_01_f18_i0_0.png\n",
      "Processing file:  train/1/f401_01_r09_i0_0.png\n",
      "Processing file:  train/1/f401_02_f18_i0_0.png\n",
      "Processing file:  train/1/f401_02_r09_i0_0.png\n",
      "Processing file:  train/1/f401_03_f18_i0_0.png\n",
      "Processing file:  train/1/f401_03_r09_i0_0.png\n",
      "Processing file:  train/2/f402_01_f18_i0_0.png\n",
      "Processing file:  train/2/f402_01_r09_i0_0.png\n",
      "Processing file:  train/2/f402_02_f18_i0_0.png\n",
      "Processing file:  train/2/f402_02_r09_i0_0.png\n",
      "Processing file:  train/2/f402_03_f18_i0_0.png\n",
      "Processing file:  train/2/f402_03_r09_i0_0.png\n",
      "(12, 80, 80) (12,)\n",
      "(12, 80, 80)\n"
     ]
    }
   ],
   "source": [
    "CLASSES = 2\n",
    "\n",
    "train_x = np.empty((0,80,80))\n",
    "train_y = np.empty((0),dtype=int)\n",
    "\n",
    "# TODO pridat vse nechci si uvarit PC\n",
    "# TODO mozna bych zkonkatenoval mfcc do train_x\n",
    "for i in range(1,CLASSES+1): \n",
    "    train_i = np.array(list(png2fea('train/'+str(i)).values()))\n",
    "    label_i = np.full(len(train_i),i)\n",
    "    #add to train_x\n",
    "    train_x = np.concatenate((train_x, train_i), axis=0)\n",
    "    train_y = np.concatenate((train_y,label_i),axis=0)\n",
    "\n",
    "\n",
    "print(train_x.shape, train_y.shape)\n",
    "sample1 = train_x[0]\n",
    "print(train_x.shape)"
   ]
  },
  {
   "cell_type": "code",
   "execution_count": 55,
   "metadata": {},
   "outputs": [
    {
     "name": "stdout",
     "output_type": "stream",
     "text": [
      "(12, 6400)\n"
     ]
    }
   ],
   "source": [
    "flat = train_x.reshape(train_x.shape[0],-1)\n",
    "print(flat.shape)\n"
   ]
  },
  {
   "cell_type": "code",
   "execution_count": 59,
   "metadata": {},
   "outputs": [
    {
     "name": "stdout",
     "output_type": "stream",
     "text": [
      "(2688866.1751426966, array([-0.00292707+0.j, -0.00410764+0.j, -0.00341273+0.j, ...,\n",
      "       -0.01422124+0.j, -0.01291913+0.j, -0.01029904+0.j]))\n",
      "(1204011.4282300281, array([-0.01704999+0.j, -0.01930412+0.j, -0.01938977+0.j, ...,\n",
      "        0.00312058+0.j,  0.00211808+0.j, -0.00087295+0.j]))\n",
      "(970328.3915503409, array([0.01061933+0.j, 0.01081768+0.j, 0.01194694+0.j, ...,\n",
      "       0.00500877+0.j, 0.00422902+0.j, 0.0059948 +0.j]))\n",
      "(931417.1447661449, array([0.00891695+0.j, 0.01107032+0.j, 0.01516769+0.j, ...,\n",
      "       0.00217012+0.j, 0.00347769+0.j, 0.00371411+0.j]))\n",
      "(819316.4573963934, array([-0.02430097+0.j, -0.02172785+0.j, -0.01999234+0.j, ...,\n",
      "       -0.01600654+0.j, -0.018103  +0.j, -0.01443782+0.j]))\n",
      "(578077.0664830212, array([-0.0380795 +0.j, -0.0360707 +0.j, -0.03187474+0.j, ...,\n",
      "       -0.00033318+0.j, -0.00186124+0.j, -0.00339203+0.j]))\n",
      "(525333.8154352703, array([-0.00258351+0.j,  0.00421105+0.j, -0.00312384+0.j, ...,\n",
      "       -0.020855  +0.j, -0.01960709+0.j, -0.01275844+0.j]))\n",
      "(341787.1896053162, array([-0.00691099+0.j, -0.01051105+0.j, -0.0143024 +0.j, ...,\n",
      "        0.01308498+0.j,  0.00974018+0.j, -0.00224841+0.j]))\n",
      "(271946.8307696696, array([-0.00010406+0.j,  0.00322321+0.j,  0.0052832 +0.j, ...,\n",
      "        0.0061945 +0.j,  0.00499106+0.j,  0.00151761+0.j]))\n",
      "(236414.8479163635, array([ 0.01892485+0.j,  0.02240387+0.j,  0.02726241+0.j, ...,\n",
      "       -0.00280057+0.j, -0.00550144+0.j, -0.01113927+0.j]))\n"
     ]
    }
   ],
   "source": [
    "#PCA \n",
    "cov = np.cov(flat.T)\n",
    "\n",
    "eig_vals, eig_vecs = np.linalg.eig(cov)\n",
    "\n",
    "# sort\n",
    "eig_pairs = [(np.abs(eig_vals[i]), eig_vecs[:,i]) for i in range(len(eig_vals))]\n",
    "eig_pairs.sort(key=lambda x: x[0], reverse=True)\n",
    "\n",
    "# print first 10\n",
    "for i in range(10):\n",
    "    print(eig_pairs[i])\n",
    "\n"
   ]
  },
  {
   "cell_type": "code",
   "execution_count": 122,
   "metadata": {},
   "outputs": [
    {
     "name": "stdout",
     "output_type": "stream",
     "text": [
      "[-0.00292707 -0.00410764 -0.00341273 ... -0.01422124 -0.01291913\n",
      " -0.01029904]\n",
      "[-0.01704999 -0.01930412 -0.01938977 ...  0.00312058  0.00211808\n",
      " -0.00087295]\n",
      "[0.01061933 0.01081768 0.01194694 ... 0.00500877 0.00422902 0.0059948 ]\n",
      "[0.00891695 0.01107032 0.01516769 ... 0.00217012 0.00347769 0.00371411]\n",
      "[-0.02430097 -0.02172785 -0.01999234 ... -0.01600654 -0.018103\n",
      " -0.01443782]\n",
      "[-0.0380795  -0.0360707  -0.03187474 ... -0.00033318 -0.00186124\n",
      " -0.00339203]\n",
      "[-0.00258351  0.00421105 -0.00312384 ... -0.020855   -0.01960709\n",
      " -0.01275844]\n",
      "[-0.00691099 -0.01051105 -0.0143024  ...  0.01308498  0.00974018\n",
      " -0.00224841]\n",
      "[-0.00010406  0.00322321  0.0052832  ...  0.0061945   0.00499106\n",
      "  0.00151761]\n",
      "[ 0.01892485  0.02240387  0.02726241 ... -0.00280057 -0.00550144\n",
      " -0.01113927]\n",
      "[ 0.01288447  0.01414558  0.00942853 ...  0.00975032  0.00561955\n",
      " -0.00566277]\n",
      "[-0.3147417  -0.00833048  0.00146708 ...  0.00768816  0.0005667\n",
      "  0.00677945]\n",
      "[ 0.00083055 -0.00430509  0.01202593 ...  0.00316047  0.00085092\n",
      " -0.00367606]\n",
      "[ 0.00083055 -0.00430509  0.01202593 ...  0.00316047  0.00085092\n",
      " -0.00367606]\n",
      "[-0.00018543 -0.00756471  0.00491676 ...  0.01663148  0.00467685\n",
      "  0.01312243]\n",
      "[-0.00018543 -0.00756471  0.00491676 ...  0.01663148  0.00467685\n",
      "  0.01312243]\n",
      "[-0.00258441  0.01722472  0.01103276 ... -0.00091454  0.0031657\n",
      "  0.01596478]\n",
      "[-0.001215   -0.00705676  0.00193284 ... -0.0151456  -0.00783535\n",
      " -0.01975542]\n",
      "[-0.001215   -0.00705676  0.00193284 ... -0.0151456  -0.00783535\n",
      " -0.01975542]\n",
      "[-0.00396233  0.00639518  0.00062766 ...  0.00455281  0.00135151\n",
      " -0.00155043]\n",
      "(12, 50)\n"
     ]
    }
   ],
   "source": [
    "# convert to real with real_if_close\n",
    "eig_pairs = [(np.real_if_close(eig_pairs[i][0]), np.real(eig_pairs[i][1])) for i in range(len(eig_pairs))]\n",
    "\n",
    "# print first 10 vectors\n",
    "for i in range(20):\n",
    "    print(eig_pairs[i][1])\n",
    "    \n",
    "# transform to first 50 eigenvectors\n",
    "train_x_pca = np.array([np.dot(eig_pairs[i][1], flat.T) for i in range(50)]).T\n",
    "print(train_x_pca.shape)"
   ]
  },
  {
   "cell_type": "code",
   "execution_count": 129,
   "metadata": {},
   "outputs": [
    {
     "data": {
      "text/html": [
       "<style>#sk-container-id-7 {color: black;background-color: white;}#sk-container-id-7 pre{padding: 0;}#sk-container-id-7 div.sk-toggleable {background-color: white;}#sk-container-id-7 label.sk-toggleable__label {cursor: pointer;display: block;width: 100%;margin-bottom: 0;padding: 0.3em;box-sizing: border-box;text-align: center;}#sk-container-id-7 label.sk-toggleable__label-arrow:before {content: \"▸\";float: left;margin-right: 0.25em;color: #696969;}#sk-container-id-7 label.sk-toggleable__label-arrow:hover:before {color: black;}#sk-container-id-7 div.sk-estimator:hover label.sk-toggleable__label-arrow:before {color: black;}#sk-container-id-7 div.sk-toggleable__content {max-height: 0;max-width: 0;overflow: hidden;text-align: left;background-color: #f0f8ff;}#sk-container-id-7 div.sk-toggleable__content pre {margin: 0.2em;color: black;border-radius: 0.25em;background-color: #f0f8ff;}#sk-container-id-7 input.sk-toggleable__control:checked~div.sk-toggleable__content {max-height: 200px;max-width: 100%;overflow: auto;}#sk-container-id-7 input.sk-toggleable__control:checked~label.sk-toggleable__label-arrow:before {content: \"▾\";}#sk-container-id-7 div.sk-estimator input.sk-toggleable__control:checked~label.sk-toggleable__label {background-color: #d4ebff;}#sk-container-id-7 div.sk-label input.sk-toggleable__control:checked~label.sk-toggleable__label {background-color: #d4ebff;}#sk-container-id-7 input.sk-hidden--visually {border: 0;clip: rect(1px 1px 1px 1px);clip: rect(1px, 1px, 1px, 1px);height: 1px;margin: -1px;overflow: hidden;padding: 0;position: absolute;width: 1px;}#sk-container-id-7 div.sk-estimator {font-family: monospace;background-color: #f0f8ff;border: 1px dotted black;border-radius: 0.25em;box-sizing: border-box;margin-bottom: 0.5em;}#sk-container-id-7 div.sk-estimator:hover {background-color: #d4ebff;}#sk-container-id-7 div.sk-parallel-item::after {content: \"\";width: 100%;border-bottom: 1px solid gray;flex-grow: 1;}#sk-container-id-7 div.sk-label:hover label.sk-toggleable__label {background-color: #d4ebff;}#sk-container-id-7 div.sk-serial::before {content: \"\";position: absolute;border-left: 1px solid gray;box-sizing: border-box;top: 0;bottom: 0;left: 50%;z-index: 0;}#sk-container-id-7 div.sk-serial {display: flex;flex-direction: column;align-items: center;background-color: white;padding-right: 0.2em;padding-left: 0.2em;position: relative;}#sk-container-id-7 div.sk-item {position: relative;z-index: 1;}#sk-container-id-7 div.sk-parallel {display: flex;align-items: stretch;justify-content: center;background-color: white;position: relative;}#sk-container-id-7 div.sk-item::before, #sk-container-id-7 div.sk-parallel-item::before {content: \"\";position: absolute;border-left: 1px solid gray;box-sizing: border-box;top: 0;bottom: 0;left: 50%;z-index: -1;}#sk-container-id-7 div.sk-parallel-item {display: flex;flex-direction: column;z-index: 1;position: relative;background-color: white;}#sk-container-id-7 div.sk-parallel-item:first-child::after {align-self: flex-end;width: 50%;}#sk-container-id-7 div.sk-parallel-item:last-child::after {align-self: flex-start;width: 50%;}#sk-container-id-7 div.sk-parallel-item:only-child::after {width: 0;}#sk-container-id-7 div.sk-dashed-wrapped {border: 1px dashed gray;margin: 0 0.4em 0.5em 0.4em;box-sizing: border-box;padding-bottom: 0.4em;background-color: white;}#sk-container-id-7 div.sk-label label {font-family: monospace;font-weight: bold;display: inline-block;line-height: 1.2em;}#sk-container-id-7 div.sk-label-container {text-align: center;}#sk-container-id-7 div.sk-container {/* jupyter's `normalize.less` sets `[hidden] { display: none; }` but bootstrap.min.css set `[hidden] { display: none !important; }` so we also need the `!important` here to be able to override the default hidden behavior on the sphinx rendered scikit-learn.org. See: https://github.com/scikit-learn/scikit-learn/issues/21755 */display: inline-block !important;position: relative;}#sk-container-id-7 div.sk-text-repr-fallback {display: none;}</style><div id=\"sk-container-id-7\" class=\"sk-top-container\"><div class=\"sk-text-repr-fallback\"><pre>GaussianMixture(max_iter=1000, n_components=2, random_state=0)</pre><b>In a Jupyter environment, please rerun this cell to show the HTML representation or trust the notebook. <br />On GitHub, the HTML representation is unable to render, please try loading this page with nbviewer.org.</b></div><div class=\"sk-container\" hidden><div class=\"sk-item\"><div class=\"sk-estimator sk-toggleable\"><input class=\"sk-toggleable__control sk-hidden--visually\" id=\"sk-estimator-id-7\" type=\"checkbox\" checked><label for=\"sk-estimator-id-7\" class=\"sk-toggleable__label sk-toggleable__label-arrow\">GaussianMixture</label><div class=\"sk-toggleable__content\"><pre>GaussianMixture(max_iter=1000, n_components=2, random_state=0)</pre></div></div></div></div></div>"
      ],
      "text/plain": [
       "GaussianMixture(max_iter=1000, n_components=2, random_state=0)"
      ]
     },
     "execution_count": 129,
     "metadata": {},
     "output_type": "execute_result"
    }
   ],
   "source": [
    "#train GMM\n",
    "from sklearn.mixture import GaussianMixture\n",
    "gmm = GaussianMixture(n_components=CLASSES, covariance_type='full', max_iter=1000, random_state=0)\n",
    "gmm.means_ = np.array([train_x_pca[train_y == i].mean(axis=0) for i in range(1,CLASSES+1)])\n",
    "gmm.fit(train_x_pca)\n"
   ]
  },
  {
   "cell_type": "code",
   "execution_count": 130,
   "metadata": {},
   "outputs": [
    {
     "name": "stdout",
     "output_type": "stream",
     "text": [
      "[2 1 1 1 1 1 2 2 2 2 2 2]\n",
      "[1 1 1 1 1 1 2 2 2 2 2 2]\n",
      "Train data accuarcy:  0.9166666666666666\n"
     ]
    }
   ],
   "source": [
    "#train data accuarcy\n",
    "predict_y = gmm.predict(train_x_pca) + 1\n",
    "print(predict_y)\n",
    "print(train_y)\n",
    "\n",
    "print(\"Train data accuarcy: \", np.sum(predict_y == train_y)/len(train_y))"
   ]
  },
  {
   "cell_type": "code",
   "execution_count": 131,
   "metadata": {},
   "outputs": [
    {
     "name": "stdout",
     "output_type": "stream",
     "text": [
      "Processing file:  dev/1/f401_04_f18_i0_0.png\n",
      "Processing file:  dev/1/f401_04_r09_i0_0.png\n",
      "Processing file:  dev/2/f402_04_f18_i0_0.png\n",
      "Processing file:  dev/2/f402_04_r09_i0_0.png\n",
      "(4, 80, 80) (4,)\n",
      "(4, 50)\n"
     ]
    }
   ],
   "source": [
    "#create Test data\n",
    "test_x = np.empty((0,80,80))\n",
    "test_y = np.empty((0),dtype=int)\n",
    "\n",
    "for i in range(1,CLASSES+1): \n",
    "    test_i = np.array(list(png2fea('dev/'+str(i)).values()))\n",
    "    label_i = np.full(len(test_i),i)\n",
    "    #add to test_x\n",
    "    test_x = np.concatenate((test_x, test_i), axis=0)\n",
    "    test_y = np.concatenate((test_y,label_i),axis=0)\n",
    "print(test_x.shape, test_y.shape)\n",
    "\n",
    "# flatten test data\n",
    "test_x = test_x.reshape(test_x.shape[0],-1)\n",
    "\n",
    "# transform to first 50 eigenvectors\n",
    "test_x_pca = np.array([np.dot(eig_pairs[i][1], test_x.T) for i in range(50)]).T\n",
    "print(test_x_pca.shape)\n"
   ]
  },
  {
   "cell_type": "code",
   "execution_count": 132,
   "metadata": {},
   "outputs": [
    {
     "name": "stdout",
     "output_type": "stream",
     "text": [
      "[1 2 2 2]\n",
      "[1 1 2 2]\n",
      "Test data accuarcy:  0.75\n"
     ]
    }
   ],
   "source": [
    "#test data accuarcy\n",
    "predict_y = gmm.predict(test_x_pca) + 1\n",
    "print(predict_y)\n",
    "print(test_y)\n",
    "print(\"Test data accuarcy: \", np.sum(predict_y == test_y)/len(test_y))\n"
   ]
  }
 ],
 "metadata": {
  "kernelspec": {
   "display_name": "Python 3",
   "language": "python",
   "name": "python3"
  },
  "language_info": {
   "codemirror_mode": {
    "name": "ipython",
    "version": 3
   },
   "file_extension": ".py",
   "mimetype": "text/x-python",
   "name": "python",
   "nbconvert_exporter": "python",
   "pygments_lexer": "ipython3",
   "version": "3.10.10"
  }
 },
 "nbformat": 4,
 "nbformat_minor": 0
}
