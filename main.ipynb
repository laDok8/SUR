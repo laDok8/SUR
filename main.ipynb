{
 "cells": [
  {
   "cell_type": "code",
   "execution_count": 1,
   "metadata": {
    "ExecuteTime": {
     "end_time": "2023-04-29T21:16:11.629999821Z",
     "start_time": "2023-04-29T21:16:11.629497333Z"
    }
   },
   "outputs": [],
   "source": [
    "import os\n",
    "\n",
    "if not os.path.exists('SUR_projekt2022-2023.zip'):\n",
    "    !wget https://www.fit.vutbr.cz/study/courses/SUR/public/projekt_2022-2023/SUR_projekt2022-2023.zip\n",
    "    !unzip SUR_projekt2022-2023.zip\n",
    "if not os.path.exists('SUR_projekt2022-2023_eval.zip'):\n",
    "    !wget https://www.fit.vutbr.cz/study/courses/SUR/public/projekt_2022-2023/SUR_projekt2022-2023_eval.zip\n",
    "    !unzip SUR_projekt2022-2023_eval.zip"
   ]
  },
  {
   "cell_type": "code",
   "execution_count": 2,
   "outputs": [],
   "source": [
    "import matplotlib.pyplot as plt\n",
    "import numpy as np\n",
    "import torch\n",
    "from augment import augment_images\n",
    "import os\n",
    "import shutil\n",
    "\n",
    "import ikrlib as ikrl\n"
   ],
   "metadata": {
    "collapsed": false,
    "ExecuteTime": {
     "end_time": "2023-04-29T21:16:13.760345638Z",
     "start_time": "2023-04-29T21:16:11.629797512Z"
    }
   }
  },
  {
   "cell_type": "markdown",
   "metadata": {},
   "source": [
    "# Image\n",
    "## CNN"
   ]
  },
  {
   "cell_type": "code",
   "execution_count": 3,
   "metadata": {
    "ExecuteTime": {
     "end_time": "2023-04-29T21:16:16.049565024Z",
     "start_time": "2023-04-29T21:16:13.764612378Z"
    }
   },
   "outputs": [
    {
     "name": "stdout",
     "output_type": "stream",
     "text": [
      "Initialised with 8 image(s) found.\n",
      "Output directory set to train/1/out."
     ]
    },
    {
     "name": "stderr",
     "output_type": "stream",
     "text": [
      "Processing <PIL.Image.Image image mode=RGB size=80x80 at 0x7F52B94B0E20>: 100%|██████████| 10/10 [00:00<00:00, 453.37 Samples/s]               \n"
     ]
    },
    {
     "name": "stdout",
     "output_type": "stream",
     "text": [
      "Initialised with 8 image(s) found.\n",
      "Output directory set to train/2/out."
     ]
    },
    {
     "name": "stderr",
     "output_type": "stream",
     "text": [
      "Processing <PIL.Image.Image image mode=RGB size=80x80 at 0x7F52B94B1FC0>: 100%|██████████| 10/10 [00:00<00:00, 455.87 Samples/s]\n"
     ]
    },
    {
     "name": "stdout",
     "output_type": "stream",
     "text": [
      "Initialised with 8 image(s) found.\n",
      "Output directory set to train/3/out."
     ]
    },
    {
     "name": "stderr",
     "output_type": "stream",
     "text": [
      "Processing <PIL.Image.Image image mode=RGB size=80x80 at 0x7F52B94B0610>: 100%|██████████| 10/10 [00:00<00:00, 360.52 Samples/s]\n"
     ]
    },
    {
     "name": "stdout",
     "output_type": "stream",
     "text": [
      "Initialised with 8 image(s) found.\n",
      "Output directory set to train/4/out."
     ]
    },
    {
     "name": "stderr",
     "output_type": "stream",
     "text": [
      "Processing <PIL.Image.Image image mode=RGB size=80x80 at 0x7F52B94B31C0>: 100%|██████████| 10/10 [00:00<00:00, 336.21 Samples/s]\n"
     ]
    },
    {
     "name": "stdout",
     "output_type": "stream",
     "text": [
      "Initialised with 8 image(s) found.\n",
      "Output directory set to train/5/out."
     ]
    },
    {
     "name": "stderr",
     "output_type": "stream",
     "text": [
      "Processing <PIL.Image.Image image mode=RGB size=80x80 at 0x7F52B94B32B0>: 100%|██████████| 10/10 [00:00<00:00, 385.12 Samples/s]\n"
     ]
    },
    {
     "name": "stdout",
     "output_type": "stream",
     "text": [
      "Initialised with 8 image(s) found.\n",
      "Output directory set to train/6/out."
     ]
    },
    {
     "name": "stderr",
     "output_type": "stream",
     "text": [
      "Processing <PIL.Image.Image image mode=RGB size=80x80 at 0x7F52B94B3760>: 100%|██████████| 10/10 [00:00<00:00, 412.76 Samples/s]\n"
     ]
    },
    {
     "name": "stdout",
     "output_type": "stream",
     "text": [
      "Initialised with 8 image(s) found.\n",
      "Output directory set to train/7/out."
     ]
    },
    {
     "name": "stderr",
     "output_type": "stream",
     "text": [
      "Processing <PIL.Image.Image image mode=RGB size=80x80 at 0x7F52B94738E0>: 100%|██████████| 10/10 [00:00<00:00, 389.55 Samples/s]\n"
     ]
    },
    {
     "name": "stdout",
     "output_type": "stream",
     "text": [
      "Initialised with 8 image(s) found.\n",
      "Output directory set to train/8/out."
     ]
    },
    {
     "name": "stderr",
     "output_type": "stream",
     "text": [
      "Processing <PIL.Image.Image image mode=RGB size=80x80 at 0x7F52B9473FA0>: 100%|██████████| 10/10 [00:00<00:00, 408.79 Samples/s]\n"
     ]
    },
    {
     "name": "stdout",
     "output_type": "stream",
     "text": [
      "Initialised with 8 image(s) found.\n",
      "Output directory set to train/9/out."
     ]
    },
    {
     "name": "stderr",
     "output_type": "stream",
     "text": [
      "Processing <PIL.Image.Image image mode=RGB size=80x80 at 0x7F52B94B3C10>: 100%|██████████| 10/10 [00:00<00:00, 453.87 Samples/s]\n"
     ]
    },
    {
     "name": "stdout",
     "output_type": "stream",
     "text": [
      "Initialised with 8 image(s) found.\n",
      "Output directory set to train/10/out."
     ]
    },
    {
     "name": "stderr",
     "output_type": "stream",
     "text": [
      "Processing <PIL.Image.Image image mode=RGB size=80x80 at 0x7F52B94B3A60>: 100%|██████████| 10/10 [00:00<00:00, 380.99 Samples/s]\n"
     ]
    },
    {
     "name": "stdout",
     "output_type": "stream",
     "text": [
      "Initialised with 8 image(s) found.\n",
      "Output directory set to train/11/out."
     ]
    },
    {
     "name": "stderr",
     "output_type": "stream",
     "text": [
      "Processing <PIL.Image.Image image mode=RGB size=80x80 at 0x7F52B94B1CF0>: 100%|██████████| 10/10 [00:00<00:00, 319.92 Samples/s]\n"
     ]
    },
    {
     "name": "stdout",
     "output_type": "stream",
     "text": [
      "Initialised with 8 image(s) found.\n",
      "Output directory set to train/12/out."
     ]
    },
    {
     "name": "stderr",
     "output_type": "stream",
     "text": [
      "Processing <PIL.Image.Image image mode=RGB size=80x80 at 0x7F52B94B3040>: 100%|██████████| 10/10 [00:00<00:00, 336.62 Samples/s]\n"
     ]
    },
    {
     "name": "stdout",
     "output_type": "stream",
     "text": [
      "Initialised with 8 image(s) found.\n",
      "Output directory set to train/13/out."
     ]
    },
    {
     "name": "stderr",
     "output_type": "stream",
     "text": [
      "Processing <PIL.Image.Image image mode=RGB size=80x80 at 0x7F52B94B2110>: 100%|██████████| 10/10 [00:00<00:00, 428.26 Samples/s]\n"
     ]
    },
    {
     "name": "stdout",
     "output_type": "stream",
     "text": [
      "Initialised with 8 image(s) found.\n",
      "Output directory set to train/14/out."
     ]
    },
    {
     "name": "stderr",
     "output_type": "stream",
     "text": [
      "Processing <PIL.Image.Image image mode=RGB size=80x80 at 0x7F52B9470490>: 100%|██████████| 10/10 [00:00<00:00, 343.88 Samples/s]\n"
     ]
    },
    {
     "name": "stdout",
     "output_type": "stream",
     "text": [
      "Initialised with 8 image(s) found.\n",
      "Output directory set to train/15/out."
     ]
    },
    {
     "name": "stderr",
     "output_type": "stream",
     "text": [
      "Processing <PIL.Image.Image image mode=RGB size=80x80 at 0x7F52B94B1000>: 100%|██████████| 10/10 [00:00<00:00, 324.33 Samples/s]\n"
     ]
    },
    {
     "name": "stdout",
     "output_type": "stream",
     "text": [
      "Initialised with 8 image(s) found.\n",
      "Output directory set to train/16/out."
     ]
    },
    {
     "name": "stderr",
     "output_type": "stream",
     "text": [
      "Processing <PIL.Image.Image image mode=RGB size=80x80 at 0x7F52B94B32B0>: 100%|██████████| 10/10 [00:00<00:00, 322.88 Samples/s]\n"
     ]
    },
    {
     "name": "stdout",
     "output_type": "stream",
     "text": [
      "Initialised with 8 image(s) found.\n",
      "Output directory set to train/17/out."
     ]
    },
    {
     "name": "stderr",
     "output_type": "stream",
     "text": [
      "Processing <PIL.Image.Image image mode=RGB size=80x80 at 0x7F52B94B3EE0>: 100%|██████████| 10/10 [00:00<00:00, 277.00 Samples/s]\n"
     ]
    },
    {
     "name": "stdout",
     "output_type": "stream",
     "text": [
      "Initialised with 8 image(s) found.\n",
      "Output directory set to train/18/out."
     ]
    },
    {
     "name": "stderr",
     "output_type": "stream",
     "text": [
      "Processing <PIL.Image.Image image mode=RGB size=80x80 at 0x7F52B94B3A30>: 100%|██████████| 10/10 [00:00<00:00, 346.03 Samples/s]\n"
     ]
    },
    {
     "name": "stdout",
     "output_type": "stream",
     "text": [
      "Initialised with 8 image(s) found.\n",
      "Output directory set to train/19/out."
     ]
    },
    {
     "name": "stderr",
     "output_type": "stream",
     "text": [
      "Processing <PIL.Image.Image image mode=RGB size=80x80 at 0x7F52B94B2F50>: 100%|██████████| 10/10 [00:00<00:00, 298.87 Samples/s]\n"
     ]
    },
    {
     "name": "stdout",
     "output_type": "stream",
     "text": [
      "Initialised with 8 image(s) found.\n",
      "Output directory set to train/20/out."
     ]
    },
    {
     "name": "stderr",
     "output_type": "stream",
     "text": [
      "Processing <PIL.Image.Image image mode=RGB size=80x80 at 0x7F52B94B0FA0>: 100%|██████████| 10/10 [00:00<00:00, 298.67 Samples/s]\n"
     ]
    },
    {
     "name": "stdout",
     "output_type": "stream",
     "text": [
      "Initialised with 8 image(s) found.\n",
      "Output directory set to train/21/out."
     ]
    },
    {
     "name": "stderr",
     "output_type": "stream",
     "text": [
      "Processing <PIL.Image.Image image mode=RGB size=80x80 at 0x7F52B94B3190>: 100%|██████████| 10/10 [00:00<00:00, 342.29 Samples/s]\n"
     ]
    },
    {
     "name": "stdout",
     "output_type": "stream",
     "text": [
      "Initialised with 8 image(s) found.\n",
      "Output directory set to train/22/out."
     ]
    },
    {
     "name": "stderr",
     "output_type": "stream",
     "text": [
      "Processing <PIL.Image.Image image mode=RGB size=80x80 at 0x7F52B94B2380>: 100%|██████████| 10/10 [00:00<00:00, 309.62 Samples/s]\n"
     ]
    },
    {
     "name": "stdout",
     "output_type": "stream",
     "text": [
      "Initialised with 8 image(s) found.\n",
      "Output directory set to train/23/out."
     ]
    },
    {
     "name": "stderr",
     "output_type": "stream",
     "text": [
      "Processing <PIL.Image.Image image mode=RGB size=80x80 at 0x7F52B94B2F80>: 100%|██████████| 10/10 [00:00<00:00, 351.70 Samples/s]               \n"
     ]
    },
    {
     "name": "stdout",
     "output_type": "stream",
     "text": [
      "Initialised with 8 image(s) found.\n",
      "Output directory set to train/24/out."
     ]
    },
    {
     "name": "stderr",
     "output_type": "stream",
     "text": [
      "Processing <PIL.Image.Image image mode=RGB size=80x80 at 0x7F52B94B14B0>: 100%|██████████| 10/10 [00:00<00:00, 347.48 Samples/s]\n"
     ]
    },
    {
     "name": "stdout",
     "output_type": "stream",
     "text": [
      "Initialised with 8 image(s) found.\n",
      "Output directory set to train/25/out."
     ]
    },
    {
     "name": "stderr",
     "output_type": "stream",
     "text": [
      "Processing <PIL.Image.Image image mode=RGB size=80x80 at 0x7F52B94B0610>: 100%|██████████| 10/10 [00:00<00:00, 383.03 Samples/s]      \n"
     ]
    },
    {
     "name": "stdout",
     "output_type": "stream",
     "text": [
      "Initialised with 8 image(s) found.\n",
      "Output directory set to train/26/out."
     ]
    },
    {
     "name": "stderr",
     "output_type": "stream",
     "text": [
      "Processing <PIL.Image.Image image mode=RGB size=80x80 at 0x7F52B94B0C40>: 100%|██████████| 10/10 [00:00<00:00, 318.81 Samples/s]\n"
     ]
    },
    {
     "name": "stdout",
     "output_type": "stream",
     "text": [
      "Initialised with 8 image(s) found.\n",
      "Output directory set to train/27/out."
     ]
    },
    {
     "name": "stderr",
     "output_type": "stream",
     "text": [
      "Processing <PIL.Image.Image image mode=RGB size=80x80 at 0x7F52B94B3370>: 100%|██████████| 10/10 [00:00<00:00, 345.41 Samples/s]      \n"
     ]
    },
    {
     "name": "stdout",
     "output_type": "stream",
     "text": [
      "Initialised with 8 image(s) found.\n",
      "Output directory set to train/28/out."
     ]
    },
    {
     "name": "stderr",
     "output_type": "stream",
     "text": [
      "Processing <PIL.Image.Image image mode=RGB size=80x80 at 0x7F52B94B0CD0>: 100%|██████████| 10/10 [00:00<00:00, 370.55 Samples/s]\n"
     ]
    },
    {
     "name": "stdout",
     "output_type": "stream",
     "text": [
      "Initialised with 8 image(s) found.\n",
      "Output directory set to train/29/out."
     ]
    },
    {
     "name": "stderr",
     "output_type": "stream",
     "text": [
      "Processing <PIL.Image.Image image mode=RGB size=80x80 at 0x7F52B94B2470>: 100%|██████████| 10/10 [00:00<00:00, 375.19 Samples/s]\n"
     ]
    },
    {
     "name": "stdout",
     "output_type": "stream",
     "text": [
      "Initialised with 8 image(s) found.\n",
      "Output directory set to train/30/out."
     ]
    },
    {
     "name": "stderr",
     "output_type": "stream",
     "text": [
      "Processing <PIL.Image.Image image mode=RGB size=80x80 at 0x7F52B94B23B0>: 100%|██████████| 10/10 [00:00<00:00, 348.47 Samples/s]      \n"
     ]
    },
    {
     "name": "stdout",
     "output_type": "stream",
     "text": [
      "Initialised with 8 image(s) found.\n",
      "Output directory set to train/31/out."
     ]
    },
    {
     "name": "stderr",
     "output_type": "stream",
     "text": [
      "Processing <PIL.Image.Image image mode=RGB size=80x80 at 0x7F52B94B15D0>: 100%|██████████| 10/10 [00:00<00:00, 353.70 Samples/s]\n"
     ]
    },
    {
     "name": "stdout",
     "output_type": "stream",
     "text": [
      "Initialised with 2 image(s) found.\n",
      "Output directory set to dev/1/out."
     ]
    },
    {
     "name": "stderr",
     "output_type": "stream",
     "text": [
      "Processing <PIL.Image.Image image mode=RGB size=80x80 at 0x7F52B94B0CA0>: 100%|██████████| 10/10 [00:00<00:00, 329.62 Samples/s]\n"
     ]
    },
    {
     "name": "stdout",
     "output_type": "stream",
     "text": [
      "Initialised with 2 image(s) found.\n",
      "Output directory set to dev/2/out."
     ]
    },
    {
     "name": "stderr",
     "output_type": "stream",
     "text": [
      "Processing <PIL.Image.Image image mode=RGB size=80x80 at 0x7F52B94B2860>: 100%|██████████| 10/10 [00:00<00:00, 405.22 Samples/s]\n"
     ]
    },
    {
     "name": "stdout",
     "output_type": "stream",
     "text": [
      "Initialised with 2 image(s) found.\n",
      "Output directory set to dev/3/out."
     ]
    },
    {
     "name": "stderr",
     "output_type": "stream",
     "text": [
      "Processing <PIL.Image.Image image mode=RGB size=80x80 at 0x7F52B94B3070>: 100%|██████████| 10/10 [00:00<00:00, 341.83 Samples/s]\n"
     ]
    },
    {
     "name": "stdout",
     "output_type": "stream",
     "text": [
      "Initialised with 2 image(s) found.\n",
      "Output directory set to dev/4/out."
     ]
    },
    {
     "name": "stderr",
     "output_type": "stream",
     "text": [
      "Processing <PIL.Image.Image image mode=RGB size=80x80 at 0x7F52B94728F0>: 100%|██████████| 10/10 [00:00<00:00, 348.40 Samples/s]\n"
     ]
    },
    {
     "name": "stdout",
     "output_type": "stream",
     "text": [
      "Initialised with 2 image(s) found.\n",
      "Output directory set to dev/5/out."
     ]
    },
    {
     "name": "stderr",
     "output_type": "stream",
     "text": [
      "Processing <PIL.Image.Image image mode=RGB size=80x80 at 0x7F52B94B2C50>: 100%|██████████| 10/10 [00:00<00:00, 367.58 Samples/s]\n"
     ]
    },
    {
     "name": "stdout",
     "output_type": "stream",
     "text": [
      "Initialised with 2 image(s) found.\n",
      "Output directory set to dev/6/out."
     ]
    },
    {
     "name": "stderr",
     "output_type": "stream",
     "text": [
      "Processing <PIL.Image.Image image mode=RGB size=80x80 at 0x7F52B94B0820>: 100%|██████████| 10/10 [00:00<00:00, 312.66 Samples/s]\n"
     ]
    },
    {
     "name": "stdout",
     "output_type": "stream",
     "text": [
      "Initialised with 2 image(s) found.\n",
      "Output directory set to dev/7/out."
     ]
    },
    {
     "name": "stderr",
     "output_type": "stream",
     "text": [
      "Processing <PIL.Image.Image image mode=RGB size=80x80 at 0x7F52B94B3100>: 100%|██████████| 10/10 [00:00<00:00, 317.95 Samples/s]\n"
     ]
    },
    {
     "name": "stdout",
     "output_type": "stream",
     "text": [
      "Initialised with 2 image(s) found.\n",
      "Output directory set to dev/8/out."
     ]
    },
    {
     "name": "stderr",
     "output_type": "stream",
     "text": [
      "Processing <PIL.Image.Image image mode=RGB size=80x80 at 0x7F52B94B0EB0>: 100%|██████████| 10/10 [00:00<00:00, 344.11 Samples/s]\n"
     ]
    },
    {
     "name": "stdout",
     "output_type": "stream",
     "text": [
      "Initialised with 2 image(s) found.\n",
      "Output directory set to dev/9/out."
     ]
    },
    {
     "name": "stderr",
     "output_type": "stream",
     "text": [
      "Processing <PIL.Image.Image image mode=RGB size=80x80 at 0x7F52B94728C0>: 100%|██████████| 10/10 [00:00<00:00, 381.71 Samples/s]\n"
     ]
    },
    {
     "name": "stdout",
     "output_type": "stream",
     "text": [
      "Initialised with 2 image(s) found.\n",
      "Output directory set to dev/10/out."
     ]
    },
    {
     "name": "stderr",
     "output_type": "stream",
     "text": [
      "Processing <PIL.Image.Image image mode=RGB size=80x80 at 0x7F52B94B3EE0>: 100%|██████████| 10/10 [00:00<00:00, 377.70 Samples/s]\n"
     ]
    },
    {
     "name": "stdout",
     "output_type": "stream",
     "text": [
      "Initialised with 2 image(s) found.\n",
      "Output directory set to dev/11/out."
     ]
    },
    {
     "name": "stderr",
     "output_type": "stream",
     "text": [
      "Processing <PIL.PngImagePlugin.PngImageFile image mode=RGB size=80x80 at 0x7F52B94B09D0>: 100%|██████████| 10/10 [00:00<00:00, 335.58 Samples/s]\n"
     ]
    },
    {
     "name": "stdout",
     "output_type": "stream",
     "text": [
      "Initialised with 2 image(s) found.\n",
      "Output directory set to dev/12/out."
     ]
    },
    {
     "name": "stderr",
     "output_type": "stream",
     "text": [
      "Processing <PIL.Image.Image image mode=RGB size=80x80 at 0x7F52B94B3F10>: 100%|██████████| 10/10 [00:00<00:00, 342.32 Samples/s]\n"
     ]
    },
    {
     "name": "stdout",
     "output_type": "stream",
     "text": [
      "Initialised with 2 image(s) found.\n",
      "Output directory set to dev/13/out."
     ]
    },
    {
     "name": "stderr",
     "output_type": "stream",
     "text": [
      "Processing <PIL.Image.Image image mode=RGB size=80x80 at 0x7F52B94B3820>: 100%|██████████| 10/10 [00:00<00:00, 390.22 Samples/s]\n"
     ]
    },
    {
     "name": "stdout",
     "output_type": "stream",
     "text": [
      "Initialised with 2 image(s) found.\n",
      "Output directory set to dev/14/out."
     ]
    },
    {
     "name": "stderr",
     "output_type": "stream",
     "text": [
      "Processing <PIL.Image.Image image mode=RGB size=80x80 at 0x7F52B94B1EA0>: 100%|██████████| 10/10 [00:00<00:00, 375.89 Samples/s]\n"
     ]
    },
    {
     "name": "stdout",
     "output_type": "stream",
     "text": [
      "Initialised with 2 image(s) found.\n",
      "Output directory set to dev/15/out."
     ]
    },
    {
     "name": "stderr",
     "output_type": "stream",
     "text": [
      "Processing <PIL.Image.Image image mode=RGB size=80x80 at 0x7F52B94B32E0>: 100%|██████████| 10/10 [00:00<00:00, 366.61 Samples/s]\n"
     ]
    },
    {
     "name": "stdout",
     "output_type": "stream",
     "text": [
      "Initialised with 2 image(s) found.\n",
      "Output directory set to dev/16/out."
     ]
    },
    {
     "name": "stderr",
     "output_type": "stream",
     "text": [
      "Processing <PIL.Image.Image image mode=RGB size=80x80 at 0x7F52B94B27A0>: 100%|██████████| 10/10 [00:00<00:00, 339.71 Samples/s]\n"
     ]
    },
    {
     "name": "stdout",
     "output_type": "stream",
     "text": [
      "Initialised with 2 image(s) found.\n",
      "Output directory set to dev/17/out."
     ]
    },
    {
     "name": "stderr",
     "output_type": "stream",
     "text": [
      "Processing <PIL.Image.Image image mode=RGB size=80x80 at 0x7F52B94B1000>: 100%|██████████| 10/10 [00:00<00:00, 391.02 Samples/s]\n"
     ]
    },
    {
     "name": "stdout",
     "output_type": "stream",
     "text": [
      "Initialised with 2 image(s) found.\n",
      "Output directory set to dev/18/out."
     ]
    },
    {
     "name": "stderr",
     "output_type": "stream",
     "text": [
      "Processing <PIL.Image.Image image mode=RGB size=80x80 at 0x7F52B94B0760>: 100%|██████████| 10/10 [00:00<00:00, 382.42 Samples/s]\n"
     ]
    },
    {
     "name": "stdout",
     "output_type": "stream",
     "text": [
      "Initialised with 2 image(s) found.\n",
      "Output directory set to dev/19/out."
     ]
    },
    {
     "name": "stderr",
     "output_type": "stream",
     "text": [
      "Processing <PIL.Image.Image image mode=RGB size=80x80 at 0x7F52B94B20B0>: 100%|██████████| 10/10 [00:00<00:00, 385.13 Samples/s]\n"
     ]
    },
    {
     "name": "stdout",
     "output_type": "stream",
     "text": [
      "Initialised with 2 image(s) found.\n",
      "Output directory set to dev/20/out."
     ]
    },
    {
     "name": "stderr",
     "output_type": "stream",
     "text": [
      "Processing <PIL.Image.Image image mode=RGB size=80x80 at 0x7F52B94B0E20>: 100%|██████████| 10/10 [00:00<00:00, 308.13 Samples/s]               \n"
     ]
    },
    {
     "name": "stdout",
     "output_type": "stream",
     "text": [
      "Initialised with 2 image(s) found.\n",
      "Output directory set to dev/21/out."
     ]
    },
    {
     "name": "stderr",
     "output_type": "stream",
     "text": [
      "Processing <PIL.Image.Image image mode=RGB size=80x80 at 0x7F52B94B3820>: 100%|██████████| 10/10 [00:00<00:00, 375.67 Samples/s]\n"
     ]
    },
    {
     "name": "stdout",
     "output_type": "stream",
     "text": [
      "Initialised with 2 image(s) found.\n",
      "Output directory set to dev/22/out."
     ]
    },
    {
     "name": "stderr",
     "output_type": "stream",
     "text": [
      "Processing <PIL.Image.Image image mode=RGB size=80x80 at 0x7F52B94B3B50>: 100%|██████████| 10/10 [00:00<00:00, 459.84 Samples/s]\n"
     ]
    },
    {
     "name": "stdout",
     "output_type": "stream",
     "text": [
      "Initialised with 2 image(s) found.\n",
      "Output directory set to dev/23/out."
     ]
    },
    {
     "name": "stderr",
     "output_type": "stream",
     "text": [
      "Processing <PIL.Image.Image image mode=RGB size=80x80 at 0x7F52B94B2B30>: 100%|██████████| 10/10 [00:00<00:00, 422.65 Samples/s]\n"
     ]
    },
    {
     "name": "stdout",
     "output_type": "stream",
     "text": [
      "Initialised with 2 image(s) found.\n",
      "Output directory set to dev/24/out."
     ]
    },
    {
     "name": "stderr",
     "output_type": "stream",
     "text": [
      "Processing <PIL.Image.Image image mode=RGB size=80x80 at 0x7F52B94B3370>: 100%|██████████| 10/10 [00:00<00:00, 392.26 Samples/s]\n"
     ]
    },
    {
     "name": "stdout",
     "output_type": "stream",
     "text": [
      "Initialised with 2 image(s) found.\n",
      "Output directory set to dev/25/out."
     ]
    },
    {
     "name": "stderr",
     "output_type": "stream",
     "text": [
      "Processing <PIL.Image.Image image mode=RGB size=80x80 at 0x7F52B94B2DD0>: 100%|██████████| 10/10 [00:00<00:00, 346.68 Samples/s]\n"
     ]
    },
    {
     "name": "stdout",
     "output_type": "stream",
     "text": [
      "Initialised with 2 image(s) found.\n",
      "Output directory set to dev/26/out."
     ]
    },
    {
     "name": "stderr",
     "output_type": "stream",
     "text": [
      "Processing <PIL.Image.Image image mode=RGB size=80x80 at 0x7F52B94B3F10>: 100%|██████████| 10/10 [00:00<00:00, 357.13 Samples/s]\n"
     ]
    },
    {
     "name": "stdout",
     "output_type": "stream",
     "text": [
      "Initialised with 2 image(s) found.\n",
      "Output directory set to dev/27/out."
     ]
    },
    {
     "name": "stderr",
     "output_type": "stream",
     "text": [
      "Processing <PIL.Image.Image image mode=RGB size=80x80 at 0x7F52B9473AF0>: 100%|██████████| 10/10 [00:00<00:00, 360.46 Samples/s]\n"
     ]
    },
    {
     "name": "stdout",
     "output_type": "stream",
     "text": [
      "Initialised with 2 image(s) found.\n",
      "Output directory set to dev/28/out."
     ]
    },
    {
     "name": "stderr",
     "output_type": "stream",
     "text": [
      "Processing <PIL.Image.Image image mode=RGB size=80x80 at 0x7F52B94B0A90>: 100%|██████████| 10/10 [00:00<00:00, 379.11 Samples/s]\n"
     ]
    },
    {
     "name": "stdout",
     "output_type": "stream",
     "text": [
      "Initialised with 2 image(s) found.\n",
      "Output directory set to dev/29/out."
     ]
    },
    {
     "name": "stderr",
     "output_type": "stream",
     "text": [
      "Processing <PIL.Image.Image image mode=RGB size=80x80 at 0x7F52B94739D0>: 100%|██████████| 10/10 [00:00<00:00, 420.57 Samples/s]      \n"
     ]
    },
    {
     "name": "stdout",
     "output_type": "stream",
     "text": [
      "Initialised with 2 image(s) found.\n",
      "Output directory set to dev/30/out."
     ]
    },
    {
     "name": "stderr",
     "output_type": "stream",
     "text": [
      "Processing <PIL.Image.Image image mode=RGB size=80x80 at 0x7F52B94B07C0>: 100%|██████████| 10/10 [00:00<00:00, 402.97 Samples/s]\n"
     ]
    },
    {
     "name": "stdout",
     "output_type": "stream",
     "text": [
      "Initialised with 2 image(s) found.\n",
      "Output directory set to dev/31/out."
     ]
    },
    {
     "name": "stderr",
     "output_type": "stream",
     "text": [
      "Processing <PIL.Image.Image image mode=RGB size=80x80 at 0x7F52B94B3AC0>: 100%|██████████| 10/10 [00:00<00:00, 367.27 Samples/s]\n"
     ]
    }
   ],
   "source": [
    "data_augmentation_enabled = True\n",
    "\n",
    "\n",
    "CLASSES = 31\n",
    "\n",
    "#copy all to train\n",
    "for cls in range(1, CLASSES + 1):\n",
    "    for f in os.listdir(os.path.join(\"dev\", str(cls))):\n",
    "       shutil.copy(os.path.join(\"dev\", str(cls), f), os.path.join(\"train\", str(cls), f))\n",
    "\n",
    "\n",
    "if data_augmentation_enabled:\n",
    "    augment_images('train', 'train/da')\n",
    "    augment_images('dev', 'dev/da')"
   ]
  },
  {
   "cell_type": "code",
   "execution_count": 4,
   "metadata": {
    "ExecuteTime": {
     "end_time": "2023-04-29T21:16:39.209105485Z",
     "start_time": "2023-04-29T21:16:15.933964485Z"
    }
   },
   "outputs": [
    {
     "name": "stdout",
     "output_type": "stream",
     "text": [
      "Images were successfully loaded\n",
      "Dataset was successfully created\n",
      "Epoch: 1/100, Loss: 115.7557, Accuracy: 0.0484, 3 and 62\n",
      "Epoch: 51/100, Loss: 4.8254, Accuracy: 0.9677, 60 and 62\n",
      "Epoch: 100/100, Loss: 0.9425, Accuracy: 0.9677, 60 and 62\n",
      "Model was successfully trained\n"
     ]
    }
   ],
   "source": [
    "from image import CustomDataset, CNNModel\n",
    "\n",
    "\n",
    "\n",
    "train_x = np.empty((0, 80, 80, 3))\n",
    "train_y = np.empty((0), dtype=int)\n",
    "\n",
    "test_x = np.empty((0, 80, 80, 3))\n",
    "test_y = np.empty((0), dtype=int)\n",
    "\n",
    "for i in range(1, CLASSES + 1):\n",
    "    train_i = np.array(list(ikrl.png_load(os.path.join(\"train\", str(i)), False).values()))\n",
    "    label_i = np.full(len(train_i), i - 1)\n",
    "    train_x = np.concatenate((train_x, train_i), axis=0)\n",
    "    train_y = np.concatenate((train_y, label_i), axis=0)\n",
    "\n",
    "    test_i = np.array(list(ikrl.png_load(os.path.join(\"dev\", str(i)), False).values()))\n",
    "    label_i = np.full(len(test_i), i - 1)\n",
    "    test_x = np.concatenate((test_x, test_i), axis=0)\n",
    "    test_y = np.concatenate((test_y, label_i), axis=0)\n",
    "\n",
    "print(\"Images were successfully loaded\")\n",
    "\n",
    "# convert 80,80,3 to 3,80,80\n",
    "train_x = np.array(train_x)\n",
    "train_x = np.transpose(train_x, (0, 3, 1, 2))\n",
    "\n",
    "test_x = np.array(test_x)\n",
    "test_x = np.transpose(test_x, (0, 3, 1, 2))\n",
    "\n",
    "# Convert NumPy arrays to PyTorch tensors\n",
    "train_tensors = torch.Tensor(train_x)\n",
    "test_tensors = torch.Tensor(test_x)\n",
    "\n",
    "# Create new TensorDataset instances with the modified labels\n",
    "train_dataset = CustomDataset(train_tensors, train_y)\n",
    "test_dataset = CustomDataset(test_tensors, test_y)\n",
    "print(\"Dataset was successfully created\")\n",
    "\n",
    "model = CNNModel(num_classes=31, lr=1e-4)\n",
    "model.train_net(train_dataset, test_dataset, num_epochs=100)\n",
    "print(\"Model was successfully trained\")\n"
   ]
  },
  {
   "cell_type": "code",
   "execution_count": 32,
   "metadata": {
    "ExecuteTime": {
     "end_time": "2023-04-29T21:44:12.027532010Z",
     "start_time": "2023-04-29T21:44:08.205809043Z"
    }
   },
   "outputs": [
    {
     "name": "stdout",
     "output_type": "stream",
     "text": [
      "(80, 80, 3)\n",
      "(1, 3, 80, 80)\n",
      "(80, 80, 3)\n",
      "(1, 3, 80, 80)\n",
      "(80, 80, 3)\n",
      "(1, 3, 80, 80)\n",
      "(80, 80, 3)\n",
      "(1, 3, 80, 80)\n",
      "(80, 80, 3)\n",
      "(1, 3, 80, 80)\n",
      "(80, 80, 3)\n",
      "(1, 3, 80, 80)\n",
      "(80, 80, 3)\n",
      "(1, 3, 80, 80)\n",
      "(80, 80, 3)\n",
      "(1, 3, 80, 80)\n",
      "(80, 80, 3)\n",
      "(1, 3, 80, 80)\n",
      "(80, 80, 3)\n",
      "(1, 3, 80, 80)\n",
      "(80, 80, 3)\n",
      "(1, 3, 80, 80)\n",
      "(80, 80, 3)\n",
      "(1, 3, 80, 80)\n",
      "(80, 80, 3)\n",
      "(1, 3, 80, 80)\n",
      "(80, 80, 3)\n",
      "(1, 3, 80, 80)\n",
      "(80, 80, 3)\n",
      "(1, 3, 80, 80)\n",
      "(80, 80, 3)\n",
      "(1, 3, 80, 80)\n",
      "(80, 80, 3)\n",
      "(1, 3, 80, 80)\n",
      "(80, 80, 3)\n",
      "(1, 3, 80, 80)\n",
      "(80, 80, 3)\n",
      "(1, 3, 80, 80)\n",
      "(80, 80, 3)\n",
      "(1, 3, 80, 80)\n",
      "(80, 80, 3)\n",
      "(1, 3, 80, 80)\n",
      "(80, 80, 3)\n",
      "(1, 3, 80, 80)\n",
      "(80, 80, 3)\n",
      "(1, 3, 80, 80)\n",
      "(80, 80, 3)\n",
      "(1, 3, 80, 80)\n",
      "(80, 80, 3)\n",
      "(1, 3, 80, 80)\n",
      "(80, 80, 3)\n",
      "(1, 3, 80, 80)\n",
      "(80, 80, 3)\n",
      "(1, 3, 80, 80)\n",
      "(80, 80, 3)\n",
      "(1, 3, 80, 80)\n",
      "(80, 80, 3)\n",
      "(1, 3, 80, 80)\n",
      "(80, 80, 3)\n",
      "(1, 3, 80, 80)\n",
      "(80, 80, 3)\n",
      "(1, 3, 80, 80)\n",
      "(80, 80, 3)\n",
      "(1, 3, 80, 80)\n",
      "(80, 80, 3)\n",
      "(1, 3, 80, 80)\n",
      "(80, 80, 3)\n",
      "(1, 3, 80, 80)\n",
      "(80, 80, 3)\n",
      "(1, 3, 80, 80)\n",
      "(80, 80, 3)\n",
      "(1, 3, 80, 80)\n",
      "(80, 80, 3)\n",
      "(1, 3, 80, 80)\n",
      "(80, 80, 3)\n",
      "(1, 3, 80, 80)\n",
      "(80, 80, 3)\n",
      "(1, 3, 80, 80)\n",
      "(80, 80, 3)\n",
      "(1, 3, 80, 80)\n",
      "(80, 80, 3)\n",
      "(1, 3, 80, 80)\n",
      "(80, 80, 3)\n",
      "(1, 3, 80, 80)\n",
      "(80, 80, 3)\n",
      "(1, 3, 80, 80)\n",
      "(80, 80, 3)\n",
      "(1, 3, 80, 80)\n",
      "(80, 80, 3)\n",
      "(1, 3, 80, 80)\n",
      "(80, 80, 3)\n",
      "(1, 3, 80, 80)\n",
      "(80, 80, 3)\n",
      "(1, 3, 80, 80)\n",
      "(80, 80, 3)\n",
      "(1, 3, 80, 80)\n",
      "(80, 80, 3)\n",
      "(1, 3, 80, 80)\n",
      "(80, 80, 3)\n",
      "(1, 3, 80, 80)\n",
      "(80, 80, 3)\n",
      "(1, 3, 80, 80)\n",
      "(80, 80, 3)\n",
      "(1, 3, 80, 80)\n",
      "(80, 80, 3)\n",
      "(1, 3, 80, 80)\n",
      "(80, 80, 3)\n",
      "(1, 3, 80, 80)\n",
      "(80, 80, 3)\n",
      "(1, 3, 80, 80)\n",
      "(80, 80, 3)\n",
      "(1, 3, 80, 80)\n",
      "(80, 80, 3)\n",
      "(1, 3, 80, 80)\n",
      "(80, 80, 3)\n",
      "(1, 3, 80, 80)\n",
      "(80, 80, 3)\n",
      "(1, 3, 80, 80)\n",
      "(80, 80, 3)\n",
      "(1, 3, 80, 80)\n",
      "(80, 80, 3)\n",
      "(1, 3, 80, 80)\n",
      "(80, 80, 3)\n",
      "(1, 3, 80, 80)\n",
      "(80, 80, 3)\n",
      "(1, 3, 80, 80)\n",
      "(80, 80, 3)\n",
      "(1, 3, 80, 80)\n",
      "(80, 80, 3)\n",
      "(1, 3, 80, 80)\n",
      "(80, 80, 3)\n",
      "(1, 3, 80, 80)\n",
      "(80, 80, 3)\n",
      "(1, 3, 80, 80)\n",
      "(80, 80, 3)\n",
      "(1, 3, 80, 80)\n",
      "(80, 80, 3)\n",
      "(1, 3, 80, 80)\n",
      "(80, 80, 3)\n",
      "(1, 3, 80, 80)\n",
      "(80, 80, 3)\n",
      "(1, 3, 80, 80)\n",
      "(80, 80, 3)\n",
      "(1, 3, 80, 80)\n",
      "(80, 80, 3)\n",
      "(1, 3, 80, 80)\n",
      "(80, 80, 3)\n",
      "(1, 3, 80, 80)\n",
      "(80, 80, 3)\n",
      "(1, 3, 80, 80)\n",
      "(80, 80, 3)\n",
      "(1, 3, 80, 80)\n",
      "(80, 80, 3)\n",
      "(1, 3, 80, 80)\n",
      "(80, 80, 3)\n",
      "(1, 3, 80, 80)\n",
      "(80, 80, 3)\n",
      "(1, 3, 80, 80)\n",
      "(80, 80, 3)\n",
      "(1, 3, 80, 80)\n",
      "(80, 80, 3)\n",
      "(1, 3, 80, 80)\n",
      "(80, 80, 3)\n",
      "(1, 3, 80, 80)\n",
      "(80, 80, 3)\n",
      "(1, 3, 80, 80)\n",
      "(80, 80, 3)\n",
      "(1, 3, 80, 80)\n",
      "(80, 80, 3)\n",
      "(1, 3, 80, 80)\n",
      "(80, 80, 3)\n",
      "(1, 3, 80, 80)\n",
      "(80, 80, 3)\n",
      "(1, 3, 80, 80)\n",
      "(80, 80, 3)\n",
      "(1, 3, 80, 80)\n",
      "(80, 80, 3)\n",
      "(1, 3, 80, 80)\n",
      "(80, 80, 3)\n",
      "(1, 3, 80, 80)\n",
      "(80, 80, 3)\n",
      "(1, 3, 80, 80)\n",
      "(80, 80, 3)\n",
      "(1, 3, 80, 80)\n",
      "(80, 80, 3)\n",
      "(1, 3, 80, 80)\n",
      "(80, 80, 3)\n",
      "(1, 3, 80, 80)\n",
      "(80, 80, 3)\n",
      "(1, 3, 80, 80)\n",
      "(80, 80, 3)\n",
      "(1, 3, 80, 80)\n",
      "(80, 80, 3)\n",
      "(1, 3, 80, 80)\n",
      "(80, 80, 3)\n",
      "(1, 3, 80, 80)\n",
      "(80, 80, 3)\n",
      "(1, 3, 80, 80)\n",
      "(80, 80, 3)\n",
      "(1, 3, 80, 80)\n",
      "(80, 80, 3)\n",
      "(1, 3, 80, 80)\n",
      "(80, 80, 3)\n",
      "(1, 3, 80, 80)\n",
      "(80, 80, 3)\n",
      "(1, 3, 80, 80)\n",
      "(80, 80, 3)\n",
      "(1, 3, 80, 80)\n",
      "(80, 80, 3)\n",
      "(1, 3, 80, 80)\n",
      "(80, 80, 3)\n",
      "(1, 3, 80, 80)\n",
      "(80, 80, 3)\n",
      "(1, 3, 80, 80)\n",
      "(80, 80, 3)\n",
      "(1, 3, 80, 80)\n",
      "(80, 80, 3)\n",
      "(1, 3, 80, 80)\n",
      "(80, 80, 3)\n",
      "(1, 3, 80, 80)\n",
      "(80, 80, 3)\n",
      "(1, 3, 80, 80)\n",
      "(80, 80, 3)\n",
      "(1, 3, 80, 80)\n",
      "(80, 80, 3)\n",
      "(1, 3, 80, 80)\n",
      "(80, 80, 3)\n",
      "(1, 3, 80, 80)\n",
      "(80, 80, 3)\n",
      "(1, 3, 80, 80)\n",
      "(80, 80, 3)\n",
      "(1, 3, 80, 80)\n",
      "(80, 80, 3)\n",
      "(1, 3, 80, 80)\n",
      "(80, 80, 3)\n",
      "(1, 3, 80, 80)\n",
      "(80, 80, 3)\n",
      "(1, 3, 80, 80)\n",
      "(80, 80, 3)\n",
      "(1, 3, 80, 80)\n",
      "(80, 80, 3)\n",
      "(1, 3, 80, 80)\n",
      "(80, 80, 3)\n",
      "(1, 3, 80, 80)\n",
      "(80, 80, 3)\n",
      "(1, 3, 80, 80)\n",
      "(80, 80, 3)\n",
      "(1, 3, 80, 80)\n",
      "(80, 80, 3)\n",
      "(1, 3, 80, 80)\n",
      "(80, 80, 3)\n",
      "(1, 3, 80, 80)\n",
      "(80, 80, 3)\n",
      "(1, 3, 80, 80)\n",
      "(80, 80, 3)\n",
      "(1, 3, 80, 80)\n",
      "(80, 80, 3)\n",
      "(1, 3, 80, 80)\n",
      "(80, 80, 3)\n",
      "(1, 3, 80, 80)\n",
      "(80, 80, 3)\n",
      "(1, 3, 80, 80)\n",
      "(80, 80, 3)\n",
      "(1, 3, 80, 80)\n",
      "(80, 80, 3)\n",
      "(1, 3, 80, 80)\n",
      "(80, 80, 3)\n",
      "(1, 3, 80, 80)\n",
      "(80, 80, 3)\n",
      "(1, 3, 80, 80)\n",
      "(80, 80, 3)\n",
      "(1, 3, 80, 80)\n",
      "(80, 80, 3)\n",
      "(1, 3, 80, 80)\n",
      "(80, 80, 3)\n",
      "(1, 3, 80, 80)\n",
      "(80, 80, 3)\n",
      "(1, 3, 80, 80)\n",
      "(80, 80, 3)\n",
      "(1, 3, 80, 80)\n",
      "(80, 80, 3)\n",
      "(1, 3, 80, 80)\n",
      "(80, 80, 3)\n",
      "(1, 3, 80, 80)\n",
      "(80, 80, 3)\n",
      "(1, 3, 80, 80)\n",
      "(80, 80, 3)\n",
      "(1, 3, 80, 80)\n",
      "(80, 80, 3)\n",
      "(1, 3, 80, 80)\n",
      "(80, 80, 3)\n",
      "(1, 3, 80, 80)\n",
      "(80, 80, 3)\n",
      "(1, 3, 80, 80)\n",
      "(80, 80, 3)\n",
      "(1, 3, 80, 80)\n",
      "(80, 80, 3)\n",
      "(1, 3, 80, 80)\n",
      "(80, 80, 3)\n",
      "(1, 3, 80, 80)\n",
      "(80, 80, 3)\n",
      "(1, 3, 80, 80)\n",
      "(80, 80, 3)\n",
      "(1, 3, 80, 80)\n",
      "(80, 80, 3)\n",
      "(1, 3, 80, 80)\n",
      "(80, 80, 3)\n",
      "(1, 3, 80, 80)\n",
      "(80, 80, 3)\n",
      "(1, 3, 80, 80)\n",
      "(80, 80, 3)\n",
      "(1, 3, 80, 80)\n",
      "(80, 80, 3)\n",
      "(1, 3, 80, 80)\n",
      "(80, 80, 3)\n",
      "(1, 3, 80, 80)\n",
      "(80, 80, 3)\n",
      "(1, 3, 80, 80)\n",
      "(80, 80, 3)\n",
      "(1, 3, 80, 80)\n",
      "(80, 80, 3)\n",
      "(1, 3, 80, 80)\n",
      "(80, 80, 3)\n",
      "(1, 3, 80, 80)\n",
      "(80, 80, 3)\n",
      "(1, 3, 80, 80)\n",
      "(80, 80, 3)\n",
      "(1, 3, 80, 80)\n",
      "(80, 80, 3)\n",
      "(1, 3, 80, 80)\n",
      "(80, 80, 3)\n",
      "(1, 3, 80, 80)\n",
      "(80, 80, 3)\n",
      "(1, 3, 80, 80)\n",
      "(80, 80, 3)\n",
      "(1, 3, 80, 80)\n",
      "(80, 80, 3)\n",
      "(1, 3, 80, 80)\n",
      "(80, 80, 3)\n",
      "(1, 3, 80, 80)\n",
      "(80, 80, 3)\n",
      "(1, 3, 80, 80)\n",
      "(80, 80, 3)\n",
      "(1, 3, 80, 80)\n",
      "(80, 80, 3)\n",
      "(1, 3, 80, 80)\n",
      "(80, 80, 3)\n",
      "(1, 3, 80, 80)\n",
      "(80, 80, 3)\n",
      "(1, 3, 80, 80)\n",
      "(80, 80, 3)\n",
      "(1, 3, 80, 80)\n",
      "(80, 80, 3)\n",
      "(1, 3, 80, 80)\n",
      "(80, 80, 3)\n",
      "(1, 3, 80, 80)\n",
      "(80, 80, 3)\n",
      "(1, 3, 80, 80)\n",
      "(80, 80, 3)\n",
      "(1, 3, 80, 80)\n",
      "(80, 80, 3)\n",
      "(1, 3, 80, 80)\n",
      "(80, 80, 3)\n",
      "(1, 3, 80, 80)\n",
      "(80, 80, 3)\n",
      "(1, 3, 80, 80)\n",
      "(80, 80, 3)\n",
      "(1, 3, 80, 80)\n",
      "(80, 80, 3)\n",
      "(1, 3, 80, 80)\n",
      "(80, 80, 3)\n",
      "(1, 3, 80, 80)\n",
      "(80, 80, 3)\n",
      "(1, 3, 80, 80)\n",
      "(80, 80, 3)\n",
      "(1, 3, 80, 80)\n",
      "(80, 80, 3)\n",
      "(1, 3, 80, 80)\n",
      "(80, 80, 3)\n",
      "(1, 3, 80, 80)\n",
      "(80, 80, 3)\n",
      "(1, 3, 80, 80)\n",
      "(80, 80, 3)\n",
      "(1, 3, 80, 80)\n",
      "(80, 80, 3)\n",
      "(1, 3, 80, 80)\n",
      "(80, 80, 3)\n",
      "(1, 3, 80, 80)\n",
      "(80, 80, 3)\n",
      "(1, 3, 80, 80)\n",
      "(80, 80, 3)\n",
      "(1, 3, 80, 80)\n",
      "(80, 80, 3)\n",
      "(1, 3, 80, 80)\n",
      "(80, 80, 3)\n",
      "(1, 3, 80, 80)\n",
      "(80, 80, 3)\n",
      "(1, 3, 80, 80)\n",
      "(80, 80, 3)\n",
      "(1, 3, 80, 80)\n",
      "(80, 80, 3)\n",
      "(1, 3, 80, 80)\n",
      "(80, 80, 3)\n",
      "(1, 3, 80, 80)\n",
      "(80, 80, 3)\n",
      "(1, 3, 80, 80)\n",
      "(80, 80, 3)\n",
      "(1, 3, 80, 80)\n",
      "(80, 80, 3)\n",
      "(1, 3, 80, 80)\n",
      "(80, 80, 3)\n",
      "(1, 3, 80, 80)\n",
      "(80, 80, 3)\n",
      "(1, 3, 80, 80)\n",
      "(80, 80, 3)\n",
      "(1, 3, 80, 80)\n",
      "(80, 80, 3)\n",
      "(1, 3, 80, 80)\n",
      "(80, 80, 3)\n",
      "(1, 3, 80, 80)\n",
      "(80, 80, 3)\n",
      "(1, 3, 80, 80)\n",
      "(80, 80, 3)\n",
      "(1, 3, 80, 80)\n",
      "(80, 80, 3)\n",
      "(1, 3, 80, 80)\n",
      "(80, 80, 3)\n",
      "(1, 3, 80, 80)\n",
      "(80, 80, 3)\n",
      "(1, 3, 80, 80)\n",
      "(80, 80, 3)\n",
      "(1, 3, 80, 80)\n",
      "(80, 80, 3)\n",
      "(1, 3, 80, 80)\n",
      "(80, 80, 3)\n",
      "(1, 3, 80, 80)\n",
      "(80, 80, 3)\n",
      "(1, 3, 80, 80)\n",
      "(80, 80, 3)\n",
      "(1, 3, 80, 80)\n",
      "(80, 80, 3)\n",
      "(1, 3, 80, 80)\n",
      "(80, 80, 3)\n",
      "(1, 3, 80, 80)\n",
      "(80, 80, 3)\n",
      "(1, 3, 80, 80)\n",
      "(80, 80, 3)\n",
      "(1, 3, 80, 80)\n",
      "(80, 80, 3)\n",
      "(1, 3, 80, 80)\n",
      "(80, 80, 3)\n",
      "(1, 3, 80, 80)\n",
      "(80, 80, 3)\n",
      "(1, 3, 80, 80)\n",
      "(80, 80, 3)\n",
      "(1, 3, 80, 80)\n",
      "(80, 80, 3)\n",
      "(1, 3, 80, 80)\n",
      "(80, 80, 3)\n",
      "(1, 3, 80, 80)\n",
      "(80, 80, 3)\n",
      "(1, 3, 80, 80)\n",
      "(80, 80, 3)\n",
      "(1, 3, 80, 80)\n",
      "(80, 80, 3)\n",
      "(1, 3, 80, 80)\n",
      "(80, 80, 3)\n",
      "(1, 3, 80, 80)\n",
      "(80, 80, 3)\n",
      "(1, 3, 80, 80)\n",
      "(80, 80, 3)\n",
      "(1, 3, 80, 80)\n",
      "(80, 80, 3)\n",
      "(1, 3, 80, 80)\n",
      "(80, 80, 3)\n",
      "(1, 3, 80, 80)\n",
      "(80, 80, 3)\n",
      "(1, 3, 80, 80)\n",
      "(80, 80, 3)\n",
      "(1, 3, 80, 80)\n",
      "(80, 80, 3)\n",
      "(1, 3, 80, 80)\n",
      "(80, 80, 3)\n",
      "(1, 3, 80, 80)\n",
      "(80, 80, 3)\n",
      "(1, 3, 80, 80)\n",
      "(80, 80, 3)\n",
      "(1, 3, 80, 80)\n",
      "(80, 80, 3)\n",
      "(1, 3, 80, 80)\n",
      "(80, 80, 3)\n",
      "(1, 3, 80, 80)\n",
      "(80, 80, 3)\n",
      "(1, 3, 80, 80)\n",
      "(80, 80, 3)\n",
      "(1, 3, 80, 80)\n",
      "(80, 80, 3)\n",
      "(1, 3, 80, 80)\n",
      "(80, 80, 3)\n",
      "(1, 3, 80, 80)\n",
      "(80, 80, 3)\n",
      "(1, 3, 80, 80)\n",
      "(80, 80, 3)\n",
      "(1, 3, 80, 80)\n",
      "(80, 80, 3)\n",
      "(1, 3, 80, 80)\n",
      "(80, 80, 3)\n",
      "(1, 3, 80, 80)\n",
      "(80, 80, 3)\n",
      "(1, 3, 80, 80)\n",
      "(80, 80, 3)\n",
      "(1, 3, 80, 80)\n",
      "(80, 80, 3)\n",
      "(1, 3, 80, 80)\n",
      "(80, 80, 3)\n",
      "(1, 3, 80, 80)\n",
      "(80, 80, 3)\n",
      "(1, 3, 80, 80)\n",
      "(80, 80, 3)\n",
      "(1, 3, 80, 80)\n",
      "(80, 80, 3)\n",
      "(1, 3, 80, 80)\n",
      "(80, 80, 3)\n",
      "(1, 3, 80, 80)\n",
      "(80, 80, 3)\n",
      "(1, 3, 80, 80)\n",
      "(80, 80, 3)\n",
      "(1, 3, 80, 80)\n",
      "(80, 80, 3)\n",
      "(1, 3, 80, 80)\n",
      "(80, 80, 3)\n",
      "(1, 3, 80, 80)\n",
      "(80, 80, 3)\n",
      "(1, 3, 80, 80)\n",
      "(80, 80, 3)\n",
      "(1, 3, 80, 80)\n",
      "(80, 80, 3)\n",
      "(1, 3, 80, 80)\n",
      "(80, 80, 3)\n",
      "(1, 3, 80, 80)\n",
      "(80, 80, 3)\n",
      "(1, 3, 80, 80)\n",
      "(80, 80, 3)\n",
      "(1, 3, 80, 80)\n",
      "(80, 80, 3)\n",
      "(1, 3, 80, 80)\n",
      "(80, 80, 3)\n",
      "(1, 3, 80, 80)\n",
      "(80, 80, 3)\n",
      "(1, 3, 80, 80)\n",
      "(80, 80, 3)\n",
      "(1, 3, 80, 80)\n",
      "(80, 80, 3)\n",
      "(1, 3, 80, 80)\n",
      "(80, 80, 3)\n",
      "(1, 3, 80, 80)\n",
      "(80, 80, 3)\n",
      "(1, 3, 80, 80)\n",
      "(80, 80, 3)\n",
      "(1, 3, 80, 80)\n",
      "(80, 80, 3)\n",
      "(1, 3, 80, 80)\n",
      "(80, 80, 3)\n",
      "(1, 3, 80, 80)\n",
      "(80, 80, 3)\n",
      "(1, 3, 80, 80)\n",
      "(80, 80, 3)\n",
      "(1, 3, 80, 80)\n",
      "(80, 80, 3)\n",
      "(1, 3, 80, 80)\n",
      "(80, 80, 3)\n",
      "(1, 3, 80, 80)\n",
      "(80, 80, 3)\n",
      "(1, 3, 80, 80)\n",
      "(80, 80, 3)\n",
      "(1, 3, 80, 80)\n",
      "(80, 80, 3)\n",
      "(1, 3, 80, 80)\n",
      "(80, 80, 3)\n",
      "(1, 3, 80, 80)\n",
      "(80, 80, 3)\n",
      "(1, 3, 80, 80)\n",
      "(80, 80, 3)\n",
      "(1, 3, 80, 80)\n",
      "(80, 80, 3)\n",
      "(1, 3, 80, 80)\n",
      "(80, 80, 3)\n",
      "(1, 3, 80, 80)\n",
      "(80, 80, 3)\n",
      "(1, 3, 80, 80)\n",
      "(80, 80, 3)\n",
      "(1, 3, 80, 80)\n",
      "(80, 80, 3)\n",
      "(1, 3, 80, 80)\n",
      "(80, 80, 3)\n",
      "(1, 3, 80, 80)\n",
      "(80, 80, 3)\n",
      "(1, 3, 80, 80)\n",
      "(80, 80, 3)\n",
      "(1, 3, 80, 80)\n",
      "(80, 80, 3)\n",
      "(1, 3, 80, 80)\n",
      "(80, 80, 3)\n",
      "(1, 3, 80, 80)\n",
      "(80, 80, 3)\n",
      "(1, 3, 80, 80)\n",
      "(80, 80, 3)\n",
      "(1, 3, 80, 80)\n",
      "(80, 80, 3)\n",
      "(1, 3, 80, 80)\n",
      "(80, 80, 3)\n",
      "(1, 3, 80, 80)\n",
      "(80, 80, 3)\n",
      "(1, 3, 80, 80)\n",
      "(80, 80, 3)\n",
      "(1, 3, 80, 80)\n",
      "(80, 80, 3)\n",
      "(1, 3, 80, 80)\n",
      "(80, 80, 3)\n",
      "(1, 3, 80, 80)\n",
      "(80, 80, 3)\n",
      "(1, 3, 80, 80)\n",
      "(80, 80, 3)\n",
      "(1, 3, 80, 80)\n",
      "(80, 80, 3)\n",
      "(1, 3, 80, 80)\n",
      "(80, 80, 3)\n",
      "(1, 3, 80, 80)\n",
      "(80, 80, 3)\n",
      "(1, 3, 80, 80)\n",
      "(80, 80, 3)\n",
      "(1, 3, 80, 80)\n",
      "(80, 80, 3)\n",
      "(1, 3, 80, 80)\n",
      "(80, 80, 3)\n",
      "(1, 3, 80, 80)\n",
      "(80, 80, 3)\n",
      "(1, 3, 80, 80)\n",
      "(80, 80, 3)\n",
      "(1, 3, 80, 80)\n",
      "(80, 80, 3)\n",
      "(1, 3, 80, 80)\n",
      "(80, 80, 3)\n",
      "(1, 3, 80, 80)\n",
      "(80, 80, 3)\n",
      "(1, 3, 80, 80)\n",
      "(80, 80, 3)\n",
      "(1, 3, 80, 80)\n",
      "(80, 80, 3)\n",
      "(1, 3, 80, 80)\n",
      "(80, 80, 3)\n",
      "(1, 3, 80, 80)\n",
      "(80, 80, 3)\n",
      "(1, 3, 80, 80)\n",
      "(80, 80, 3)\n",
      "(1, 3, 80, 80)\n",
      "(80, 80, 3)\n",
      "(1, 3, 80, 80)\n",
      "(80, 80, 3)\n",
      "(1, 3, 80, 80)\n",
      "(80, 80, 3)\n",
      "(1, 3, 80, 80)\n",
      "(80, 80, 3)\n",
      "(1, 3, 80, 80)\n",
      "(80, 80, 3)\n",
      "(1, 3, 80, 80)\n",
      "(80, 80, 3)\n",
      "(1, 3, 80, 80)\n",
      "(80, 80, 3)\n",
      "(1, 3, 80, 80)\n",
      "(80, 80, 3)\n",
      "(1, 3, 80, 80)\n",
      "(80, 80, 3)\n",
      "(1, 3, 80, 80)\n",
      "(80, 80, 3)\n",
      "(1, 3, 80, 80)\n",
      "(80, 80, 3)\n",
      "(1, 3, 80, 80)\n",
      "(80, 80, 3)\n",
      "(1, 3, 80, 80)\n",
      "(80, 80, 3)\n",
      "(1, 3, 80, 80)\n",
      "(80, 80, 3)\n",
      "(1, 3, 80, 80)\n",
      "(80, 80, 3)\n",
      "(1, 3, 80, 80)\n",
      "(80, 80, 3)\n",
      "(1, 3, 80, 80)\n",
      "(80, 80, 3)\n",
      "(1, 3, 80, 80)\n",
      "(80, 80, 3)\n",
      "(1, 3, 80, 80)\n",
      "(80, 80, 3)\n",
      "(1, 3, 80, 80)\n",
      "(80, 80, 3)\n",
      "(1, 3, 80, 80)\n",
      "(80, 80, 3)\n",
      "(1, 3, 80, 80)\n",
      "(80, 80, 3)\n",
      "(1, 3, 80, 80)\n",
      "(80, 80, 3)\n",
      "(1, 3, 80, 80)\n",
      "(80, 80, 3)\n",
      "(1, 3, 80, 80)\n",
      "(80, 80, 3)\n",
      "(1, 3, 80, 80)\n",
      "(80, 80, 3)\n",
      "(1, 3, 80, 80)\n",
      "(80, 80, 3)\n",
      "(1, 3, 80, 80)\n",
      "(80, 80, 3)\n",
      "(1, 3, 80, 80)\n",
      "(80, 80, 3)\n",
      "(1, 3, 80, 80)\n",
      "(80, 80, 3)\n",
      "(1, 3, 80, 80)\n",
      "(80, 80, 3)\n",
      "(1, 3, 80, 80)\n",
      "(80, 80, 3)\n",
      "(1, 3, 80, 80)\n",
      "(80, 80, 3)\n",
      "(1, 3, 80, 80)\n",
      "(80, 80, 3)\n",
      "(1, 3, 80, 80)\n",
      "(80, 80, 3)\n",
      "(1, 3, 80, 80)\n",
      "(80, 80, 3)\n",
      "(1, 3, 80, 80)\n",
      "(80, 80, 3)\n",
      "(1, 3, 80, 80)\n",
      "(80, 80, 3)\n",
      "(1, 3, 80, 80)\n",
      "(80, 80, 3)\n",
      "(1, 3, 80, 80)\n",
      "(80, 80, 3)\n",
      "(1, 3, 80, 80)\n",
      "(80, 80, 3)\n",
      "(1, 3, 80, 80)\n",
      "(80, 80, 3)\n",
      "(1, 3, 80, 80)\n",
      "(80, 80, 3)\n",
      "(1, 3, 80, 80)\n",
      "(80, 80, 3)\n",
      "(1, 3, 80, 80)\n",
      "(80, 80, 3)\n",
      "(1, 3, 80, 80)\n",
      "(80, 80, 3)\n",
      "(1, 3, 80, 80)\n",
      "(80, 80, 3)\n",
      "(1, 3, 80, 80)\n",
      "(80, 80, 3)\n",
      "(1, 3, 80, 80)\n",
      "(80, 80, 3)\n",
      "(1, 3, 80, 80)\n",
      "(80, 80, 3)\n",
      "(1, 3, 80, 80)\n",
      "(80, 80, 3)\n",
      "(1, 3, 80, 80)\n",
      "(80, 80, 3)\n",
      "(1, 3, 80, 80)\n",
      "(80, 80, 3)\n",
      "(1, 3, 80, 80)\n",
      "(80, 80, 3)\n",
      "(1, 3, 80, 80)\n",
      "(80, 80, 3)\n",
      "(1, 3, 80, 80)\n",
      "(80, 80, 3)\n",
      "(1, 3, 80, 80)\n",
      "(80, 80, 3)\n",
      "(1, 3, 80, 80)\n",
      "(80, 80, 3)\n",
      "(1, 3, 80, 80)\n",
      "(80, 80, 3)\n",
      "(1, 3, 80, 80)\n",
      "(80, 80, 3)\n",
      "(1, 3, 80, 80)\n",
      "(80, 80, 3)\n",
      "(1, 3, 80, 80)\n",
      "(80, 80, 3)\n",
      "(1, 3, 80, 80)\n",
      "(80, 80, 3)\n",
      "(1, 3, 80, 80)\n",
      "(80, 80, 3)\n",
      "(1, 3, 80, 80)\n",
      "(80, 80, 3)\n",
      "(1, 3, 80, 80)\n",
      "(80, 80, 3)\n",
      "(1, 3, 80, 80)\n",
      "(80, 80, 3)\n",
      "(1, 3, 80, 80)\n",
      "(80, 80, 3)\n",
      "(1, 3, 80, 80)\n",
      "(80, 80, 3)\n",
      "(1, 3, 80, 80)\n",
      "(80, 80, 3)\n",
      "(1, 3, 80, 80)\n",
      "(80, 80, 3)\n",
      "(1, 3, 80, 80)\n",
      "(80, 80, 3)\n",
      "(1, 3, 80, 80)\n",
      "(80, 80, 3)\n",
      "(1, 3, 80, 80)\n",
      "(80, 80, 3)\n",
      "(1, 3, 80, 80)\n",
      "(80, 80, 3)\n",
      "(1, 3, 80, 80)\n",
      "(80, 80, 3)\n",
      "(1, 3, 80, 80)\n",
      "(80, 80, 3)\n",
      "(1, 3, 80, 80)\n",
      "(80, 80, 3)\n",
      "(1, 3, 80, 80)\n",
      "(80, 80, 3)\n",
      "(1, 3, 80, 80)\n",
      "(80, 80, 3)\n",
      "(1, 3, 80, 80)\n",
      "(80, 80, 3)\n",
      "(1, 3, 80, 80)\n",
      "(80, 80, 3)\n",
      "(1, 3, 80, 80)\n",
      "(80, 80, 3)\n",
      "(1, 3, 80, 80)\n",
      "(80, 80, 3)\n",
      "(1, 3, 80, 80)\n",
      "(80, 80, 3)\n",
      "(1, 3, 80, 80)\n",
      "(80, 80, 3)\n",
      "(1, 3, 80, 80)\n",
      "(80, 80, 3)\n",
      "(1, 3, 80, 80)\n",
      "(80, 80, 3)\n",
      "(1, 3, 80, 80)\n",
      "(80, 80, 3)\n",
      "(1, 3, 80, 80)\n",
      "(80, 80, 3)\n",
      "(1, 3, 80, 80)\n",
      "(80, 80, 3)\n",
      "(1, 3, 80, 80)\n",
      "(80, 80, 3)\n",
      "(1, 3, 80, 80)\n",
      "(80, 80, 3)\n",
      "(1, 3, 80, 80)\n",
      "(80, 80, 3)\n",
      "(1, 3, 80, 80)\n",
      "(80, 80, 3)\n",
      "(1, 3, 80, 80)\n",
      "(80, 80, 3)\n",
      "(1, 3, 80, 80)\n",
      "(80, 80, 3)\n",
      "(1, 3, 80, 80)\n",
      "(80, 80, 3)\n",
      "(1, 3, 80, 80)\n",
      "(80, 80, 3)\n",
      "(1, 3, 80, 80)\n",
      "(80, 80, 3)\n",
      "(1, 3, 80, 80)\n",
      "(80, 80, 3)\n",
      "(1, 3, 80, 80)\n",
      "(80, 80, 3)\n",
      "(1, 3, 80, 80)\n",
      "(80, 80, 3)\n",
      "(1, 3, 80, 80)\n",
      "(80, 80, 3)\n",
      "(1, 3, 80, 80)\n",
      "(80, 80, 3)\n",
      "(1, 3, 80, 80)\n",
      "(80, 80, 3)\n",
      "(1, 3, 80, 80)\n",
      "(80, 80, 3)\n",
      "(1, 3, 80, 80)\n",
      "(80, 80, 3)\n",
      "(1, 3, 80, 80)\n",
      "(80, 80, 3)\n",
      "(1, 3, 80, 80)\n",
      "(80, 80, 3)\n",
      "(1, 3, 80, 80)\n",
      "(80, 80, 3)\n",
      "(1, 3, 80, 80)\n",
      "(80, 80, 3)\n",
      "(1, 3, 80, 80)\n",
      "(80, 80, 3)\n",
      "(1, 3, 80, 80)\n",
      "(80, 80, 3)\n",
      "(1, 3, 80, 80)\n",
      "(80, 80, 3)\n",
      "(1, 3, 80, 80)\n",
      "(80, 80, 3)\n",
      "(1, 3, 80, 80)\n",
      "(80, 80, 3)\n",
      "(1, 3, 80, 80)\n",
      "(80, 80, 3)\n",
      "(1, 3, 80, 80)\n",
      "(80, 80, 3)\n",
      "(1, 3, 80, 80)\n",
      "(80, 80, 3)\n",
      "(1, 3, 80, 80)\n",
      "(80, 80, 3)\n",
      "(1, 3, 80, 80)\n",
      "(80, 80, 3)\n",
      "(1, 3, 80, 80)\n",
      "(80, 80, 3)\n",
      "(1, 3, 80, 80)\n",
      "(80, 80, 3)\n",
      "(1, 3, 80, 80)\n",
      "(80, 80, 3)\n",
      "(1, 3, 80, 80)\n",
      "(80, 80, 3)\n",
      "(1, 3, 80, 80)\n",
      "(80, 80, 3)\n",
      "(1, 3, 80, 80)\n",
      "(80, 80, 3)\n",
      "(1, 3, 80, 80)\n",
      "(80, 80, 3)\n",
      "(1, 3, 80, 80)\n",
      "(80, 80, 3)\n",
      "(1, 3, 80, 80)\n",
      "(80, 80, 3)\n",
      "(1, 3, 80, 80)\n",
      "(80, 80, 3)\n",
      "(1, 3, 80, 80)\n",
      "(80, 80, 3)\n",
      "(1, 3, 80, 80)\n",
      "(80, 80, 3)\n",
      "(1, 3, 80, 80)\n",
      "(80, 80, 3)\n",
      "(1, 3, 80, 80)\n",
      "(80, 80, 3)\n",
      "(1, 3, 80, 80)\n",
      "(80, 80, 3)\n",
      "(1, 3, 80, 80)\n",
      "(80, 80, 3)\n",
      "(1, 3, 80, 80)\n",
      "(80, 80, 3)\n",
      "(1, 3, 80, 80)\n",
      "(80, 80, 3)\n",
      "(1, 3, 80, 80)\n",
      "(80, 80, 3)\n",
      "(1, 3, 80, 80)\n",
      "(80, 80, 3)\n",
      "(1, 3, 80, 80)\n",
      "(80, 80, 3)\n",
      "(1, 3, 80, 80)\n",
      "(80, 80, 3)\n",
      "(1, 3, 80, 80)\n",
      "(80, 80, 3)\n",
      "(1, 3, 80, 80)\n",
      "(80, 80, 3)\n",
      "(1, 3, 80, 80)\n",
      "(80, 80, 3)\n",
      "(1, 3, 80, 80)\n",
      "(80, 80, 3)\n",
      "(1, 3, 80, 80)\n",
      "(80, 80, 3)\n",
      "(1, 3, 80, 80)\n",
      "(80, 80, 3)\n",
      "(1, 3, 80, 80)\n",
      "(80, 80, 3)\n",
      "(1, 3, 80, 80)\n",
      "(80, 80, 3)\n",
      "(1, 3, 80, 80)\n",
      "(80, 80, 3)\n",
      "(1, 3, 80, 80)\n",
      "(80, 80, 3)\n",
      "(1, 3, 80, 80)\n",
      "(80, 80, 3)\n",
      "(1, 3, 80, 80)\n",
      "(80, 80, 3)\n",
      "(1, 3, 80, 80)\n",
      "(80, 80, 3)\n",
      "(1, 3, 80, 80)\n",
      "(80, 80, 3)\n",
      "(1, 3, 80, 80)\n",
      "(80, 80, 3)\n",
      "(1, 3, 80, 80)\n",
      "(80, 80, 3)\n",
      "(1, 3, 80, 80)\n",
      "(80, 80, 3)\n",
      "(1, 3, 80, 80)\n",
      "(80, 80, 3)\n",
      "(1, 3, 80, 80)\n",
      "(80, 80, 3)\n",
      "(1, 3, 80, 80)\n",
      "(80, 80, 3)\n",
      "(1, 3, 80, 80)\n",
      "(80, 80, 3)\n",
      "(1, 3, 80, 80)\n",
      "(80, 80, 3)\n",
      "(1, 3, 80, 80)\n",
      "(80, 80, 3)\n",
      "(1, 3, 80, 80)\n",
      "(80, 80, 3)\n",
      "(1, 3, 80, 80)\n",
      "(80, 80, 3)\n",
      "(1, 3, 80, 80)\n",
      "(80, 80, 3)\n",
      "(1, 3, 80, 80)\n",
      "(80, 80, 3)\n",
      "(1, 3, 80, 80)\n",
      "(80, 80, 3)\n",
      "(1, 3, 80, 80)\n",
      "(80, 80, 3)\n",
      "(1, 3, 80, 80)\n",
      "(80, 80, 3)\n",
      "(1, 3, 80, 80)\n",
      "(80, 80, 3)\n",
      "(1, 3, 80, 80)\n",
      "(80, 80, 3)\n",
      "(1, 3, 80, 80)\n",
      "(80, 80, 3)\n",
      "(1, 3, 80, 80)\n",
      "(80, 80, 3)\n",
      "(1, 3, 80, 80)\n",
      "(80, 80, 3)\n",
      "(1, 3, 80, 80)\n",
      "(80, 80, 3)\n",
      "(1, 3, 80, 80)\n",
      "(80, 80, 3)\n",
      "(1, 3, 80, 80)\n",
      "(80, 80, 3)\n",
      "(1, 3, 80, 80)\n",
      "(80, 80, 3)\n",
      "(1, 3, 80, 80)\n",
      "(80, 80, 3)\n",
      "(1, 3, 80, 80)\n",
      "(80, 80, 3)\n",
      "(1, 3, 80, 80)\n",
      "(80, 80, 3)\n",
      "(1, 3, 80, 80)\n",
      "(80, 80, 3)\n",
      "(1, 3, 80, 80)\n",
      "(80, 80, 3)\n",
      "(1, 3, 80, 80)\n",
      "(80, 80, 3)\n",
      "(1, 3, 80, 80)\n",
      "(80, 80, 3)\n",
      "(1, 3, 80, 80)\n",
      "(80, 80, 3)\n",
      "(1, 3, 80, 80)\n",
      "(80, 80, 3)\n",
      "(1, 3, 80, 80)\n",
      "(80, 80, 3)\n",
      "(1, 3, 80, 80)\n",
      "(80, 80, 3)\n",
      "(1, 3, 80, 80)\n",
      "(80, 80, 3)\n",
      "(1, 3, 80, 80)\n",
      "(80, 80, 3)\n",
      "(1, 3, 80, 80)\n",
      "(80, 80, 3)\n",
      "(1, 3, 80, 80)\n",
      "(80, 80, 3)\n",
      "(1, 3, 80, 80)\n",
      "(80, 80, 3)\n",
      "(1, 3, 80, 80)\n",
      "(80, 80, 3)\n",
      "(1, 3, 80, 80)\n",
      "(80, 80, 3)\n",
      "(1, 3, 80, 80)\n",
      "(80, 80, 3)\n",
      "(1, 3, 80, 80)\n",
      "(80, 80, 3)\n",
      "(1, 3, 80, 80)\n",
      "(80, 80, 3)\n",
      "(1, 3, 80, 80)\n",
      "(80, 80, 3)\n",
      "(1, 3, 80, 80)\n",
      "(80, 80, 3)\n",
      "(1, 3, 80, 80)\n",
      "(80, 80, 3)\n",
      "(1, 3, 80, 80)\n",
      "(80, 80, 3)\n",
      "(1, 3, 80, 80)\n",
      "(80, 80, 3)\n",
      "(1, 3, 80, 80)\n",
      "(80, 80, 3)\n",
      "(1, 3, 80, 80)\n",
      "(80, 80, 3)\n",
      "(1, 3, 80, 80)\n",
      "(80, 80, 3)\n",
      "(1, 3, 80, 80)\n",
      "(80, 80, 3)\n",
      "(1, 3, 80, 80)\n",
      "(80, 80, 3)\n",
      "(1, 3, 80, 80)\n",
      "(80, 80, 3)\n",
      "(1, 3, 80, 80)\n",
      "(80, 80, 3)\n",
      "(1, 3, 80, 80)\n",
      "(80, 80, 3)\n",
      "(1, 3, 80, 80)\n",
      "(80, 80, 3)\n",
      "(1, 3, 80, 80)\n",
      "(80, 80, 3)\n",
      "(1, 3, 80, 80)\n",
      "(80, 80, 3)\n",
      "(1, 3, 80, 80)\n",
      "(80, 80, 3)\n",
      "(1, 3, 80, 80)\n",
      "(80, 80, 3)\n",
      "(1, 3, 80, 80)\n",
      "(80, 80, 3)\n",
      "(1, 3, 80, 80)\n",
      "(80, 80, 3)\n",
      "(1, 3, 80, 80)\n",
      "(80, 80, 3)\n",
      "(1, 3, 80, 80)\n",
      "(80, 80, 3)\n",
      "(1, 3, 80, 80)\n",
      "(80, 80, 3)\n",
      "(1, 3, 80, 80)\n",
      "(80, 80, 3)\n",
      "(1, 3, 80, 80)\n",
      "(80, 80, 3)\n",
      "(1, 3, 80, 80)\n",
      "(80, 80, 3)\n",
      "(1, 3, 80, 80)\n",
      "(80, 80, 3)\n",
      "(1, 3, 80, 80)\n",
      "(80, 80, 3)\n",
      "(1, 3, 80, 80)\n",
      "(80, 80, 3)\n",
      "(1, 3, 80, 80)\n",
      "(80, 80, 3)\n",
      "(1, 3, 80, 80)\n",
      "(80, 80, 3)\n",
      "(1, 3, 80, 80)\n",
      "(80, 80, 3)\n",
      "(1, 3, 80, 80)\n",
      "(80, 80, 3)\n",
      "(1, 3, 80, 80)\n",
      "(80, 80, 3)\n",
      "(1, 3, 80, 80)\n",
      "(80, 80, 3)\n",
      "(1, 3, 80, 80)\n",
      "(80, 80, 3)\n",
      "(1, 3, 80, 80)\n",
      "(80, 80, 3)\n",
      "(1, 3, 80, 80)\n",
      "(80, 80, 3)\n",
      "(1, 3, 80, 80)\n",
      "(80, 80, 3)\n",
      "(1, 3, 80, 80)\n",
      "(80, 80, 3)\n",
      "(1, 3, 80, 80)\n",
      "(80, 80, 3)\n",
      "(1, 3, 80, 80)\n",
      "(80, 80, 3)\n",
      "(1, 3, 80, 80)\n",
      "(80, 80, 3)\n",
      "(1, 3, 80, 80)\n",
      "(80, 80, 3)\n",
      "(1, 3, 80, 80)\n",
      "(80, 80, 3)\n",
      "(1, 3, 80, 80)\n",
      "(80, 80, 3)\n",
      "(1, 3, 80, 80)\n",
      "(80, 80, 3)\n",
      "(1, 3, 80, 80)\n",
      "(80, 80, 3)\n",
      "(1, 3, 80, 80)\n",
      "(80, 80, 3)\n",
      "(1, 3, 80, 80)\n",
      "(80, 80, 3)\n",
      "(1, 3, 80, 80)\n",
      "(80, 80, 3)\n",
      "(1, 3, 80, 80)\n",
      "(80, 80, 3)\n",
      "(1, 3, 80, 80)\n",
      "(80, 80, 3)\n",
      "(1, 3, 80, 80)\n",
      "(80, 80, 3)\n",
      "(1, 3, 80, 80)\n",
      "(80, 80, 3)\n",
      "(1, 3, 80, 80)\n",
      "(80, 80, 3)\n",
      "(1, 3, 80, 80)\n",
      "(80, 80, 3)\n",
      "(1, 3, 80, 80)\n",
      "(80, 80, 3)\n",
      "(1, 3, 80, 80)\n",
      "(80, 80, 3)\n",
      "(1, 3, 80, 80)\n",
      "(80, 80, 3)\n",
      "(1, 3, 80, 80)\n",
      "(80, 80, 3)\n",
      "(1, 3, 80, 80)\n",
      "(80, 80, 3)\n",
      "(1, 3, 80, 80)\n",
      "(80, 80, 3)\n",
      "(1, 3, 80, 80)\n",
      "(80, 80, 3)\n",
      "(1, 3, 80, 80)\n",
      "(80, 80, 3)\n",
      "(1, 3, 80, 80)\n",
      "(80, 80, 3)\n",
      "(1, 3, 80, 80)\n",
      "(80, 80, 3)\n",
      "(1, 3, 80, 80)\n",
      "(80, 80, 3)\n",
      "(1, 3, 80, 80)\n",
      "(80, 80, 3)\n",
      "(1, 3, 80, 80)\n",
      "(80, 80, 3)\n",
      "(1, 3, 80, 80)\n",
      "(80, 80, 3)\n",
      "(1, 3, 80, 80)\n",
      "(80, 80, 3)\n",
      "(1, 3, 80, 80)\n",
      "(80, 80, 3)\n",
      "(1, 3, 80, 80)\n",
      "(80, 80, 3)\n",
      "(1, 3, 80, 80)\n",
      "(80, 80, 3)\n",
      "(1, 3, 80, 80)\n",
      "(80, 80, 3)\n",
      "(1, 3, 80, 80)\n",
      "(80, 80, 3)\n",
      "(1, 3, 80, 80)\n",
      "(80, 80, 3)\n",
      "(1, 3, 80, 80)\n",
      "(80, 80, 3)\n",
      "(1, 3, 80, 80)\n",
      "(80, 80, 3)\n",
      "(1, 3, 80, 80)\n",
      "(80, 80, 3)\n",
      "(1, 3, 80, 80)\n",
      "(80, 80, 3)\n",
      "(1, 3, 80, 80)\n",
      "(80, 80, 3)\n",
      "(1, 3, 80, 80)\n",
      "(80, 80, 3)\n",
      "(1, 3, 80, 80)\n",
      "(80, 80, 3)\n",
      "(1, 3, 80, 80)\n",
      "(80, 80, 3)\n",
      "(1, 3, 80, 80)\n",
      "(80, 80, 3)\n",
      "(1, 3, 80, 80)\n",
      "(80, 80, 3)\n",
      "(1, 3, 80, 80)\n",
      "(80, 80, 3)\n",
      "(1, 3, 80, 80)\n",
      "(80, 80, 3)\n",
      "(1, 3, 80, 80)\n",
      "(80, 80, 3)\n",
      "(1, 3, 80, 80)\n",
      "(80, 80, 3)\n",
      "(1, 3, 80, 80)\n",
      "(80, 80, 3)\n",
      "(1, 3, 80, 80)\n",
      "(80, 80, 3)\n",
      "(1, 3, 80, 80)\n",
      "(80, 80, 3)\n",
      "(1, 3, 80, 80)\n",
      "(80, 80, 3)\n",
      "(1, 3, 80, 80)\n",
      "(80, 80, 3)\n",
      "(1, 3, 80, 80)\n",
      "(80, 80, 3)\n",
      "(1, 3, 80, 80)\n",
      "(80, 80, 3)\n",
      "(1, 3, 80, 80)\n",
      "(80, 80, 3)\n",
      "(1, 3, 80, 80)\n",
      "(80, 80, 3)\n",
      "(1, 3, 80, 80)\n",
      "(80, 80, 3)\n",
      "(1, 3, 80, 80)\n",
      "(80, 80, 3)\n",
      "(1, 3, 80, 80)\n",
      "(80, 80, 3)\n",
      "(1, 3, 80, 80)\n",
      "(80, 80, 3)\n",
      "(1, 3, 80, 80)\n",
      "(80, 80, 3)\n",
      "(1, 3, 80, 80)\n",
      "(80, 80, 3)\n",
      "(1, 3, 80, 80)\n",
      "(80, 80, 3)\n",
      "(1, 3, 80, 80)\n",
      "(80, 80, 3)\n",
      "(1, 3, 80, 80)\n",
      "(80, 80, 3)\n",
      "(1, 3, 80, 80)\n",
      "(80, 80, 3)\n",
      "(1, 3, 80, 80)\n",
      "(80, 80, 3)\n",
      "(1, 3, 80, 80)\n",
      "(80, 80, 3)\n",
      "(1, 3, 80, 80)\n",
      "(80, 80, 3)\n",
      "(1, 3, 80, 80)\n",
      "(80, 80, 3)\n",
      "(1, 3, 80, 80)\n",
      "(80, 80, 3)\n",
      "(1, 3, 80, 80)\n",
      "(80, 80, 3)\n",
      "(1, 3, 80, 80)\n",
      "(80, 80, 3)\n",
      "(1, 3, 80, 80)\n",
      "(80, 80, 3)\n",
      "(1, 3, 80, 80)\n",
      "(80, 80, 3)\n",
      "(1, 3, 80, 80)\n",
      "(80, 80, 3)\n",
      "(1, 3, 80, 80)\n",
      "(80, 80, 3)\n",
      "(1, 3, 80, 80)\n",
      "(80, 80, 3)\n",
      "(1, 3, 80, 80)\n",
      "(80, 80, 3)\n",
      "(1, 3, 80, 80)\n",
      "(80, 80, 3)\n",
      "(1, 3, 80, 80)\n",
      "(80, 80, 3)\n",
      "(1, 3, 80, 80)\n",
      "(80, 80, 3)\n",
      "(1, 3, 80, 80)\n",
      "(80, 80, 3)\n",
      "(1, 3, 80, 80)\n",
      "(80, 80, 3)\n",
      "(1, 3, 80, 80)\n",
      "(80, 80, 3)\n",
      "(1, 3, 80, 80)\n",
      "(80, 80, 3)\n",
      "(1, 3, 80, 80)\n",
      "(80, 80, 3)\n",
      "(1, 3, 80, 80)\n",
      "(80, 80, 3)\n",
      "(1, 3, 80, 80)\n",
      "(80, 80, 3)\n",
      "(1, 3, 80, 80)\n",
      "(80, 80, 3)\n",
      "(1, 3, 80, 80)\n",
      "(80, 80, 3)\n",
      "(1, 3, 80, 80)\n",
      "(80, 80, 3)\n",
      "(1, 3, 80, 80)\n",
      "(80, 80, 3)\n",
      "(1, 3, 80, 80)\n",
      "(80, 80, 3)\n",
      "(1, 3, 80, 80)\n",
      "(80, 80, 3)\n",
      "(1, 3, 80, 80)\n",
      "(80, 80, 3)\n",
      "(1, 3, 80, 80)\n",
      "(80, 80, 3)\n",
      "(1, 3, 80, 80)\n",
      "(80, 80, 3)\n",
      "(1, 3, 80, 80)\n",
      "(80, 80, 3)\n",
      "(1, 3, 80, 80)\n",
      "(80, 80, 3)\n",
      "(1, 3, 80, 80)\n",
      "(80, 80, 3)\n",
      "(1, 3, 80, 80)\n",
      "(80, 80, 3)\n",
      "(1, 3, 80, 80)\n",
      "(80, 80, 3)\n",
      "(1, 3, 80, 80)\n",
      "(80, 80, 3)\n",
      "(1, 3, 80, 80)\n",
      "(80, 80, 3)\n",
      "(1, 3, 80, 80)\n",
      "(80, 80, 3)\n",
      "(1, 3, 80, 80)\n",
      "(80, 80, 3)\n",
      "(1, 3, 80, 80)\n",
      "(80, 80, 3)\n",
      "(1, 3, 80, 80)\n",
      "(80, 80, 3)\n",
      "(1, 3, 80, 80)\n",
      "(80, 80, 3)\n",
      "(1, 3, 80, 80)\n",
      "(80, 80, 3)\n",
      "(1, 3, 80, 80)\n",
      "(80, 80, 3)\n",
      "(1, 3, 80, 80)\n",
      "(80, 80, 3)\n",
      "(1, 3, 80, 80)\n",
      "(80, 80, 3)\n",
      "(1, 3, 80, 80)\n",
      "(80, 80, 3)\n",
      "(1, 3, 80, 80)\n",
      "(80, 80, 3)\n",
      "(1, 3, 80, 80)\n",
      "(80, 80, 3)\n",
      "(1, 3, 80, 80)\n",
      "(80, 80, 3)\n",
      "(1, 3, 80, 80)\n",
      "(80, 80, 3)\n",
      "(1, 3, 80, 80)\n",
      "(80, 80, 3)\n",
      "(1, 3, 80, 80)\n",
      "(80, 80, 3)\n",
      "(1, 3, 80, 80)\n",
      "(80, 80, 3)\n",
      "(1, 3, 80, 80)\n",
      "(80, 80, 3)\n",
      "(1, 3, 80, 80)\n",
      "(80, 80, 3)\n",
      "(1, 3, 80, 80)\n",
      "(80, 80, 3)\n",
      "(1, 3, 80, 80)\n",
      "(80, 80, 3)\n",
      "(1, 3, 80, 80)\n",
      "(80, 80, 3)\n",
      "(1, 3, 80, 80)\n",
      "(80, 80, 3)\n",
      "(1, 3, 80, 80)\n",
      "(80, 80, 3)\n",
      "(1, 3, 80, 80)\n",
      "(80, 80, 3)\n",
      "(1, 3, 80, 80)\n",
      "(80, 80, 3)\n",
      "(1, 3, 80, 80)\n",
      "(80, 80, 3)\n",
      "(1, 3, 80, 80)\n",
      "(80, 80, 3)\n",
      "(1, 3, 80, 80)\n",
      "(80, 80, 3)\n",
      "(1, 3, 80, 80)\n",
      "(80, 80, 3)\n",
      "(1, 3, 80, 80)\n",
      "(80, 80, 3)\n",
      "(1, 3, 80, 80)\n",
      "(80, 80, 3)\n",
      "(1, 3, 80, 80)\n",
      "(80, 80, 3)\n",
      "(1, 3, 80, 80)\n",
      "(80, 80, 3)\n",
      "(1, 3, 80, 80)\n",
      "(80, 80, 3)\n",
      "(1, 3, 80, 80)\n",
      "(80, 80, 3)\n",
      "(1, 3, 80, 80)\n",
      "(80, 80, 3)\n",
      "(1, 3, 80, 80)\n",
      "(80, 80, 3)\n",
      "(1, 3, 80, 80)\n",
      "(80, 80, 3)\n",
      "(1, 3, 80, 80)\n",
      "(80, 80, 3)\n",
      "(1, 3, 80, 80)\n",
      "(80, 80, 3)\n",
      "(1, 3, 80, 80)\n",
      "(80, 80, 3)\n",
      "(1, 3, 80, 80)\n",
      "(80, 80, 3)\n",
      "(1, 3, 80, 80)\n",
      "(80, 80, 3)\n",
      "(1, 3, 80, 80)\n",
      "(80, 80, 3)\n",
      "(1, 3, 80, 80)\n",
      "(80, 80, 3)\n",
      "(1, 3, 80, 80)\n",
      "(80, 80, 3)\n",
      "(1, 3, 80, 80)\n",
      "(80, 80, 3)\n",
      "(1, 3, 80, 80)\n",
      "(80, 80, 3)\n",
      "(1, 3, 80, 80)\n",
      "(80, 80, 3)\n",
      "(1, 3, 80, 80)\n",
      "(80, 80, 3)\n",
      "(1, 3, 80, 80)\n",
      "(80, 80, 3)\n",
      "(1, 3, 80, 80)\n",
      "(80, 80, 3)\n",
      "(1, 3, 80, 80)\n",
      "(80, 80, 3)\n",
      "(1, 3, 80, 80)\n",
      "tensor([[[[145., 145., 145.,  ..., 152., 149., 148.],\n",
      "          [143., 144., 146.,  ..., 150., 150., 149.],\n",
      "          [144., 145., 146.,  ..., 150., 150., 149.],\n",
      "          ...,\n",
      "          [197., 191., 172.,  ..., 191., 188., 166.],\n",
      "          [196., 194., 189.,  ..., 177., 180., 183.],\n",
      "          [160., 161., 171.,  ..., 165., 157., 165.]],\n",
      "\n",
      "         [[155., 156., 158.,  ..., 169., 167., 167.],\n",
      "          [156., 157., 159.,  ..., 170., 169., 168.],\n",
      "          [157., 158., 159.,  ..., 170., 169., 168.],\n",
      "          ...,\n",
      "          [137., 141., 162.,  ..., 213., 213., 190.],\n",
      "          [169., 186., 199.,  ..., 191., 196., 205.],\n",
      "          [165., 171., 183.,  ..., 178., 171., 182.]],\n",
      "\n",
      "         [[147., 148., 151.,  ..., 163., 161., 161.],\n",
      "          [147., 148., 150.,  ..., 161., 161., 162.],\n",
      "          [148., 149., 150.,  ..., 161., 161., 162.],\n",
      "          ...,\n",
      "          [109., 114., 155.,  ..., 186., 182., 160.],\n",
      "          [153., 174., 195.,  ..., 183., 186., 187.],\n",
      "          [159., 168., 179.,  ..., 171., 163., 170.]]]])\n"
     ]
    }
   ],
   "source": [
    "eval_data = np.array(list(ikrl.png_load('eval', False).values()))\n",
    "eval_data = np.array(eval_data)\n",
    "eval_data = np.transpose(eval_data, (0, 3, 1, 2))\n",
    "eval_data = torch.Tensor(eval_data)\n",
    "\n",
    "eval_dataset = CustomDataset(eval_data, np.zeros(len(eval_data)))\n",
    "\n",
    "pred = model.predict(eval_dataset)\n",
    "\n",
    "# Detach each tensor, convert it to a NumPy array, and stack them together\n",
    "pred = np.stack([tensor.detach().numpy() for tensor in pred])\n",
    "\n",
    "# First, apply the softmax function to convert values to probabilities\n",
    "exp_matrix = np.exp(pred)\n",
    "row_sums = exp_matrix.sum(axis=2, keepdims=True)\n",
    "\n",
    "# Normalize each value by dividing it by the sum of the values in its row\n",
    "cnn_predictions = exp_matrix / row_sums\n",
    "#final_preds = [torch.max(x.data, 1)[1] for x in pred]\n",
    "\n",
    "\n",
    "# get a list of all files in the eval folder\n",
    "file_list = os.listdir('eval')\n",
    "from PIL import Image\n",
    "#import torch\n",
    "\n",
    "\n",
    "with open('out_cnn.txt','w') as f:\n",
    "    for file in file_list:\n",
    "        if file.endswith(\".png\"):  # check if the file is a PNG file\n",
    "            file_path = os.path.join('eval', file)  # get the full file path\n",
    "            image = np.array(Image.open(file_path), dtype=np.float64)\n",
    "            #transpose\n",
    "            image = np.expand_dims(image, axis=0)\n",
    "            image = np.transpose(image, (0, 3, 1, 2))\n",
    "\n",
    "            print(image.shape)\n",
    "            tensor_image = torch.Tensor(image)  # convert to tensor\n",
    "\n",
    "            model.eval()\n",
    "            #to dataset\n",
    "            with torch.no_grad():\n",
    "                eval_dataset = CustomDataset(tensor_image, np.zeros(len(tensor_image)))\n",
    "                pred = model.predict(eval_dataset)\n",
    "\n",
    "            # Detach each tensor\n",
    "            pred = np.stack([tensor.detach().numpy() for tensor in pred])\n",
    "            exp_m = np.exp(pred)\n",
    "            row_sums = exp_m.sum(axis=2, keepdims=True)\n",
    "            pred = exp_m / row_sums\n",
    "\n",
    "            #format: file_name hard_decision soft_decision (31 values)\n",
    "            f.write(file + ' ' + str(np.argmax(pred)) + ' ' + ' '.join(map(str, pred[0][0])) + '\\n')\n"
   ]
  },
  {
   "attachments": {},
   "cell_type": "markdown",
   "metadata": {},
   "source": [
    "## SVM"
   ]
  },
  {
   "cell_type": "code",
   "execution_count": null,
   "metadata": {},
   "outputs": [],
   "source": [
    "from svm import SVCTrain\n",
    "\n",
    "model = SVCTrain()\n",
    "model.train_svc(train_dataset, eval_dataset)\n",
    "svm_prob = model.predict_whole_dataset(eval_data)\n",
    "print(model.predict_whole_dataset(eval_data))"
   ]
  },
  {
   "attachments": {},
   "cell_type": "markdown",
   "metadata": {},
   "source": [
    "## GMM"
   ]
  },
  {
   "cell_type": "code",
   "execution_count": null,
   "metadata": {},
   "outputs": [],
   "source": [
    "from gmm import GMMmodel\n",
    "\n",
    "train_dataset_np = np.array(train_dataset.images)\n",
    "train_dataset_mean_face = np.mean(train_dataset_np, axis=0)\n",
    "plt.imshow(train_dataset_mean_face.transpose(1, 2, 0).astype(np.uint8))\n",
    "plt.title(\"You main not like this but this is what peak performance looks like (mean face) \")\n",
    "plt.axis('off')\n",
    "\n",
    "model = GMMmodel()\n",
    "eval_subs_mean = model.train_gmm(train_dataset, test_dataset, eval_dataset)"
   ]
  },
  {
   "cell_type": "code",
   "execution_count": null,
   "metadata": {},
   "outputs": [],
   "source": [
    "res = model.predict(eval_subs_mean[0])\n",
    "res = res.T\n",
    "\n",
    "# Subtract the maximum value from each row\n",
    "res -= np.max(res, axis=1, keepdims=True)\n",
    "\n",
    "# Calculate the exponentials\n",
    "prob_matrix = np.exp(res)\n",
    "\n",
    "# Normalize the probabilities so that they sum to 1 for each data point\n",
    "gmm_image_prob = prob_matrix / prob_matrix.sum(axis=1, keepdims=True)\n",
    "\n",
    "print(\"Normalized probability matrix:\")\n",
    "print(gmm_image_prob)"
   ]
  },
  {
   "cell_type": "markdown",
   "metadata": {},
   "source": [
    "## Audio"
   ]
  },
  {
   "cell_type": "code",
   "execution_count": null,
   "metadata": {},
   "outputs": [],
   "source": [
    "from audio import Audio"
   ]
  },
  {
   "cell_type": "code",
   "execution_count": null,
   "metadata": {},
   "outputs": [],
   "source": [
    "cepstral_mean_subtraction_enabled = False\n",
    "delta_coefficients_enabled = False\n",
    "coefficients_normalization = False\n",
    "\n",
    "audio_adjust_enabled = True\n",
    "reduce_noise_enabled = True\n",
    "data_augmentation_enabled = True\n",
    "data_pre_emphasis = False\n",
    "\n",
    "CLASSES = 31"
   ]
  },
  {
   "cell_type": "code",
   "execution_count": null,
   "metadata": {
    "collapsed": false
   },
   "outputs": [],
   "source": [
    "audio = Audio(CLASSES, \"train\", \"eval\")\n",
    "audio.do_audio_adjust(audio_adjust_enabled)\n",
    "audio.do_reduce_noise(reduce_noise_enabled)\n",
    "audio.do_data_augmentation(data_augmentation_enabled)\n",
    "if data_pre_emphasis:\n",
    "    train_audio, dev_audio = audio.do_data_pre_emphasis()\n",
    "else:\n",
    "    train_audio, dev_audio = audio.do_classic_load()\n",
    "train_audio = audio.do_coefficients_normalization(train_audio, coefficients_normalization)\n",
    "train_audio = audio.do_delta_coefficients(train_audio, delta_coefficients_enabled)\n",
    "train_audio = audio.do_cepstral_mean_subtraction(train_audio, cepstral_mean_subtraction_enabled)"
   ]
  },
  {
   "cell_type": "code",
   "execution_count": null,
   "outputs": [],
   "source": [
    "audio = Audio(CLASSES, \"train\", \"eval\")\n",
    "if data_pre_emphasis:\n",
    "    train_audio, dev_audio = audio.do_data_pre_emphasis()\n",
    "else:\n",
    "    train_audio, dev_audio = audio.do_classic_load()\n",
    "train_audio = audio.do_coefficients_normalization(train_audio, coefficients_normalization)\n",
    "train_audio = audio.do_delta_coefficients(train_audio, delta_coefficients_enabled)\n",
    "train_audio = audio.do_cepstral_mean_subtraction(train_audio, cepstral_mean_subtraction_enabled)"
   ],
   "metadata": {
    "collapsed": false
   }
  },
  {
   "cell_type": "code",
   "execution_count": null,
   "outputs": [],
   "source": [
    "Ws, MUs, COVs = audio.train_gmm(train_audio, 3, 30)"
   ],
   "metadata": {
    "collapsed": false
   }
  },
  {
   "cell_type": "code",
   "execution_count": null,
   "outputs": [],
   "source": [
    "gmm_audio_prob, accuracy = audio.eval(dev_audio, Ws, MUs, COVs, eval_format='new')\n",
    "print(gmm_audio_prob)"
   ],
   "metadata": {
    "collapsed": false
   }
  },
  {
   "cell_type": "markdown",
   "source": [
    "## Majority voting"
   ],
   "metadata": {
    "collapsed": false
   }
  },
  {
   "cell_type": "code",
   "execution_count": null,
   "outputs": [],
   "source": [
    "def majority_voting(pred_gmm, pred_svm, pred_cnn):\n",
    "    return np.array([np.argmax(np.bincount([a, b, c])) for a, b, c in zip(pred_gmm, pred_svm, pred_cnn)])\n",
    "\n",
    "# Assuming you have already classified the test images using the three models\n",
    "# and have the predictions in the following variables:\n",
    "# pred_gmm, pred_svm, pred_cnn\n",
    "\n",
    "# Combine the predictions using majority voting\n",
    "pred_ensemble = majority_voting(gmm_audio_prob, gmm_image_prob, svm_prob, cnn_predictions)\n",
    "\n",
    "# Calculate the accuracy of the ensemble\n",
    "ensemble_accuracy = np.sum(test_y == pred_ensemble) / len(test_y)\n",
    "print(\"Ensemble accuracy:\", ensemble_accuracy)\n",
    "\n",
    "#generate file out.txt with result format:\n",
    "# file_name hard_decision soft_decision (31 values)\n",
    "\n",
    "with open('audio_gmm.txt', 'w') as f:\n",
    "    for i in range(len(eval_subs_mean[1])):\n",
    "        f.write(eval_subs_mean[1][i] + ' ' + str(np.argmax(gmm_audio_prob[i])) + ' ' + str(gmm_audio_prob[i]) + '\\n')\n",
    "with open('image_gmm.txt', 'w') as f:\n",
    "    for i in range(len(eval_subs_mean[1])):\n",
    "        f.write(eval_subs_mean[1][i] + ' ' + str(np.argmax(gmm_image_prob[i])) + ' ' + str(gmm_image_prob[i]) + '\\n')\n",
    "\n",
    "with open('image_svm.txt', 'w') as f:\n",
    "    for i in range(len(eval_subs_mean[1])):\n",
    "        f.write(eval_subs_mean[1][i] + ' ' + str(np.argmax(svm_prob[i])) + ' ' + str(svm_prob[i]) + '\\n')\n"
   ],
   "metadata": {
    "collapsed": false
   }
  }
 ],
 "metadata": {
  "kernelspec": {
   "display_name": "Python 3.10.10 64-bit",
   "language": "python",
   "name": "python3"
  },
  "language_info": {
   "codemirror_mode": {
    "name": "ipython",
    "version": 3
   },
   "file_extension": ".py",
   "mimetype": "text/x-python",
   "name": "python",
   "nbconvert_exporter": "python",
   "pygments_lexer": "ipython3",
   "version": "3.10.10"
  },
  "vscode": {
   "interpreter": {
    "hash": "eda7e54fe21129b67f77862937907ee926f057597a3e2fa1e18ac955e40912b3"
   }
  }
 },
 "nbformat": 4,
 "nbformat_minor": 0
}
