{
 "cells": [
  {
   "cell_type": "code",
   "execution_count": null,
   "outputs": [],
   "source": [
    "import os\n",
    "import shutil\n",
    "\n",
    "parent_dirs = [\"train\", \"dev\"]\n",
    "\n",
    "for parent_dir in parent_dirs:\n",
    "    for i in range(1, 32):\n",
    "        current_dir = os.path.join(parent_dir, str(i))\n",
    "\n",
    "        # Make sure the directory exists\n",
    "        if os.path.exists(current_dir):\n",
    "            for subdir in os.listdir(current_dir):\n",
    "                subdir_path = os.path.join(current_dir, subdir)\n",
    "                if os.path.isdir(subdir_path):\n",
    "                    shutil.rmtree(subdir_path)\n",
    "                    print(f\"Removed directory: {subdir_path}\")\n"
   ],
   "metadata": {
    "collapsed": false,
    "ExecuteTime": {
     "start_time": "2023-04-29T23:25:24.506992Z",
     "end_time": "2023-04-29T23:25:24.697735Z"
    }
   }
  },
  {
   "cell_type": "code",
   "execution_count": null,
   "outputs": [],
   "source": [
    "import os\n",
    "\n",
    "import matplotlib.pyplot as plt\n",
    "import numpy as np\n",
    "import torch\n",
    "\n",
    "import ikrlib as ikrl\n",
    "from augment import augment_images"
   ],
   "metadata": {
    "collapsed": false,
    "ExecuteTime": {
     "start_time": "2023-04-29T23:58:09.940166Z",
     "end_time": "2023-04-29T23:58:20.289929Z"
    }
   }
  },
  {
   "cell_type": "markdown",
   "metadata": {},
   "source": [
    "# Image\n",
    "## CNN"
   ]
  },
  {
   "cell_type": "code",
   "execution_count": null,
   "metadata": {
    "ExecuteTime": {
     "start_time": "2023-04-29T22:38:27.866794Z",
     "end_time": "2023-04-29T22:38:31.424697Z"
    }
   },
   "outputs": [],
   "source": [
    "data_augmentation_enabled = True\n",
    "\n",
    "if data_augmentation_enabled:\n",
    "    augment_images('train', 'train/da')\n",
    "    augment_images('dev', 'dev/da')"
   ]
  },
  {
   "cell_type": "code",
   "execution_count": null,
   "metadata": {
    "ExecuteTime": {
     "start_time": "2023-04-29T23:27:18.271789Z",
     "end_time": "2023-04-29T23:27:37.212045Z"
    }
   },
   "outputs": [],
   "source": [
    "from image import CustomDataset, CNNModel\n",
    "\n",
    "CLASSES = 31\n",
    "\n",
    "train_x = np.empty((0, 80, 80, 3))\n",
    "train_y = np.empty((0), dtype=int)\n",
    "\n",
    "test_x = np.empty((0, 80, 80, 3))\n",
    "test_y = np.empty((0), dtype=int)\n",
    "\n",
    "for i in range(1, CLASSES + 1):\n",
    "    train_i = np.array(list(ikrl.png_load(os.path.join(\"train3\", str(i)), False).values()))\n",
    "    label_i = np.full(len(train_i), i - 1)\n",
    "    train_x = np.concatenate((train_x, train_i), axis=0)\n",
    "    train_y = np.concatenate((train_y, label_i), axis=0)\n",
    "\n",
    "    train_i = np.array(list(ikrl.png_load(os.path.join(\"dev3\", str(i)), False).values()))\n",
    "    label_i = np.full(len(train_i), i - 1)\n",
    "    train_x = np.concatenate((train_x, train_i), axis=0)\n",
    "    train_y = np.concatenate((train_y, label_i), axis=0)\n",
    "\n",
    "    test_i = np.array(list(ikrl.png_load(os.path.join(\"dev3\", str(i)), False).values()))\n",
    "    label_i = np.full(len(test_i), i - 1)\n",
    "    test_x = np.concatenate((test_x, test_i), axis=0)\n",
    "    test_y = np.concatenate((test_y, label_i), axis=0)\n",
    "\n",
    "print(\"Images were successfully loaded\")\n",
    "\n",
    "# convert 80,80,3 to 3,80,80\n",
    "train_x = np.array(train_x)\n",
    "train_x = np.transpose(train_x, (0, 3, 1, 2))\n",
    "\n",
    "test_x = np.array(test_x)\n",
    "test_x = np.transpose(test_x, (0, 3, 1, 2))\n",
    "\n",
    "# Convert NumPy arrays to PyTorch tensors\n",
    "train_tensors = torch.Tensor(train_x)\n",
    "test_tensors = torch.Tensor(test_x)\n",
    "\n",
    "# Create new TensorDataset instances with the modified labels\n",
    "train_dataset = CustomDataset(train_tensors, train_y)\n",
    "test_dataset = CustomDataset(test_tensors, test_y)\n",
    "print(\"Dataset was successfully created\")\n",
    "\n",
    "#TODO pls debug no work\n",
    "model = CNNModel(num_classes=31, lr=1e-4)\n",
    "model.train_net(train_dataset, test_dataset, num_epochs=50)\n",
    "print(\"Model was successfully trained\")\n"
   ]
  },
  {
   "cell_type": "code",
   "execution_count": null,
   "metadata": {
    "ExecuteTime": {
     "start_time": "2023-04-29T23:27:37.214009Z",
     "end_time": "2023-04-29T23:27:41.966587Z"
    }
   },
   "outputs": [],
   "source": [
    "eval_data = np.array(list(ikrl.png_load('eval', False).values()))\n",
    "eval_data = np.array(eval_data)\n",
    "eval_data = np.transpose(eval_data, (0, 3, 1, 2))\n",
    "eval_data = torch.Tensor(eval_data)\n",
    "\n",
    "eval_dataset = CustomDataset(eval_data, np.zeros(len(eval_data)))\n",
    "\n",
    "pred = model.predict(eval_dataset)\n",
    "\n",
    "# Detach each tensor, convert it to a NumPy array, and stack them together\n",
    "pred = np.stack([tensor.detach().numpy() for tensor in pred])\n",
    "\n",
    "# First, apply the softmax function to convert values to probabilities\n",
    "exp_matrix = np.exp(pred)\n",
    "row_sums = exp_matrix.sum(axis=2, keepdims=True)\n",
    "\n",
    "# Normalize each value by dividing it by the sum of the values in its row\n",
    "cnn_predictions = exp_matrix / row_sums\n",
    "#final_preds = [torch.max(x.data, 1)[1] for x in pred]\n",
    "print(cnn_predictions)"
   ]
  },
  {
   "attachments": {},
   "cell_type": "markdown",
   "metadata": {},
   "source": [
    "## SVM"
   ]
  },
  {
   "cell_type": "code",
   "execution_count": null,
   "metadata": {
    "ExecuteTime": {
     "start_time": "2023-04-29T23:27:41.966856Z",
     "end_time": "2023-04-29T23:27:47.437352Z"
    }
   },
   "outputs": [],
   "source": [
    "from svm import SVCTrain\n",
    "\n",
    "model = SVCTrain()\n",
    "model.train_svc(train_dataset, eval_dataset)\n",
    "svm_prob = model.predict_whole_dataset(eval_data)\n",
    "print(model.predict_whole_dataset(eval_data))"
   ]
  },
  {
   "attachments": {},
   "cell_type": "markdown",
   "metadata": {},
   "source": [
    "## GMM"
   ]
  },
  {
   "cell_type": "code",
   "execution_count": null,
   "metadata": {
    "ExecuteTime": {
     "start_time": "2023-04-29T23:27:47.439065Z",
     "end_time": "2023-04-29T23:30:12.327019Z"
    }
   },
   "outputs": [],
   "source": [
    "from gmm import GMMmodel\n",
    "\n",
    "train_dataset_np = np.array(train_dataset.images)\n",
    "train_dataset_mean_face = np.mean(train_dataset_np, axis=0)\n",
    "plt.imshow(train_dataset_mean_face.transpose(1, 2, 0).astype(np.uint8))\n",
    "plt.title(\"You main not like this but this is what peak performance looks like (mean face) \")\n",
    "plt.axis('off')\n",
    "\n",
    "model = GMMmodel()\n",
    "eval_subs_mean = model.train_gmm(train_dataset, test_dataset, eval_dataset)"
   ]
  },
  {
   "cell_type": "code",
   "execution_count": null,
   "metadata": {
    "ExecuteTime": {
     "start_time": "2023-04-29T23:30:12.518230Z",
     "end_time": "2023-04-29T23:30:20.396669Z"
    }
   },
   "outputs": [],
   "source": [
    "res = model.predict(eval_subs_mean[0])\n",
    "res = res.T\n",
    "\n",
    "# Subtract the maximum value from each row\n",
    "res -= np.max(res, axis=1, keepdims=True)\n",
    "\n",
    "# Calculate the exponentials\n",
    "prob_matrix = np.exp(res)\n",
    "\n",
    "# Normalize the probabilities so that they sum to 1 for each data point\n",
    "gmm_image_prob = prob_matrix / prob_matrix.sum(axis=1, keepdims=True)\n",
    "\n",
    "print(\"Normalized probability matrix:\")\n",
    "print(gmm_image_prob)"
   ]
  },
  {
   "cell_type": "markdown",
   "metadata": {},
   "source": [
    "## Audio"
   ]
  },
  {
   "cell_type": "code",
   "execution_count": null,
   "metadata": {
    "ExecuteTime": {
     "start_time": "2023-04-30T00:33:35.070270Z",
     "end_time": "2023-04-30T00:33:45.496953Z"
    }
   },
   "outputs": [],
   "source": [
    "from audio import Audio"
   ]
  },
  {
   "cell_type": "code",
   "execution_count": null,
   "metadata": {
    "ExecuteTime": {
     "start_time": "2023-04-30T00:33:45.499850Z",
     "end_time": "2023-04-30T00:33:45.501960Z"
    }
   },
   "outputs": [],
   "source": [
    "cepstral_mean_subtraction_enabled = False\n",
    "delta_coefficients_enabled = False\n",
    "coefficients_normalization = False\n",
    "\n",
    "audio_adjust_enabled = True\n",
    "reduce_noise_enabled = True\n",
    "data_augmentation_enabled = True\n",
    "data_pre_emphasis = False\n",
    "\n",
    "CLASSES = 31\n",
    "generate_data = False"
   ]
  },
  {
   "cell_type": "code",
   "execution_count": null,
   "metadata": {
    "collapsed": false,
    "ExecuteTime": {
     "start_time": "2023-04-29T23:41:46.541900Z",
     "end_time": "2023-04-29T23:43:28.107081Z"
    }
   },
   "outputs": [],
   "source": [
    "audio = Audio(CLASSES, \"train\", \"eval\")\n",
    "if generate_data:\n",
    "    audio.do_audio_adjust(audio_adjust_enabled)\n",
    "    audio.do_reduce_noise(reduce_noise_enabled)\n",
    "    audio.do_data_augmentation(data_augmentation_enabled)"
   ]
  },
  {
   "cell_type": "code",
   "execution_count": null,
   "outputs": [],
   "source": [
    "if data_pre_emphasis:\n",
    "    train_audio, dev_audio = audio.do_data_pre_emphasis()\n",
    "else:\n",
    "    train_audio, dev_audio = audio.do_classic_load()\n",
    "train_audio = audio.do_coefficients_normalization(train_audio, coefficients_normalization)\n",
    "train_audio = audio.do_delta_coefficients(train_audio, delta_coefficients_enabled)\n",
    "train_audio = audio.do_cepstral_mean_subtraction(train_audio, cepstral_mean_subtraction_enabled)"
   ],
   "metadata": {
    "collapsed": false,
    "ExecuteTime": {
     "start_time": "2023-04-30T00:37:42.729691Z",
     "end_time": "2023-04-30T00:38:22.841093Z"
    }
   }
  },
  {
   "cell_type": "code",
   "execution_count": null,
   "outputs": [],
   "source": [
    "Ws, MUs, COVs = audio.train_gmm(train_audio, 3, 40)"
   ],
   "metadata": {
    "collapsed": false,
    "ExecuteTime": {
     "start_time": "2023-04-30T00:38:34.987063Z",
     "end_time": "2023-04-30T00:39:15.359227Z"
    }
   }
  },
  {
   "cell_type": "code",
   "execution_count": null,
   "outputs": [],
   "source": [
    "gmm_audio_prob, files = audio.eval(dev_audio, Ws, MUs, COVs, eval_format='new')"
   ],
   "metadata": {
    "collapsed": false,
    "ExecuteTime": {
     "start_time": "2023-04-30T00:39:23.319255Z",
     "end_time": "2023-04-30T00:39:43.929079Z"
    }
   }
  },
  {
   "cell_type": "code",
   "execution_count": null,
   "outputs": [],
   "source": [
    "import numpy as np\n",
    "# Remove the 'eval/rn/' prefix from filenames\n",
    "filenames = np.array([filename.replace(\"eval/rn/\", \"\") for filename in files])\n",
    "\n",
    "# Sort filenames and get the indices for sorting the matrix\n",
    "sorted_indices = np.argsort(filenames)\n",
    "sorted_filenames = filenames[sorted_indices]\n",
    "sorted_matrix = np.array(gmm_audio_prob)[sorted_indices]\n",
    "\n",
    "# Write the sorted results to a file\n",
    "with open(\"sorted_results.txt\", \"w\") as f:\n",
    "    for file, correspond_pred in zip(sorted_filenames, sorted_matrix):\n",
    "        pred = np.argmax(correspond_pred)\n",
    "        f.write(file + ' ' + str(pred + 1) + ' ' + ' '.join(map(str, correspond_pred)) + '\\n')\n"
   ],
   "metadata": {
    "collapsed": false,
    "ExecuteTime": {
     "start_time": "2023-04-30T00:39:53.932842Z",
     "end_time": "2023-04-30T00:39:53.945116Z"
    }
   }
  },
  {
   "cell_type": "markdown",
   "source": [
    "## Majority voting"
   ],
   "metadata": {
    "collapsed": false
   }
  },
  {
   "cell_type": "code",
   "execution_count": null,
   "outputs": [],
   "source": [
    "# Combine the prediction matrices by averaging the class probabilities\n",
    "combined_prob = (gmm_audio_prob + gmm_image_prob + svm_prob + cnn_predictions) / 4\n",
    "\n",
    "# Find the class with the highest probability for each data point\n",
    "final_predictions = np.argmax(combined_prob, axis=1)\n",
    "print(final_predictions)"
   ],
   "metadata": {
    "collapsed": false,
    "ExecuteTime": {
     "start_time": "2023-04-29T23:45:34.283955Z",
     "end_time": "2023-04-29T23:45:34.353937Z"
    }
   }
  }
 ],
 "metadata": {
  "kernelspec": {
   "display_name": "Python 3.10.10 64-bit",
   "language": "python",
   "name": "python3"
  },
  "language_info": {
   "codemirror_mode": {
    "name": "ipython",
    "version": 3
   },
   "file_extension": ".py",
   "mimetype": "text/x-python",
   "name": "python",
   "nbconvert_exporter": "python",
   "pygments_lexer": "ipython3",
   "version": "3.10.10"
  },
  "vscode": {
   "interpreter": {
    "hash": "eda7e54fe21129b67f77862937907ee926f057597a3e2fa1e18ac955e40912b3"
   }
  }
 },
 "nbformat": 4,
 "nbformat_minor": 0
}
