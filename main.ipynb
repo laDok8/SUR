{
 "cells": [
  {
   "cell_type": "code",
   "execution_count": null,
   "metadata": {
    "collapsed": false,
    "ExecuteTime": {
     "start_time": "2023-04-29T23:25:24.506992Z",
     "end_time": "2023-04-29T23:25:24.697735Z"
    }
   },
   "outputs": [],
   "source": [
    "import os\n",
    "import shutil\n",
    "\n",
    "if not os.path.exists('SUR_projekt2022-2023.zip'):\n",
    "    !wget https://www.fit.vutbr.cz/study/courses/SUR/public/projekt_2022-2023/SUR_projekt2022-2023.zip\n",
    "    !unzip SUR_projekt2022-2023.zip\n",
    "if not os.path.exists('SUR_projekt2022-2023_eval.zip'):\n",
    "    !wget https://www.fit.vutbr.cz/study/courses/SUR/public/projekt_2022-2023/SUR_projekt2022-2023_eval.zip\n",
    "    !unzip SUR_projekt2022-2023_eval.zip\n"
   ]
  },
  {
   "cell_type": "code",
   "execution_count": null,
   "outputs": [],
   "source": [
    "delete_dirs = False\n",
    "\n",
    "if delete_dirs:\n",
    "    parent_dirs = [\"train\", \"dev\"]\n",
    "\n",
    "    for parent_dir in parent_dirs:\n",
    "        for i in range(1, 32):\n",
    "            current_dir = os.path.join(parent_dir, str(i))\n",
    "\n",
    "            # Make sure the directory exists\n",
    "            if os.path.exists(current_dir):\n",
    "                for subdir in os.listdir(current_dir):\n",
    "                    subdir_path = os.path.join(current_dir, subdir)\n",
    "                    if os.path.isdir(subdir_path):\n",
    "                        shutil.rmtree(subdir_path)\n",
    "                        print(f\"Removed directory: {subdir_path}\")"
   ],
   "metadata": {
    "collapsed": false,
    "ExecuteTime": {
     "start_time": "2023-04-30T14:15:17.195761Z",
     "end_time": "2023-04-30T14:15:17.200943Z"
    }
   }
  },
  {
   "cell_type": "code",
   "execution_count": null,
   "outputs": [],
   "source": [
    "import matplotlib.pyplot as plt\n",
    "import numpy as np\n",
    "import torch\n",
    "from augment import augment_images\n",
    "import os\n",
    "import shutil\n",
    "import ikrlib as ikrl\n",
    "\n",
    "CLASSES = 31\n",
    "if not os.path.exists(\"results\"):\n",
    "    os.mkdir(\"results\")"
   ],
   "metadata": {
    "collapsed": false,
    "ExecuteTime": {
     "start_time": "2023-04-30T14:31:45.263917Z",
     "end_time": "2023-04-30T14:31:45.267335Z"
    }
   }
  },
  {
   "cell_type": "markdown",
   "metadata": {},
   "source": [
    "# Image\n",
    "## CNN"
   ]
  },
  {
   "cell_type": "code",
   "execution_count": null,
   "metadata": {
    "ExecuteTime": {
     "start_time": "2023-04-30T14:11:19.051213Z",
     "end_time": "2023-04-30T14:11:21.411520Z"
    }
   },
   "outputs": [],
   "source": [
    "data_augmentation_enabled = True\n",
    "\n",
    "# Copy all to train\n",
    "for cls in range(1, CLASSES + 1):\n",
    "    for f in os.listdir(os.path.join(\"dev\", str(cls))):\n",
    "       shutil.copy(os.path.join(\"dev\", str(cls), f), os.path.join(\"train\", str(cls), f))\n",
    "\n",
    "\n",
    "if data_augmentation_enabled:\n",
    "    augment_images('train', 'train/da')\n",
    "    augment_images('dev', 'dev/da')"
   ]
  },
  {
   "cell_type": "code",
   "execution_count": null,
   "metadata": {
    "ExecuteTime": {
     "start_time": "2023-04-30T14:31:52.248470Z",
     "end_time": "2023-04-30T14:32:37.003842Z"
    }
   },
   "outputs": [],
   "source": [
    "from image import CustomDataset, CNNModel\n",
    "\n",
    "train_x = np.empty((0, 80, 80, 3))\n",
    "train_y = np.empty(0, dtype=int)\n",
    "\n",
    "test_x = np.empty((0, 80, 80, 3))\n",
    "test_y = np.empty(0, dtype=int)\n",
    "\n",
    "for i in range(1, CLASSES + 1):\n",
    "    train_i = np.array(list(ikrl.png_load(os.path.join(\"train\", str(i)), False).values()))\n",
    "    label_i = np.full(len(train_i), i - 1)\n",
    "    train_x = np.concatenate((train_x, train_i), axis=0)\n",
    "    train_y = np.concatenate((train_y, label_i), axis=0)\n",
    "\n",
    "    train_i = np.array(list(ikrl.png_load(os.path.join(\"dev\", str(i)), False).values()))\n",
    "    label_i = np.full(len(train_i), i - 1)\n",
    "    train_x = np.concatenate((train_x, train_i), axis=0)\n",
    "    train_y = np.concatenate((train_y, label_i), axis=0)\n",
    "\n",
    "    test_i = np.array(list(ikrl.png_load(os.path.join(\"dev\", str(i)), False).values()))\n",
    "    label_i = np.full(len(test_i), i - 1)\n",
    "    test_x = np.concatenate((test_x, test_i), axis=0)\n",
    "    test_y = np.concatenate((test_y, label_i), axis=0)\n",
    "\n",
    "print(\"Images were successfully loaded\")\n",
    "\n",
    "# convert 80,80,3 to 3,80,80\n",
    "train_x = np.array(train_x)\n",
    "train_x = np.transpose(train_x, (0, 3, 1, 2))\n",
    "\n",
    "test_x = np.array(test_x)\n",
    "test_x = np.transpose(test_x, (0, 3, 1, 2))\n",
    "\n",
    "train_tensors = torch.Tensor(train_x)\n",
    "test_tensors = torch.Tensor(test_x)\n",
    "\n",
    "train_dataset = CustomDataset(train_tensors, train_y)\n",
    "test_dataset = CustomDataset(test_tensors, test_y)\n",
    "print(\"Dataset was successfully created\")\n",
    "\n",
    "model = CNNModel(num_classes=31, lr=1e-4)\n",
    "model.train_net(train_dataset, test_dataset, num_epochs=100)\n",
    "print(\"Model was successfully trained\")\n"
   ]
  },
  {
   "cell_type": "code",
   "execution_count": null,
   "metadata": {
    "ExecuteTime": {
     "start_time": "2023-04-30T14:32:37.006793Z",
     "end_time": "2023-04-30T14:32:40.410936Z"
    }
   },
   "outputs": [],
   "source": [
    "import numpy as np\n",
    "\n",
    "data = ikrl.png_load('eval', False)\n",
    "filenames = list(data.keys())\n",
    "filenames = np.array([filename.replace(\"eval/\", \"\") for filename in filenames])\n",
    "eval_data = np.array(list(data.values()))\n",
    "eval_data = np.array(eval_data)\n",
    "eval_data = np.transpose(eval_data, (0, 3, 1, 2))\n",
    "eval_data = torch.Tensor(eval_data)\n",
    "\n",
    "eval_dataset = CustomDataset(eval_data, np.zeros(len(eval_data)))\n",
    "pred = model.predict(eval_dataset)\n",
    "\n",
    "pred = np.stack([tensor.detach().numpy() for tensor in pred])\n",
    "exp_matrix = np.exp(pred)\n",
    "row_sums = exp_matrix.sum(axis=2, keepdims=True)\n",
    "cnn_predictions = exp_matrix / row_sums\n",
    "cnn_predictions = np.squeeze(cnn_predictions, axis=1)\n",
    "print(cnn_predictions.shape)\n",
    "\n",
    "sorted_indices = np.argsort(filenames)\n",
    "sorted_filenames = filenames[sorted_indices]\n",
    "sorted_cnn_prob = np.array(cnn_predictions)[sorted_indices]\n",
    "\n",
    "with open(\"results/cnn_prob_table.txt\", \"w\") as f:\n",
    "    for file, correspond_pred in zip(sorted_filenames, sorted_cnn_prob):\n",
    "        pred = np.argmax(correspond_pred)\n",
    "        f.write(file + ' ' + str(pred + 1) + ' ' + ' '.join(map(str, correspond_pred)) + '\\n')\n"
   ]
  },
  {
   "attachments": {},
   "cell_type": "markdown",
   "metadata": {},
   "source": [
    "## SVM"
   ]
  },
  {
   "cell_type": "code",
   "execution_count": null,
   "metadata": {
    "ExecuteTime": {
     "start_time": "2023-04-30T14:32:40.412899Z",
     "end_time": "2023-04-30T14:32:43.757256Z"
    }
   },
   "outputs": [],
   "source": [
    "from svm import SVCTrain\n",
    "\n",
    "model = SVCTrain()\n",
    "model.train_svc(train_dataset, eval_dataset)\n",
    "svm_prob = model.predict_whole_dataset(eval_data)\n",
    "\n",
    "# Sort filenames and get the indices for sorting the matrix\n",
    "sorted_indices = np.argsort(filenames)\n",
    "sorted_filenames = filenames[sorted_indices]\n",
    "sorted_svm_prob = np.array(svm_prob)[sorted_indices]\n",
    "\n",
    "# Write the sorted results to a file\n",
    "with open(\"results/svm_prob_table.txt\", \"w\") as f:\n",
    "    for file, correspond_pred in zip(sorted_filenames, sorted_svm_prob):\n",
    "        pred = np.argmax(correspond_pred)\n",
    "        f.write(file + ' ' + str(pred + 1) + ' ' + ' '.join(map(str, correspond_pred)) + '\\n')"
   ]
  },
  {
   "attachments": {},
   "cell_type": "markdown",
   "metadata": {},
   "source": [
    "## GMM"
   ]
  },
  {
   "cell_type": "code",
   "execution_count": null,
   "metadata": {
    "ExecuteTime": {
     "start_time": "2023-04-30T14:32:43.759382Z",
     "end_time": "2023-04-30T14:36:52.268010Z"
    }
   },
   "outputs": [],
   "source": [
    "from gmm import GMMmodel\n",
    "\n",
    "train_dataset_np = np.array(train_dataset.images)\n",
    "train_dataset_mean_face = np.mean(train_dataset_np, axis=0)\n",
    "plt.imshow(train_dataset_mean_face.transpose(1, 2, 0).astype(np.uint8))\n",
    "plt.title(\"You main not like this but this is what peak performance looks like (mean face) \")\n",
    "plt.axis('off')\n",
    "\n",
    "model = GMMmodel()\n",
    "eval_subs_mean = model.train_gmm(train_dataset, test_dataset, eval_dataset)"
   ]
  },
  {
   "cell_type": "code",
   "execution_count": null,
   "metadata": {
    "ExecuteTime": {
     "start_time": "2023-04-30T14:36:52.276640Z",
     "end_time": "2023-04-30T14:37:02.297157Z"
    }
   },
   "outputs": [],
   "source": [
    "res = model.predict(eval_subs_mean[0])\n",
    "res = res.T\n",
    "\n",
    "# Subtract the maximum value from each row\n",
    "res -= np.max(res, axis=1, keepdims=True)\n",
    "\n",
    "# Calculate the exponentials\n",
    "prob_matrix = np.exp(res)\n",
    "\n",
    "# Normalize the probabilities so that they sum to 1 for each data point\n",
    "gmm_image_prob = prob_matrix / prob_matrix.sum(axis=1, keepdims=True)"
   ]
  },
  {
   "cell_type": "code",
   "execution_count": null,
   "outputs": [],
   "source": [
    "# Sort filenames and get the indices for sorting the matrix\n",
    "sorted_indices = np.argsort(filenames)\n",
    "sorted_filenames = filenames[sorted_indices]\n",
    "sorted_gmm_image = np.array(gmm_image_prob)[sorted_indices]\n",
    "\n",
    "# Write the sorted results to a file\n",
    "with open(\"results/gmm_image_prob_table.txt\", \"w\") as f:\n",
    "    for file, correspond_pred in zip(sorted_filenames, sorted_gmm_image):\n",
    "        pred = np.argmax(correspond_pred)\n",
    "        f.write(file + ' ' + str(pred + 1) + ' ' + ' '.join(map(str, correspond_pred)) + '\\n')"
   ],
   "metadata": {
    "collapsed": false,
    "ExecuteTime": {
     "start_time": "2023-04-30T14:37:02.315932Z",
     "end_time": "2023-04-30T14:37:02.346537Z"
    }
   }
  },
  {
   "cell_type": "markdown",
   "metadata": {},
   "source": [
    "## Audio"
   ]
  },
  {
   "cell_type": "code",
   "execution_count": null,
   "metadata": {
    "ExecuteTime": {
     "start_time": "2023-04-30T14:37:29.450609Z",
     "end_time": "2023-04-30T14:37:29.460209Z"
    }
   },
   "outputs": [],
   "source": [
    "from audio import Audio\n",
    "import numpy as np"
   ]
  },
  {
   "cell_type": "code",
   "execution_count": null,
   "metadata": {
    "ExecuteTime": {
     "start_time": "2023-04-30T14:37:30.247405Z",
     "end_time": "2023-04-30T14:37:30.253731Z"
    }
   },
   "outputs": [],
   "source": [
    "cepstral_mean_subtraction_enabled = False\n",
    "delta_coefficients_enabled = False\n",
    "coefficients_normalization = False\n",
    "\n",
    "audio_adjust_enabled = True\n",
    "reduce_noise_enabled = True\n",
    "data_augmentation_enabled = True\n",
    "data_pre_emphasis = False\n",
    "\n",
    "CLASSES = 31\n",
    "generate_data = True"
   ]
  },
  {
   "cell_type": "code",
   "execution_count": null,
   "metadata": {
    "collapsed": false,
    "ExecuteTime": {
     "start_time": "2023-04-30T14:37:30.741232Z",
     "end_time": "2023-04-30T14:37:30.745497Z"
    }
   },
   "outputs": [],
   "source": [
    "audio = Audio(CLASSES, \"train\", \"eval\")\n",
    "if generate_data:\n",
    "    audio.do_audio_adjust(audio_adjust_enabled)\n",
    "    audio.do_reduce_noise(reduce_noise_enabled)\n",
    "    audio.do_data_augmentation(data_augmentation_enabled)"
   ]
  },
  {
   "cell_type": "code",
   "execution_count": null,
   "outputs": [],
   "source": [
    "if data_pre_emphasis:\n",
    "    train_audio, dev_audio = audio.do_data_pre_emphasis()\n",
    "else:\n",
    "    train_audio, dev_audio = audio.do_classic_load()\n",
    "train_audio = audio.do_coefficients_normalization(train_audio, coefficients_normalization)\n",
    "train_audio = audio.do_delta_coefficients(train_audio, delta_coefficients_enabled)\n",
    "train_audio = audio.do_cepstral_mean_subtraction(train_audio, cepstral_mean_subtraction_enabled)"
   ],
   "metadata": {
    "collapsed": false,
    "ExecuteTime": {
     "start_time": "2023-04-30T14:37:31.383775Z",
     "end_time": "2023-04-30T14:38:39.267360Z"
    }
   }
  },
  {
   "cell_type": "code",
   "execution_count": null,
   "outputs": [],
   "source": [
    "Ws, MUs, COVs = audio.train_gmm(train_audio, 10, 50)"
   ],
   "metadata": {
    "collapsed": false,
    "ExecuteTime": {
     "start_time": "2023-04-30T14:38:39.272527Z",
     "end_time": "2023-04-30T14:42:12.037379Z"
    }
   }
  },
  {
   "cell_type": "code",
   "execution_count": null,
   "outputs": [],
   "source": [
    "gmm_audio_prob, filenames = audio.eval(dev_audio, Ws, MUs, COVs, eval_format='new')"
   ],
   "metadata": {
    "collapsed": false,
    "ExecuteTime": {
     "start_time": "2023-04-30T14:42:12.043469Z",
     "end_time": "2023-04-30T14:42:54.764800Z"
    }
   }
  },
  {
   "cell_type": "code",
   "execution_count": null,
   "outputs": [],
   "source": [
    "filenames = np.array([filename.replace(\"eval/rn/\", \"\") for filename in filenames])\n",
    "# Sort filenames and get the indices for sorting the matrix\n",
    "sorted_indices = np.argsort(filenames)\n",
    "sorted_filenames = filenames[sorted_indices]\n",
    "sorted_gmm_audio_prob = np.array(gmm_audio_prob)[sorted_indices]\n",
    "\n",
    "# Write the sorted results to a file\n",
    "with open(\"results/gmm_audio_prob_table.txt\", \"w\") as f:\n",
    "    for file, correspond_pred in zip(sorted_filenames, sorted_gmm_audio_prob):\n",
    "        pred = np.argmax(correspond_pred)\n",
    "        f.write(file + ' ' + str(pred + 1) + ' ' + ' '.join(map(str, correspond_pred)) + '\\n')"
   ],
   "metadata": {
    "collapsed": false,
    "ExecuteTime": {
     "start_time": "2023-04-30T14:42:54.778705Z",
     "end_time": "2023-04-30T14:42:54.796285Z"
    }
   }
  },
  {
   "cell_type": "markdown",
   "source": [
    "## Average models result"
   ],
   "metadata": {
    "collapsed": false
   }
  },
  {
   "cell_type": "code",
   "execution_count": null,
   "outputs": [],
   "source": [
    "cnn_weight = 0.31\n",
    "audio_weight = 0.24\n",
    "svm_weight = 0.21\n",
    "gmm_image_weight = 0.24\n",
    "\n",
    "assert (cnn_weight + audio_weight + svm_weight + gmm_image_weight == 1)\n",
    "\n",
    "# Multiply each model's probability matrix by its corresponding weight\n",
    "weighted_gmm_audio_prob = sorted_gmm_audio_prob * audio_weight\n",
    "weighted_gmm_image_prob = sorted_gmm_image * gmm_image_weight\n",
    "weighted_svm_prob = sorted_svm_prob * svm_weight\n",
    "weighted_cnn_prob = sorted_cnn_prob * cnn_weight\n",
    "\n",
    "ws = weighted_gmm_audio_prob + weighted_gmm_image_prob + weighted_svm_prob + weighted_cnn_prob\n",
    "average_all = ws / np.sum(ws, axis=1, keepdims=True)\n",
    "\n",
    "cnn_weight = 0.4\n",
    "audio_weight = 0.3\n",
    "gmm_image_weight = 0.3\n",
    "\n",
    "assert (cnn_weight + audio_weight + gmm_image_weight == 1)\n",
    "\n",
    "# Multiply each model's probability matrix by its corresponding weight\n",
    "weighted_gmm_audio_prob = sorted_gmm_audio_prob * audio_weight\n",
    "weighted_gmm_image_prob = sorted_gmm_image * gmm_image_weight\n",
    "weighted_cnn_prob = sorted_cnn_prob * cnn_weight\n",
    "\n",
    "ws = weighted_gmm_audio_prob + weighted_gmm_image_prob + weighted_cnn_prob\n",
    "average_gmm_cnn = ws / np.sum(ws, axis=1, keepdims=True)\n",
    "\n",
    "cnn_weight = 0.6\n",
    "audio_weight = 0.4\n",
    "\n",
    "assert (cnn_weight + audio_weight == 1)\n",
    "\n",
    "# Multiply each model's probability matrix by its corresponding weight\n",
    "weighted_gmm_audio_prob = sorted_gmm_audio_prob * audio_weight\n",
    "weighted_cnn_prob = sorted_cnn_prob * cnn_weight\n",
    "\n",
    "ws = weighted_gmm_audio_prob + weighted_cnn_prob\n",
    "average_gmm_audio_cnn = ws / np.sum(ws, axis=1, keepdims=True)\n",
    "\n",
    "with open(\"results/average_all.txt\", \"w\") as f:\n",
    "    for file, correspond_pred in zip(sorted_filenames, average_all):\n",
    "        pred = np.argmax(correspond_pred)\n",
    "        f.write(file + ' ' + str(pred + 1) + ' ' + ' '.join(map(str, correspond_pred)) + '\\n')\n",
    "\n",
    "with open(\"results/average_gmm_cnn.txt\", \"w\") as f:\n",
    "    for file, correspond_pred in zip(sorted_filenames, average_gmm_cnn):\n",
    "        pred = np.argmax(correspond_pred)\n",
    "        f.write(file + ' ' + str(pred + 1) + ' ' + ' '.join(map(str, correspond_pred)) + '\\n')\n",
    "\n",
    "with open(\"results/average_gmm_audio_cnn.txt\", \"w\") as f:\n",
    "    for file, correspond_pred in zip(sorted_filenames, average_gmm_audio_cnn):\n",
    "        pred = np.argmax(correspond_pred)\n",
    "        f.write(file + ' ' + str(pred + 1) + ' ' + ' '.join(map(str, correspond_pred)) + '\\n')"
   ],
   "metadata": {
    "collapsed": false,
    "ExecuteTime": {
     "start_time": "2023-04-30T14:49:57.642583Z",
     "end_time": "2023-04-30T14:49:57.698607Z"
    }
   }
  },
  {
   "cell_type": "code",
   "execution_count": null,
   "outputs": [],
   "source": [],
   "metadata": {
    "collapsed": false
   }
  }
 ],
 "metadata": {
  "kernelspec": {
   "display_name": "Python 3.10.10 64-bit",
   "language": "python",
   "name": "python3"
  },
  "language_info": {
   "codemirror_mode": {
    "name": "ipython",
    "version": 3
   },
   "file_extension": ".py",
   "mimetype": "text/x-python",
   "name": "python",
   "nbconvert_exporter": "python",
   "pygments_lexer": "ipython3",
   "version": "3.10.10"
  },
  "vscode": {
   "interpreter": {
    "hash": "eda7e54fe21129b67f77862937907ee926f057597a3e2fa1e18ac955e40912b3"
   }
  }
 },
 "nbformat": 4,
 "nbformat_minor": 0
}
