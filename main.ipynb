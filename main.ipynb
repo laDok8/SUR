{
 "cells": [
  {
   "cell_type": "code",
   "execution_count": 1,
   "metadata": {
    "ExecuteTime": {
     "end_time": "2023-04-29T22:18:40.576836284Z",
     "start_time": "2023-04-29T22:18:40.569638609Z"
    }
   },
   "outputs": [],
   "source": [
    "import os\n",
    "\n",
    "if not os.path.exists('SUR_projekt2022-2023.zip'):\n",
    "    !wget https://www.fit.vutbr.cz/study/courses/SUR/public/projekt_2022-2023/SUR_projekt2022-2023.zip\n",
    "    !unzip SUR_projekt2022-2023.zip\n",
    "if not os.path.exists('SUR_projekt2022-2023_eval.zip'):\n",
    "    !wget https://www.fit.vutbr.cz/study/courses/SUR/public/projekt_2022-2023/SUR_projekt2022-2023_eval.zip\n",
    "    !unzip SUR_projekt2022-2023_eval.zip"
   ]
  },
  {
   "cell_type": "code",
   "execution_count": 2,
   "outputs": [],
   "source": [
    "import matplotlib.pyplot as plt\n",
    "import numpy as np\n",
    "import torch\n",
    "from augment import augment_images\n",
    "import os\n",
    "import shutil\n",
    "\n",
    "import ikrlib as ikrl\n"
   ],
   "metadata": {
    "collapsed": false,
    "ExecuteTime": {
     "end_time": "2023-04-29T22:18:43.101900232Z",
     "start_time": "2023-04-29T22:18:40.569972524Z"
    }
   }
  },
  {
   "cell_type": "markdown",
   "metadata": {},
   "source": [
    "# Image\n",
    "## CNN"
   ]
  },
  {
   "cell_type": "code",
   "execution_count": 3,
   "metadata": {
    "ExecuteTime": {
     "end_time": "2023-04-29T22:18:43.234451814Z",
     "start_time": "2023-04-29T22:18:43.103276804Z"
    }
   },
   "outputs": [],
   "source": [
    "data_augmentation_enabled = False\n",
    "\n",
    "\n",
    "CLASSES = 31\n",
    "\n",
    "#copy all to train\n",
    "for cls in range(1, CLASSES + 1):\n",
    "    for f in os.listdir(os.path.join(\"dev\", str(cls))):\n",
    "       shutil.copy(os.path.join(\"dev\", str(cls), f), os.path.join(\"train\", str(cls), f))\n",
    "\n",
    "\n",
    "if data_augmentation_enabled:\n",
    "    augment_images('train', 'train/da')\n",
    "    augment_images('dev', 'dev/da')"
   ]
  },
  {
   "cell_type": "code",
   "execution_count": 4,
   "metadata": {
    "ExecuteTime": {
     "end_time": "2023-04-29T22:19:06.850142712Z",
     "start_time": "2023-04-29T22:18:43.240626058Z"
    }
   },
   "outputs": [
    {
     "name": "stdout",
     "output_type": "stream",
     "text": [
      "Images were successfully loaded\n",
      "Dataset was successfully created\n",
      "Epoch: 1/100, Loss: 115.0990, Accuracy: 0.0000, 0 and 62\n",
      "Epoch: 51/100, Loss: 7.1101, Accuracy: 0.9839, 61 and 62\n",
      "Epoch: 100/100, Loss: 1.4620, Accuracy: 0.9839, 61 and 62\n",
      "Model was successfully trained\n"
     ]
    }
   ],
   "source": [
    "from image import CustomDataset, CNNModel\n",
    "\n",
    "\n",
    "\n",
    "train_x = np.empty((0, 80, 80, 3))\n",
    "train_y = np.empty((0), dtype=int)\n",
    "\n",
    "test_x = np.empty((0, 80, 80, 3))\n",
    "test_y = np.empty((0), dtype=int)\n",
    "\n",
    "for i in range(1, CLASSES + 1):\n",
    "    train_i = np.array(list(ikrl.png_load(os.path.join(\"train\", str(i)), False).values()))\n",
    "    label_i = np.full(len(train_i), i - 1)\n",
    "    train_x = np.concatenate((train_x, train_i), axis=0)\n",
    "    train_y = np.concatenate((train_y, label_i), axis=0)\n",
    "\n",
    "    test_i = np.array(list(ikrl.png_load(os.path.join(\"dev\", str(i)), False).values()))\n",
    "    label_i = np.full(len(test_i), i - 1)\n",
    "    test_x = np.concatenate((test_x, test_i), axis=0)\n",
    "    test_y = np.concatenate((test_y, label_i), axis=0)\n",
    "\n",
    "print(\"Images were successfully loaded\")\n",
    "\n",
    "# convert 80,80,3 to 3,80,80\n",
    "train_x = np.array(train_x)\n",
    "train_x = np.transpose(train_x, (0, 3, 1, 2))\n",
    "\n",
    "test_x = np.array(test_x)\n",
    "test_x = np.transpose(test_x, (0, 3, 1, 2))\n",
    "\n",
    "# Convert NumPy arrays to PyTorch tensors\n",
    "train_tensors = torch.Tensor(train_x)\n",
    "test_tensors = torch.Tensor(test_x)\n",
    "\n",
    "# Create new TensorDataset instances with the modified labels\n",
    "train_dataset = CustomDataset(train_tensors, train_y)\n",
    "test_dataset = CustomDataset(test_tensors, test_y)\n",
    "print(\"Dataset was successfully created\")\n",
    "\n",
    "model = CNNModel(num_classes=31, lr=1e-4)\n",
    "model.train_net(train_dataset, test_dataset, num_epochs=100)\n",
    "print(\"Model was successfully trained\")\n"
   ]
  },
  {
   "cell_type": "code",
   "execution_count": 5,
   "metadata": {
    "ExecuteTime": {
     "end_time": "2023-04-29T22:19:09.935114628Z",
     "start_time": "2023-04-29T22:19:06.864689756Z"
    }
   },
   "outputs": [],
   "source": [
    "eval_data = np.array(list(ikrl.png_load('eval', False).values()))\n",
    "eval_data = np.array(eval_data)\n",
    "eval_data = np.transpose(eval_data, (0, 3, 1, 2))\n",
    "eval_data = torch.Tensor(eval_data)\n",
    "\n",
    "eval_dataset = CustomDataset(eval_data, np.zeros(len(eval_data)))\n",
    "\n",
    "pred = model.predict(eval_dataset)\n",
    "\n",
    "# Detach each tensor, convert it to a NumPy array, and stack them together\n",
    "pred = np.stack([tensor.detach().numpy() for tensor in pred])\n",
    "\n",
    "# First, apply the softmax function to convert values to probabilities\n",
    "exp_matrix = np.exp(pred)\n",
    "row_sums = exp_matrix.sum(axis=2, keepdims=True)\n",
    "\n",
    "# Normalize each value by dividing it by the sum of the values in its row\n",
    "cnn_predictions = exp_matrix / row_sums\n",
    "\n",
    "\n",
    "# get a list of all files in the eval folder\n",
    "file_list = os.listdir('eval')\n",
    "from PIL import Image\n",
    "\n",
    "with open('out_cnn_image.txt','w') as f:\n",
    "    for file in file_list:\n",
    "        if file.endswith(\".png\"):  # check if the file is a PNG file\n",
    "            file_path = os.path.join('eval', file)  # get the full file path\n",
    "            image = np.array(Image.open(file_path), dtype=np.float64)\n",
    "            #transpose\n",
    "            image = np.expand_dims(image, axis=0)\n",
    "            image = np.transpose(image, (0, 3, 1, 2))\n",
    "\n",
    "            tensor_image = torch.Tensor(image)\n",
    "            eval_dataset = CustomDataset(tensor_image, np.zeros(len(tensor_image)))\n",
    "\n",
    "            model.eval()\n",
    "            with torch.no_grad():\n",
    "                pred = model.predict(eval_dataset)\n",
    "\n",
    "            # Detach\n",
    "            pred = np.stack([tensor.detach().numpy() for tensor in pred])\n",
    "            exp_m = np.exp(pred)\n",
    "            row_sums = exp_m.sum(axis=2, keepdims=True)\n",
    "            pred = exp_m / row_sums\n",
    "\n",
    "            #format: file_name hard_decision soft_decision (31 values)\n",
    "            f.write(file + ' ' + str(np.argmax(pred)+1) + ' ' + ' '.join(map(str, pred[0][0])) + '\\n')\n"
   ]
  },
  {
   "attachments": {},
   "cell_type": "markdown",
   "metadata": {},
   "source": [
    "## SVM"
   ]
  },
  {
   "cell_type": "code",
   "execution_count": 13,
   "metadata": {
    "ExecuteTime": {
     "end_time": "2023-04-29T22:23:12.313014674Z",
     "start_time": "2023-04-29T22:23:09.486262558Z"
    }
   },
   "outputs": [
    {
     "name": "stdout",
     "output_type": "stream",
     "text": [
      "[[0.03692547 0.06015949 0.01462083 ... 0.0024862  0.00287056 0.0063788 ]\n",
      " [0.05407894 0.01182673 0.03587151 ... 0.03511596 0.02109499 0.01256991]\n",
      " [0.00364623 0.00845596 0.0139231  ... 0.03372357 0.08654971 0.02703446]\n",
      " ...\n",
      " [0.00968261 0.02047737 0.44131811 ... 0.00961787 0.01049719 0.01169139]\n",
      " [0.44089958 0.02871456 0.01700998 ... 0.00487867 0.00520667 0.00461184]\n",
      " [0.00511753 0.0049935  0.00601107 ... 0.09500017 0.0257349  0.02510688]]\n"
     ]
    }
   ],
   "source": [
    "from svm import SVCTrain\n",
    "\n",
    "model = SVCTrain()\n",
    "model.train_svc(train_dataset, eval_dataset)\n",
    "svm_prob = model.predict_whole_dataset(eval_data)\n",
    "print(model.predict_whole_dataset(eval_data))\n",
    "\n",
    "\n",
    "\n",
    "with open('out_svm_image.txt','w') as f:\n",
    "    for file in file_list:\n",
    "        if file.endswith(\".png\"):  # check if the file is a PNG file\n",
    "            file_path = os.path.join('eval', file)  # get the full file path\n",
    "            image = np.array(Image.open(file_path), dtype=np.float64)\n",
    "            #transpose\n",
    "            image = np.expand_dims(image, axis=0)\n",
    "            image = np.transpose(image, (0, 3, 1, 2))\n",
    "\n",
    "            tensor_image = torch.Tensor(image)\n",
    "            pred = model.predict_whole_dataset(tensor_image)\n",
    "\n",
    "            #format: file_name hard_decision soft_decision (31 values)\n",
    "            f.write(file + ' ' + str(np.argmax(pred)+1) + ' ' + ' '.join(map(str, pred[0])) + '\\n')\n",
    "\n"
   ]
  },
  {
   "attachments": {},
   "cell_type": "markdown",
   "metadata": {},
   "source": [
    "## GMM"
   ]
  },
  {
   "cell_type": "code",
   "execution_count": 15,
   "metadata": {
    "ExecuteTime": {
     "end_time": "2023-04-29T22:27:46.222839290Z",
     "start_time": "2023-04-29T22:25:54.186669357Z"
    }
   },
   "outputs": [
    {
     "name": "stdout",
     "output_type": "stream",
     "text": [
      "Train dataset shape: (248, 6400)\n",
      "Train all shape: (248, 6400)\n",
      "Creating subs mean classes SVD\n",
      "Training GMM\n",
      "(31, 248) (31, 248)\n",
      "31\n",
      "Accuracy: 1.0\n"
     ]
    },
    {
     "data": {
      "text/plain": "<Figure size 640x480 with 1 Axes>",
      "image/png": "[encoded data removed]"
     },
     "metadata": {},
     "output_type": "display_data"
    }
   ],
   "source": [
    "from gmm import GMMmodel\n",
    "\n",
    "train_dataset_np = np.array(train_dataset.images)\n",
    "train_dataset_mean_face = np.mean(train_dataset_np, axis=0)\n",
    "plt.imshow(train_dataset_mean_face.transpose(1, 2, 0).astype(np.uint8))\n",
    "plt.title(\"You main not like this but this is what peak performance looks like (mean face) \")\n",
    "plt.axis('off')\n",
    "\n",
    "model = GMMmodel()\n",
    "eval_subs_mean = model.train_gmm(train_dataset, test_dataset, eval_dataset)\n",
    "\n",
    "\n",
    "\n"
   ]
  },
  {
   "cell_type": "code",
   "execution_count": 23,
   "metadata": {
    "ExecuteTime": {
     "end_time": "2023-04-29T22:34:11.428747314Z",
     "start_time": "2023-04-29T22:34:07.525033068Z"
    }
   },
   "outputs": [
    {
     "name": "stdout",
     "output_type": "stream",
     "text": [
      "Normalized probability matrix:\n",
      "[[0. 0. 0. 0. 0. 0. 0. 0. 1. 0. 0. 0. 0. 0. 0. 0. 0. 0. 0. 0. 0. 0. 0. 0.\n",
      "  0. 0. 0. 0. 0. 0. 0.]]\n",
      "(248, 3, 80, 80)\n",
      "(1, 3, 80, 80)\n"
     ]
    },
    {
     "ename": "ValueError",
     "evalue": "operands could not be broadcast together with shapes (1,6400) (248,) ",
     "output_type": "error",
     "traceback": [
      "\u001B[0;31m---------------------------------------------------------------------------\u001B[0m",
      "\u001B[0;31mValueError\u001B[0m                                Traceback (most recent call last)",
      "Cell \u001B[0;32mIn[23], line 29\u001B[0m\n\u001B[1;32m     26\u001B[0m \u001B[38;5;28mprint\u001B[39m(image\u001B[38;5;241m.\u001B[39mshape)\n\u001B[1;32m     27\u001B[0m tensor_image \u001B[38;5;241m=\u001B[39m torch\u001B[38;5;241m.\u001B[39mTensor(image)  \u001B[38;5;66;03m# convert to tensor\u001B[39;00m\n\u001B[0;32m---> 29\u001B[0m \u001B[38;5;28meval\u001B[39m \u001B[38;5;241m=\u001B[39m \u001B[43mmodel\u001B[49m\u001B[38;5;241;43m.\u001B[39;49m\u001B[43mpredict\u001B[49m\u001B[43m(\u001B[49m\u001B[43mtensor_image\u001B[49m\u001B[43m)\u001B[49m\n\u001B[1;32m     32\u001B[0m \u001B[38;5;28meval\u001B[39m \u001B[38;5;241m=\u001B[39m \u001B[38;5;28meval\u001B[39m\u001B[38;5;241m.\u001B[39mT\n\u001B[1;32m     33\u001B[0m \u001B[38;5;28meval\u001B[39m \u001B[38;5;241m-\u001B[39m\u001B[38;5;241m=\u001B[39m np\u001B[38;5;241m.\u001B[39mmax(\u001B[38;5;28meval\u001B[39m, axis\u001B[38;5;241m=\u001B[39m\u001B[38;5;241m1\u001B[39m, keepdims\u001B[38;5;241m=\u001B[39m\u001B[38;5;28;01mTrue\u001B[39;00m)\n",
      "File \u001B[0;32m~/repo/SUR/gmm.py:44\u001B[0m, in \u001B[0;36mGMMmodel.predict\u001B[0;34m(self, data)\u001B[0m\n\u001B[1;32m     40\u001B[0m     data \u001B[38;5;241m=\u001B[39m \u001B[38;5;28mself\u001B[39m\u001B[38;5;241m.\u001B[39mtoBlackWhite(data)\n\u001B[1;32m     41\u001B[0m     data \u001B[38;5;241m=\u001B[39m data\u001B[38;5;241m.\u001B[39mreshape(\u001B[38;5;241m-\u001B[39m\u001B[38;5;241m1\u001B[39m,\u001B[38;5;241m80\u001B[39m\u001B[38;5;241m*\u001B[39m\u001B[38;5;241m80\u001B[39m)\n\u001B[1;32m     43\u001B[0m log_probs \u001B[38;5;241m=\u001B[39m np\u001B[38;5;241m.\u001B[39marray(\n\u001B[0;32m---> 44\u001B[0m     [ilib\u001B[38;5;241m.\u001B[39mlogpdf_gmm(data, \u001B[38;5;28mself\u001B[39m\u001B[38;5;241m.\u001B[39mws[i], \u001B[38;5;28mself\u001B[39m\u001B[38;5;241m.\u001B[39mmus[i], \u001B[38;5;28mself\u001B[39m\u001B[38;5;241m.\u001B[39mcovs[i]) \u001B[38;5;28;01mfor\u001B[39;00m i \u001B[38;5;129;01min\u001B[39;00m \u001B[38;5;28mrange\u001B[39m(\u001B[38;5;28mself\u001B[39m\u001B[38;5;241m.\u001B[39mnum_classes)])\n\u001B[1;32m     45\u001B[0m \u001B[38;5;66;03m# return np.argmax(log_probs, axis=0) + 1\u001B[39;00m\n\u001B[1;32m     47\u001B[0m \u001B[38;5;28;01mreturn\u001B[39;00m log_probs\n",
      "File \u001B[0;32m~/repo/SUR/gmm.py:44\u001B[0m, in \u001B[0;36m<listcomp>\u001B[0;34m(.0)\u001B[0m\n\u001B[1;32m     40\u001B[0m     data \u001B[38;5;241m=\u001B[39m \u001B[38;5;28mself\u001B[39m\u001B[38;5;241m.\u001B[39mtoBlackWhite(data)\n\u001B[1;32m     41\u001B[0m     data \u001B[38;5;241m=\u001B[39m data\u001B[38;5;241m.\u001B[39mreshape(\u001B[38;5;241m-\u001B[39m\u001B[38;5;241m1\u001B[39m,\u001B[38;5;241m80\u001B[39m\u001B[38;5;241m*\u001B[39m\u001B[38;5;241m80\u001B[39m)\n\u001B[1;32m     43\u001B[0m log_probs \u001B[38;5;241m=\u001B[39m np\u001B[38;5;241m.\u001B[39marray(\n\u001B[0;32m---> 44\u001B[0m     [\u001B[43milib\u001B[49m\u001B[38;5;241;43m.\u001B[39;49m\u001B[43mlogpdf_gmm\u001B[49m\u001B[43m(\u001B[49m\u001B[43mdata\u001B[49m\u001B[43m,\u001B[49m\u001B[43m \u001B[49m\u001B[38;5;28;43mself\u001B[39;49m\u001B[38;5;241;43m.\u001B[39;49m\u001B[43mws\u001B[49m\u001B[43m[\u001B[49m\u001B[43mi\u001B[49m\u001B[43m]\u001B[49m\u001B[43m,\u001B[49m\u001B[43m \u001B[49m\u001B[38;5;28;43mself\u001B[39;49m\u001B[38;5;241;43m.\u001B[39;49m\u001B[43mmus\u001B[49m\u001B[43m[\u001B[49m\u001B[43mi\u001B[49m\u001B[43m]\u001B[49m\u001B[43m,\u001B[49m\u001B[43m \u001B[49m\u001B[38;5;28;43mself\u001B[39;49m\u001B[38;5;241;43m.\u001B[39;49m\u001B[43mcovs\u001B[49m\u001B[43m[\u001B[49m\u001B[43mi\u001B[49m\u001B[43m]\u001B[49m\u001B[43m)\u001B[49m \u001B[38;5;28;01mfor\u001B[39;00m i \u001B[38;5;129;01min\u001B[39;00m \u001B[38;5;28mrange\u001B[39m(\u001B[38;5;28mself\u001B[39m\u001B[38;5;241m.\u001B[39mnum_classes)])\n\u001B[1;32m     45\u001B[0m \u001B[38;5;66;03m# return np.argmax(log_probs, axis=0) + 1\u001B[39;00m\n\u001B[1;32m     47\u001B[0m \u001B[38;5;28;01mreturn\u001B[39;00m log_probs\n",
      "File \u001B[0;32m~/repo/SUR/ikrlib.py:111\u001B[0m, in \u001B[0;36mlogpdf_gmm\u001B[0;34m(x, ws, mus, covs)\u001B[0m\n\u001B[1;32m    110\u001B[0m \u001B[38;5;28;01mdef\u001B[39;00m \u001B[38;5;21mlogpdf_gmm\u001B[39m(x, ws, mus, covs):\n\u001B[0;32m--> 111\u001B[0m     \u001B[38;5;28;01mreturn\u001B[39;00m logsumexp([np\u001B[38;5;241m.\u001B[39mlog(w) \u001B[38;5;241m+\u001B[39m logpdf_gauss(x, m, c) \u001B[38;5;28;01mfor\u001B[39;00m w, m, c \u001B[38;5;129;01min\u001B[39;00m \u001B[38;5;28mzip\u001B[39m(ws, mus, covs)], axis\u001B[38;5;241m=\u001B[39m\u001B[38;5;241m0\u001B[39m)\n",
      "File \u001B[0;32m~/repo/SUR/ikrlib.py:111\u001B[0m, in \u001B[0;36m<listcomp>\u001B[0;34m(.0)\u001B[0m\n\u001B[1;32m    110\u001B[0m \u001B[38;5;28;01mdef\u001B[39;00m \u001B[38;5;21mlogpdf_gmm\u001B[39m(x, ws, mus, covs):\n\u001B[0;32m--> 111\u001B[0m     \u001B[38;5;28;01mreturn\u001B[39;00m logsumexp([np\u001B[38;5;241m.\u001B[39mlog(w) \u001B[38;5;241m+\u001B[39m \u001B[43mlogpdf_gauss\u001B[49m\u001B[43m(\u001B[49m\u001B[43mx\u001B[49m\u001B[43m,\u001B[49m\u001B[43m \u001B[49m\u001B[43mm\u001B[49m\u001B[43m,\u001B[49m\u001B[43m \u001B[49m\u001B[43mc\u001B[49m\u001B[43m)\u001B[49m \u001B[38;5;28;01mfor\u001B[39;00m w, m, c \u001B[38;5;129;01min\u001B[39;00m \u001B[38;5;28mzip\u001B[39m(ws, mus, covs)], axis\u001B[38;5;241m=\u001B[39m\u001B[38;5;241m0\u001B[39m)\n",
      "File \u001B[0;32m~/repo/SUR/ikrlib.py:84\u001B[0m, in \u001B[0;36mlogpdf_gauss\u001B[0;34m(x, mu, cov)\u001B[0m\n\u001B[1;32m     82\u001B[0m \u001B[38;5;28;01mdef\u001B[39;00m \u001B[38;5;21mlogpdf_gauss\u001B[39m(x, mu, cov):\n\u001B[1;32m     83\u001B[0m     \u001B[38;5;28;01massert\u001B[39;00m (mu\u001B[38;5;241m.\u001B[39mndim \u001B[38;5;241m==\u001B[39m \u001B[38;5;241m1\u001B[39m \u001B[38;5;129;01mand\u001B[39;00m \u001B[38;5;28mlen\u001B[39m(mu) \u001B[38;5;241m==\u001B[39m \u001B[38;5;28mlen\u001B[39m(cov) \u001B[38;5;129;01mand\u001B[39;00m (cov\u001B[38;5;241m.\u001B[39mndim \u001B[38;5;241m==\u001B[39m \u001B[38;5;241m1\u001B[39m \u001B[38;5;129;01mor\u001B[39;00m cov\u001B[38;5;241m.\u001B[39mshape[\u001B[38;5;241m0\u001B[39m] \u001B[38;5;241m==\u001B[39m cov\u001B[38;5;241m.\u001B[39mshape[\u001B[38;5;241m1\u001B[39m]))\n\u001B[0;32m---> 84\u001B[0m     x \u001B[38;5;241m=\u001B[39m \u001B[43mnp\u001B[49m\u001B[38;5;241;43m.\u001B[39;49m\u001B[43matleast_2d\u001B[49m\u001B[43m(\u001B[49m\u001B[43mx\u001B[49m\u001B[43m)\u001B[49m\u001B[43m \u001B[49m\u001B[38;5;241;43m-\u001B[39;49m\u001B[43m \u001B[49m\u001B[43mmu\u001B[49m\n\u001B[1;32m     85\u001B[0m     \u001B[38;5;28;01mif\u001B[39;00m cov\u001B[38;5;241m.\u001B[39mndim \u001B[38;5;241m==\u001B[39m \u001B[38;5;241m1\u001B[39m:\n\u001B[1;32m     86\u001B[0m         \u001B[38;5;28;01mreturn\u001B[39;00m \u001B[38;5;241m-\u001B[39m\u001B[38;5;241m0.5\u001B[39m \u001B[38;5;241m*\u001B[39m (\u001B[38;5;28mlen\u001B[39m(mu) \u001B[38;5;241m*\u001B[39m np\u001B[38;5;241m.\u001B[39mlog(\u001B[38;5;241m2\u001B[39m \u001B[38;5;241m*\u001B[39m pi) \u001B[38;5;241m+\u001B[39m np\u001B[38;5;241m.\u001B[39msum(np\u001B[38;5;241m.\u001B[39mlog(cov)) \u001B[38;5;241m+\u001B[39m np\u001B[38;5;241m.\u001B[39msum((x \u001B[38;5;241m*\u001B[39m\u001B[38;5;241m*\u001B[39m \u001B[38;5;241m2\u001B[39m) \u001B[38;5;241m/\u001B[39m cov, axis\u001B[38;5;241m=\u001B[39m\u001B[38;5;241m1\u001B[39m))\n",
      "\u001B[0;31mValueError\u001B[0m: operands could not be broadcast together with shapes (1,6400) (248,) "
     ]
    }
   ],
   "source": [
    "res = model.predict(eval_subs_mean[0])\n",
    "res = res.T\n",
    "\n",
    "# Subtract the maximum value from each row\n",
    "res -= np.max(res, axis=1, keepdims=True)\n",
    "\n",
    "# Calculate the exponentials\n",
    "prob_matrix = np.exp(res)\n",
    "\n",
    "# Normalize the probabilities so that they sum to 1 for each data point\n",
    "gmm_image_prob = prob_matrix / prob_matrix.sum(axis=1, keepdims=True)\n",
    "\n",
    "print(\"Normalized probability matrix:\")\n",
    "print(gmm_image_prob)\n",
    "\n",
    "\n",
    "with open('out_gmm_image.txt','w') as f:\n",
    "    for file in file_list:\n",
    "        if file.endswith(\".png\"):  # check if the file is a PNG file\n",
    "            file_path = os.path.join('eval', file)  # get the full file path\n",
    "            image = np.array(Image.open(file_path), dtype=np.float64)\n",
    "            #transpose\n",
    "            image = np.expand_dims(image, axis=0)\n",
    "            image = np.transpose(image, (0, 3, 1, 2))\n",
    "            print(train_dataset_np.shape)\n",
    "            print(image.shape)\n",
    "            tensor_image = torch.Tensor(image)  # convert to tensor\n",
    "\n",
    "            eval = model.predict(tensor_image)\n",
    "\n",
    "\n",
    "            eval = eval.T\n",
    "            eval -= np.max(eval, axis=1, keepdims=True)\n",
    "            prob_mtx = np.exp(eval)\n",
    "            prob_mtx = prob_mtx / prob_mtx.sum(axis=1, keepdims=True)\n",
    "\n",
    "            #format: file_name hard_decision soft_decision (31 values)\n",
    "            f.write(file + ' ' + str(np.argmax(prob_mtx)+1) + ' ' + ' '.join(map(str, prob_mtx[0])) + '\\n')\n",
    "\n"
   ]
  },
  {
   "cell_type": "markdown",
   "metadata": {},
   "source": [
    "## Audio"
   ]
  },
  {
   "cell_type": "code",
   "execution_count": null,
   "metadata": {},
   "outputs": [],
   "source": [
    "from audio import Audio"
   ]
  },
  {
   "cell_type": "code",
   "execution_count": null,
   "metadata": {},
   "outputs": [],
   "source": [
    "cepstral_mean_subtraction_enabled = False\n",
    "delta_coefficients_enabled = False\n",
    "coefficients_normalization = False\n",
    "\n",
    "audio_adjust_enabled = True\n",
    "reduce_noise_enabled = True\n",
    "data_augmentation_enabled = True\n",
    "data_pre_emphasis = False\n",
    "\n",
    "CLASSES = 31"
   ]
  },
  {
   "cell_type": "code",
   "execution_count": null,
   "metadata": {
    "collapsed": false
   },
   "outputs": [],
   "source": [
    "audio = Audio(CLASSES, \"train\", \"eval\")\n",
    "audio.do_audio_adjust(audio_adjust_enabled)\n",
    "audio.do_reduce_noise(reduce_noise_enabled)\n",
    "audio.do_data_augmentation(data_augmentation_enabled)\n",
    "if data_pre_emphasis:\n",
    "    train_audio, dev_audio = audio.do_data_pre_emphasis()\n",
    "else:\n",
    "    train_audio, dev_audio = audio.do_classic_load()\n",
    "train_audio = audio.do_coefficients_normalization(train_audio, coefficients_normalization)\n",
    "train_audio = audio.do_delta_coefficients(train_audio, delta_coefficients_enabled)\n",
    "train_audio = audio.do_cepstral_mean_subtraction(train_audio, cepstral_mean_subtraction_enabled)"
   ]
  },
  {
   "cell_type": "code",
   "execution_count": null,
   "outputs": [],
   "source": [
    "audio = Audio(CLASSES, \"train\", \"eval\")\n",
    "if data_pre_emphasis:\n",
    "    train_audio, dev_audio = audio.do_data_pre_emphasis()\n",
    "else:\n",
    "    train_audio, dev_audio = audio.do_classic_load()\n",
    "train_audio = audio.do_coefficients_normalization(train_audio, coefficients_normalization)\n",
    "train_audio = audio.do_delta_coefficients(train_audio, delta_coefficients_enabled)\n",
    "train_audio = audio.do_cepstral_mean_subtraction(train_audio, cepstral_mean_subtraction_enabled)"
   ],
   "metadata": {
    "collapsed": false
   }
  },
  {
   "cell_type": "code",
   "execution_count": null,
   "outputs": [],
   "source": [
    "Ws, MUs, COVs = audio.train_gmm(train_audio, 3, 30)"
   ],
   "metadata": {
    "collapsed": false
   }
  },
  {
   "cell_type": "code",
   "execution_count": null,
   "outputs": [],
   "source": [
    "gmm_audio_prob, accuracy = audio.eval(dev_audio, Ws, MUs, COVs, eval_format='new')\n",
    "print(gmm_audio_prob)"
   ],
   "metadata": {
    "collapsed": false
   }
  },
  {
   "cell_type": "markdown",
   "source": [
    "## Majority voting"
   ],
   "metadata": {
    "collapsed": false
   }
  },
  {
   "cell_type": "code",
   "execution_count": null,
   "outputs": [],
   "source": [
    "def majority_voting(pred_gmm, pred_svm, pred_cnn):\n",
    "    return np.array([np.argmax(np.bincount([a, b, c])) for a, b, c in zip(pred_gmm, pred_svm, pred_cnn)])\n",
    "\n",
    "# Assuming you have already classified the test images using the three models\n",
    "# and have the predictions in the following variables:\n",
    "# pred_gmm, pred_svm, pred_cnn\n",
    "\n",
    "# Combine the predictions using majority voting\n",
    "pred_ensemble = majority_voting(gmm_audio_prob, gmm_image_prob, svm_prob, cnn_predictions)\n",
    "\n",
    "# Calculate the accuracy of the ensemble\n",
    "ensemble_accuracy = np.sum(test_y == pred_ensemble) / len(test_y)\n",
    "print(\"Ensemble accuracy:\", ensemble_accuracy)\n",
    "\n",
    "#generate file out.txt with result format:\n",
    "# file_name hard_decision soft_decision (31 values)\n",
    "\n",
    "with open('audio_gmm.txt', 'w') as f:\n",
    "    for i in range(len(eval_subs_mean[1])):\n",
    "        f.write(eval_subs_mean[1][i] + ' ' + str(np.argmax(gmm_audio_prob[i])) + ' ' + str(gmm_audio_prob[i]) + '\\n')\n",
    "with open('image_gmm.txt', 'w') as f:\n",
    "    for i in range(len(eval_subs_mean[1])):\n",
    "        f.write(eval_subs_mean[1][i] + ' ' + str(np.argmax(gmm_image_prob[i])) + ' ' + str(gmm_image_prob[i]) + '\\n')\n",
    "\n",
    "with open('image_svm.txt', 'w') as f:\n",
    "    for i in range(len(eval_subs_mean[1])):\n",
    "        f.write(eval_subs_mean[1][i] + ' ' + str(np.argmax(svm_prob[i])) + ' ' + str(svm_prob[i]) + '\\n')\n"
   ],
   "metadata": {
    "collapsed": false
   }
  }
 ],
 "metadata": {
  "kernelspec": {
   "display_name": "Python 3.10.10 64-bit",
   "language": "python",
   "name": "python3"
  },
  "language_info": {
   "codemirror_mode": {
    "name": "ipython",
    "version": 3
   },
   "file_extension": ".py",
   "mimetype": "text/x-python",
   "name": "python",
   "nbconvert_exporter": "python",
   "pygments_lexer": "ipython3",
   "version": "3.10.10"
  },
  "vscode": {
   "interpreter": {
    "hash": "eda7e54fe21129b67f77862937907ee926f057597a3e2fa1e18ac955e40912b3"
   }
  }
 },
 "nbformat": 4,
 "nbformat_minor": 0
}
