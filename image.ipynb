{
 "cells": [
  {
   "cell_type": "code",
   "execution_count": 2,
   "metadata": {
    "ExecuteTime": {
     "end_time": "2023-04-24T21:30:32.209088Z",
     "start_time": "2023-04-24T21:30:32.167504Z"
    },
    "collapsed": false
   },
   "outputs": [],
   "source": [
    "import os\n",
    "import torch\n",
    "import numpy as np\n",
    "import torch.nn as nn\n",
    "import torch.optim as optim\n",
    "import torch.nn.functional as F\n",
    "\n",
    "import matplotlib.pyplot as plt\n",
    "from glob import glob\n",
    "from PIL import Image\n",
    "from torch.utils.data import DataLoader, Dataset\n",
    "import Augmentor"
   ]
  },
  {
   "cell_type": "code",
   "execution_count": 5,
   "metadata": {
    "ExecuteTime": {
     "end_time": "2023-04-24T21:30:32.209399Z",
     "start_time": "2023-04-24T21:30:32.209057Z"
    },
    "collapsed": false
   },
   "outputs": [],
   "source": [
    "data_augmentation_enabled = True\n",
    "CLASSES = 31"
   ]
  },
  {
   "cell_type": "code",
   "execution_count": 6,
   "metadata": {
    "ExecuteTime": {
     "end_time": "2023-04-24T21:30:32.209608Z",
     "start_time": "2023-04-24T21:30:32.209263Z"
    },
    "collapsed": false
   },
   "outputs": [
    {
     "name": "stdout",
     "output_type": "stream",
     "text": [
      "Augmenting images in train/1\n",
      "Augmenting into train/da/1\n",
      "Initialised with 6 image(s) found.\n",
      "Output directory set to train/1/out."
     ]
    },
    {
     "name": "stderr",
     "output_type": "stream",
     "text": [
      "Processing <PIL.Image.Image image mode=RGB size=80x80 at 0x7FBBAC79FEB0>: 100%|██████████| 1000/1000 [00:02<00:00, 469.33 Samples/s]               \n"
     ]
    },
    {
     "name": "stdout",
     "output_type": "stream",
     "text": [
      "Augmenting images in train/2\n",
      "Augmenting into train/da/2\n",
      "Initialised with 6 image(s) found.\n",
      "Output directory set to train/2/out."
     ]
    },
    {
     "name": "stderr",
     "output_type": "stream",
     "text": [
      "Processing <PIL.Image.Image image mode=RGB size=80x80 at 0x7FBBAC7C04C0>: 100%|██████████| 1000/1000 [00:02<00:00, 466.84 Samples/s]                \n"
     ]
    },
    {
     "name": "stdout",
     "output_type": "stream",
     "text": [
      "Augmenting images in train/3\n",
      "Augmenting into train/da/3\n",
      "Initialised with 6 image(s) found.\n",
      "Output directory set to train/3/out."
     ]
    },
    {
     "name": "stderr",
     "output_type": "stream",
     "text": [
      "Processing <PIL.Image.Image image mode=RGB size=80x80 at 0x7FBBAC79FA90>: 100%|██████████| 1000/1000 [00:02<00:00, 477.61 Samples/s]                \n"
     ]
    },
    {
     "name": "stdout",
     "output_type": "stream",
     "text": [
      "Augmenting images in train/4\n",
      "Augmenting into train/da/4\n",
      "Initialised with 6 image(s) found.\n",
      "Output directory set to train/4/out."
     ]
    },
    {
     "name": "stderr",
     "output_type": "stream",
     "text": [
      "Processing <PIL.Image.Image image mode=RGB size=80x80 at 0x7FBBAC7B14B0>: 100%|██████████| 1000/1000 [00:02<00:00, 479.23 Samples/s]               \n"
     ]
    },
    {
     "name": "stdout",
     "output_type": "stream",
     "text": [
      "Augmenting images in train/5\n",
      "Augmenting into train/da/5\n",
      "Initialised with 6 image(s) found.\n",
      "Output directory set to train/5/out."
     ]
    },
    {
     "name": "stderr",
     "output_type": "stream",
     "text": [
      "Processing <PIL.Image.Image image mode=RGB size=80x80 at 0x7FBBAC79E7A0>: 100%|██████████| 1000/1000 [00:02<00:00, 482.68 Samples/s]                \n"
     ]
    },
    {
     "name": "stdout",
     "output_type": "stream",
     "text": [
      "Augmenting images in train/6\n",
      "Augmenting into train/da/6\n",
      "Initialised with 6 image(s) found.\n",
      "Output directory set to train/6/out."
     ]
    },
    {
     "name": "stderr",
     "output_type": "stream",
     "text": [
      "Processing <PIL.Image.Image image mode=RGB size=80x80 at 0x7FBBAC7C1B70>: 100%|██████████| 1000/1000 [00:02<00:00, 482.28 Samples/s]                \n"
     ]
    },
    {
     "name": "stdout",
     "output_type": "stream",
     "text": [
      "Augmenting images in train/7\n",
      "Augmenting into train/da/7\n",
      "Initialised with 6 image(s) found.\n",
      "Output directory set to train/7/out."
     ]
    },
    {
     "name": "stderr",
     "output_type": "stream",
     "text": [
      "Processing <PIL.Image.Image image mode=RGB size=80x80 at 0x7FBBAC764FD0>: 100%|██████████| 1000/1000 [00:02<00:00, 468.03 Samples/s]                \n"
     ]
    },
    {
     "name": "stdout",
     "output_type": "stream",
     "text": [
      "Augmenting images in train/8\n",
      "Augmenting into train/da/8\n",
      "Initialised with 6 image(s) found.\n",
      "Output directory set to train/8/out."
     ]
    },
    {
     "name": "stderr",
     "output_type": "stream",
     "text": [
      "Processing <PIL.Image.Image image mode=RGB size=80x80 at 0x7FBBAC7C3D00>: 100%|██████████| 1000/1000 [00:02<00:00, 485.41 Samples/s]                \n"
     ]
    },
    {
     "name": "stdout",
     "output_type": "stream",
     "text": [
      "Augmenting images in train/9\n",
      "Augmenting into train/da/9\n",
      "Initialised with 6 image(s) found.\n",
      "Output directory set to train/9/out."
     ]
    },
    {
     "name": "stderr",
     "output_type": "stream",
     "text": [
      "Processing <PIL.Image.Image image mode=RGB size=80x80 at 0x7FBBAC7644F0>: 100%|██████████| 1000/1000 [00:02<00:00, 481.28 Samples/s]                \n"
     ]
    },
    {
     "name": "stdout",
     "output_type": "stream",
     "text": [
      "Augmenting images in train/10\n",
      "Augmenting into train/da/10\n",
      "Initialised with 6 image(s) found.\n",
      "Output directory set to train/10/out."
     ]
    },
    {
     "name": "stderr",
     "output_type": "stream",
     "text": [
      "Processing <PIL.Image.Image image mode=RGB size=80x80 at 0x7FBBAC7B1EA0>: 100%|██████████| 1000/1000 [00:02<00:00, 477.54 Samples/s]               \n"
     ]
    },
    {
     "name": "stdout",
     "output_type": "stream",
     "text": [
      "Augmenting images in train/11\n",
      "Augmenting into train/da/11\n",
      "Initialised with 6 image(s) found.\n",
      "Output directory set to train/11/out."
     ]
    },
    {
     "name": "stderr",
     "output_type": "stream",
     "text": [
      "Processing <PIL.Image.Image image mode=RGB size=80x80 at 0x7FBBAC753070>: 100%|██████████| 1000/1000 [00:02<00:00, 479.79 Samples/s]                \n"
     ]
    },
    {
     "name": "stdout",
     "output_type": "stream",
     "text": [
      "Augmenting images in train/12\n",
      "Augmenting into train/da/12\n",
      "Initialised with 6 image(s) found.\n",
      "Output directory set to train/12/out."
     ]
    },
    {
     "name": "stderr",
     "output_type": "stream",
     "text": [
      "Processing <PIL.Image.Image image mode=RGB size=80x80 at 0x7FBBAC79E470>: 100%|██████████| 1000/1000 [00:02<00:00, 478.06 Samples/s]                \n"
     ]
    },
    {
     "name": "stdout",
     "output_type": "stream",
     "text": [
      "Augmenting images in train/13\n",
      "Augmenting into train/da/13\n",
      "Initialised with 6 image(s) found.\n",
      "Output directory set to train/13/out."
     ]
    },
    {
     "name": "stderr",
     "output_type": "stream",
     "text": [
      "Processing <PIL.Image.Image image mode=RGB size=80x80 at 0x7FBBAC737BB0>: 100%|██████████| 1000/1000 [00:02<00:00, 470.20 Samples/s]               \n"
     ]
    },
    {
     "name": "stdout",
     "output_type": "stream",
     "text": [
      "Augmenting images in train/14\n",
      "Augmenting into train/da/14\n",
      "Initialised with 6 image(s) found.\n",
      "Output directory set to train/14/out."
     ]
    },
    {
     "name": "stderr",
     "output_type": "stream",
     "text": [
      "Processing <PIL.Image.Image image mode=RGB size=80x80 at 0x7FBCA8131300>: 100%|██████████| 1000/1000 [00:02<00:00, 448.24 Samples/s]               \n"
     ]
    },
    {
     "name": "stdout",
     "output_type": "stream",
     "text": [
      "Augmenting images in train/15\n",
      "Augmenting into train/da/15\n",
      "Initialised with 6 image(s) found.\n",
      "Output directory set to train/15/out."
     ]
    },
    {
     "name": "stderr",
     "output_type": "stream",
     "text": [
      "Processing <PIL.Image.Image image mode=RGB size=80x80 at 0x7FBBAC7528C0>: 100%|██████████| 1000/1000 [00:02<00:00, 466.82 Samples/s]               \n"
     ]
    },
    {
     "name": "stdout",
     "output_type": "stream",
     "text": [
      "Augmenting images in train/16\n",
      "Augmenting into train/da/16\n",
      "Initialised with 6 image(s) found.\n",
      "Output directory set to train/16/out."
     ]
    },
    {
     "name": "stderr",
     "output_type": "stream",
     "text": [
      "Processing <PIL.Image.Image image mode=RGB size=80x80 at 0x7FBCA810A4A0>: 100%|██████████| 1000/1000 [00:02<00:00, 478.00 Samples/s]                \n"
     ]
    },
    {
     "name": "stdout",
     "output_type": "stream",
     "text": [
      "Augmenting images in train/17\n",
      "Augmenting into train/da/17\n",
      "Initialised with 6 image(s) found.\n",
      "Output directory set to train/17/out."
     ]
    },
    {
     "name": "stderr",
     "output_type": "stream",
     "text": [
      "Processing <PIL.Image.Image image mode=RGB size=80x80 at 0x7FBBAC736EC0>: 100%|██████████| 1000/1000 [00:02<00:00, 477.36 Samples/s]                \n"
     ]
    },
    {
     "name": "stdout",
     "output_type": "stream",
     "text": [
      "Augmenting images in train/18\n",
      "Augmenting into train/da/18\n",
      "Initialised with 6 image(s) found.\n",
      "Output directory set to train/18/out."
     ]
    },
    {
     "name": "stderr",
     "output_type": "stream",
     "text": [
      "Processing <PIL.Image.Image image mode=RGB size=80x80 at 0x7FBCA810A590>: 100%|██████████| 1000/1000 [00:02<00:00, 465.23 Samples/s]               \n"
     ]
    },
    {
     "name": "stdout",
     "output_type": "stream",
     "text": [
      "Augmenting images in train/19\n",
      "Augmenting into train/da/19\n",
      "Initialised with 6 image(s) found.\n",
      "Output directory set to train/19/out."
     ]
    },
    {
     "name": "stderr",
     "output_type": "stream",
     "text": [
      "Processing <PIL.Image.Image image mode=RGB size=80x80 at 0x7FBBAC734550>: 100%|██████████| 1000/1000 [00:02<00:00, 480.76 Samples/s]               \n"
     ]
    },
    {
     "name": "stdout",
     "output_type": "stream",
     "text": [
      "Augmenting images in train/20\n",
      "Augmenting into train/da/20\n",
      "Initialised with 6 image(s) found.\n",
      "Output directory set to train/20/out."
     ]
    },
    {
     "name": "stderr",
     "output_type": "stream",
     "text": [
      "Processing <PIL.Image.Image image mode=RGB size=80x80 at 0x7FBCA8109210>: 100%|██████████| 1000/1000 [00:02<00:00, 476.44 Samples/s]                \n"
     ]
    },
    {
     "name": "stdout",
     "output_type": "stream",
     "text": [
      "Augmenting images in train/21\n",
      "Augmenting into train/da/21\n",
      "Initialised with 6 image(s) found.\n",
      "Output directory set to train/21/out."
     ]
    },
    {
     "name": "stderr",
     "output_type": "stream",
     "text": [
      "Processing <PIL.Image.Image image mode=RGB size=80x80 at 0x7FBBAC7352D0>: 100%|██████████| 1000/1000 [00:02<00:00, 484.24 Samples/s]               \n"
     ]
    },
    {
     "name": "stdout",
     "output_type": "stream",
     "text": [
      "Augmenting images in train/22\n",
      "Augmenting into train/da/22\n",
      "Initialised with 6 image(s) found.\n",
      "Output directory set to train/22/out."
     ]
    },
    {
     "name": "stderr",
     "output_type": "stream",
     "text": [
      "Processing <PIL.Image.Image image mode=RGB size=80x80 at 0x7FBCA8109EA0>: 100%|██████████| 1000/1000 [00:02<00:00, 477.35 Samples/s]                \n"
     ]
    },
    {
     "name": "stdout",
     "output_type": "stream",
     "text": [
      "Augmenting images in train/23\n",
      "Augmenting into train/da/23\n",
      "Initialised with 6 image(s) found.\n",
      "Output directory set to train/23/out."
     ]
    },
    {
     "name": "stderr",
     "output_type": "stream",
     "text": [
      "Processing <PIL.Image.Image image mode=RGB size=80x80 at 0x7FBBAC7521D0>: 100%|██████████| 1000/1000 [00:02<00:00, 479.39 Samples/s]               \n"
     ]
    },
    {
     "name": "stdout",
     "output_type": "stream",
     "text": [
      "Augmenting images in train/24\n",
      "Augmenting into train/da/24\n",
      "Initialised with 6 image(s) found.\n",
      "Output directory set to train/24/out."
     ]
    },
    {
     "name": "stderr",
     "output_type": "stream",
     "text": [
      "Processing <PIL.Image.Image image mode=RGB size=80x80 at 0x7FBBAC7C1D20>: 100%|██████████| 1000/1000 [00:02<00:00, 467.92 Samples/s]               \n"
     ]
    },
    {
     "name": "stdout",
     "output_type": "stream",
     "text": [
      "Augmenting images in train/25\n",
      "Augmenting into train/da/25\n",
      "Initialised with 6 image(s) found.\n",
      "Output directory set to train/25/out."
     ]
    },
    {
     "name": "stderr",
     "output_type": "stream",
     "text": [
      "Processing <PIL.Image.Image image mode=RGB size=80x80 at 0x7FBBAC751A50>: 100%|██████████| 1000/1000 [00:02<00:00, 476.56 Samples/s]                \n"
     ]
    },
    {
     "name": "stdout",
     "output_type": "stream",
     "text": [
      "Augmenting images in train/26\n",
      "Augmenting into train/da/26\n",
      "Initialised with 6 image(s) found.\n",
      "Output directory set to train/26/out."
     ]
    },
    {
     "name": "stderr",
     "output_type": "stream",
     "text": [
      "Processing <PIL.Image.Image image mode=RGB size=80x80 at 0x7FBBAC7C3700>: 100%|██████████| 1000/1000 [00:02<00:00, 476.77 Samples/s]               \n"
     ]
    },
    {
     "name": "stdout",
     "output_type": "stream",
     "text": [
      "Augmenting images in train/27\n",
      "Augmenting into train/da/27\n",
      "Initialised with 6 image(s) found.\n",
      "Output directory set to train/27/out."
     ]
    },
    {
     "name": "stderr",
     "output_type": "stream",
     "text": [
      "Processing <PIL.Image.Image image mode=RGB size=80x80 at 0x7FBBAC6FEE00>: 100%|██████████| 1000/1000 [00:02<00:00, 479.45 Samples/s]               \n"
     ]
    },
    {
     "name": "stdout",
     "output_type": "stream",
     "text": [
      "Augmenting images in train/28\n",
      "Augmenting into train/da/28\n",
      "Initialised with 6 image(s) found.\n",
      "Output directory set to train/28/out."
     ]
    },
    {
     "name": "stderr",
     "output_type": "stream",
     "text": [
      "Processing <PIL.Image.Image image mode=RGB size=80x80 at 0x7FBCA819D360>: 100%|██████████| 1000/1000 [00:02<00:00, 481.04 Samples/s]               \n"
     ]
    },
    {
     "name": "stdout",
     "output_type": "stream",
     "text": [
      "Augmenting images in train/29\n",
      "Augmenting into train/da/29\n",
      "Initialised with 6 image(s) found.\n",
      "Output directory set to train/29/out."
     ]
    },
    {
     "name": "stderr",
     "output_type": "stream",
     "text": [
      "Processing <PIL.Image.Image image mode=RGB size=80x80 at 0x7FBBAC79C0D0>: 100%|██████████| 1000/1000 [00:02<00:00, 465.37 Samples/s]                \n"
     ]
    },
    {
     "name": "stdout",
     "output_type": "stream",
     "text": [
      "Augmenting images in train/30\n",
      "Augmenting into train/da/30\n",
      "Initialised with 6 image(s) found.\n",
      "Output directory set to train/30/out."
     ]
    },
    {
     "name": "stderr",
     "output_type": "stream",
     "text": [
      "Processing <PIL.Image.Image image mode=RGB size=80x80 at 0x7FBCA819DA50>: 100%|██████████| 1000/1000 [00:02<00:00, 476.78 Samples/s]                \n"
     ]
    },
    {
     "name": "stdout",
     "output_type": "stream",
     "text": [
      "Augmenting images in train/31\n",
      "Augmenting into train/da/31\n",
      "Initialised with 6 image(s) found.\n",
      "Output directory set to train/31/out."
     ]
    },
    {
     "name": "stderr",
     "output_type": "stream",
     "text": [
      "Processing <PIL.Image.Image image mode=RGB size=80x80 at 0x7FBBAC79D870>: 100%|██████████| 1000/1000 [00:02<00:00, 476.70 Samples/s]                \n"
     ]
    }
   ],
   "source": [
    "def augment_images(input_dir, output_dir, num_augmentations=int(1e3)):\n",
    "    if not os.path.exists(output_dir):\n",
    "        os.makedirs(output_dir)\n",
    "    for cls in range(1, CLASSES+1):\n",
    "        in_dir = input_dir + '/' + str(cls)\n",
    "        print('Augmenting images in ' + in_dir)\n",
    "        out_dir = output_dir + '/' + str(cls)\n",
    "        print('Augmenting into ' + out_dir)\n",
    "        if not os.path.exists(out_dir):\n",
    "            os.makedirs(out_dir)\n",
    "        p = Augmentor.Pipeline(source_directory=in_dir, output_directory=\"out\")\n",
    "        p.rotate(probability=0.7, max_left_rotation=10, max_right_rotation=10)\n",
    "        p.zoom_random(probability=0.5, percentage_area=0.8)\n",
    "        p.flip_left_right(probability=0.3)\n",
    "        p.random_distortion(probability=0.5, grid_width=4, grid_height=4, magnitude=1)\n",
    "        p.skew_tilt(probability=0.5, magnitude=0.1)\n",
    "        p.random_erasing(probability=0.2, rectangle_area=0.1)\n",
    "        p.sample(num_augmentations)\n",
    "        #out is relative for augmentator :/ move\n",
    "        os.rename(os.path.join(input_dir,str(cls),'out'), os.path.join(output_dir,str(cls)))\n",
    "\n",
    "# note that function will fail if augmentations were already present\n",
    "if data_augmentation_enabled:\n",
    "    augment_images('train', 'train/da')"
   ]
  },
  {
   "cell_type": "code",
   "execution_count": 7,
   "metadata": {
    "ExecuteTime": {
     "end_time": "2023-04-24T21:30:32.209737Z",
     "start_time": "2023-04-24T21:30:32.209478Z"
    },
    "collapsed": false
   },
   "outputs": [],
   "source": [
    "class CustomDataset(Dataset):\n",
    "    def __init__(self, images, labels) -> None:\n",
    "        self.images = images\n",
    "        self.labels = labels\n",
    "\n",
    "    def __getitem__(self, idx):\n",
    "        label = self.labels[idx]\n",
    "        image = self.images[idx]\n",
    "        return image, label\n",
    "\n",
    "    def __len__(self):\n",
    "        return len(self.labels)\n",
    "\n",
    "def png_load(dir_name):\n",
    "    \"\"\"\n",
    "    Loads all *.png images\n",
    "    \"\"\"\n",
    "    features = {}\n",
    "    for f in glob(dir_name + '/*.png'):\n",
    "        features[f] = np.array(Image.open(f), dtype=np.float64)\n",
    "    return features\n"
   ]
  },
  {
   "cell_type": "code",
   "execution_count": 39,
   "metadata": {},
   "outputs": [
    {
     "name": "stdout",
     "output_type": "stream",
     "text": [
      "Images were successfully loaded\n",
      "Dataset was successfully created\n"
     ]
    }
   ],
   "source": [
    "train_x = np.empty((0,80,80,3))\n",
    "train_y = np.empty((0),dtype=int)\n",
    "\n",
    "test_x = np.empty((0,80,80,3))\n",
    "test_y = np.empty((0),dtype=int)\n",
    "\n",
    "for i in range(1,CLASSES+1):\n",
    "    train_i = np.array(list(png_load(os.path.join(\"train/da\",str(i))).values()))\n",
    "    label_i = np.full(len(train_i),i-1)\n",
    "    train_x = np.concatenate((train_x, train_i), axis=0)\n",
    "    train_y = np.concatenate((train_y,label_i), axis=0)\n",
    "\n",
    "    test_i = np.array(list(png_load(os.path.join(\"dev\",str(i))).values()))\n",
    "    label_i = np.full(len(test_i),i-1)\n",
    "    test_x = np.concatenate((test_x, test_i), axis=0)\n",
    "    test_y = np.concatenate((test_y,label_i), axis=0)\n",
    "\n",
    "print(\"Images were successfully loaded\")\n",
    "\n",
    "# convert 80,80,3 to 3,80,80\n",
    "train_x = np.array(train_x)\n",
    "train_x = np.transpose(train_x, (0, 3, 1, 2))\n",
    "\n",
    "test_x = np.array(test_x)\n",
    "test_x = np.transpose(test_x, (0, 3, 1, 2))\n",
    "\n",
    "# Convert NumPy arrays to PyTorch tensors\n",
    "train_tensors = torch.Tensor(train_x)\n",
    "test_tensors = torch.Tensor(test_x)\n",
    "\n",
    "\n",
    "# Create new TensorDataset instances with the modified labels\n",
    "train_dataset = CustomDataset(train_tensors, train_y)\n",
    "test_dataset = CustomDataset(test_tensors, test_y)\n",
    "print(\"Dataset was successfully created\")\n",
    "\n",
    "\n",
    "batch_size = 64\n",
    "train_loader = DataLoader(train_dataset, batch_size=batch_size, shuffle=True)\n",
    "dev_loader = DataLoader(test_dataset, batch_size=batch_size, shuffle=True)"
   ]
  },
  {
   "cell_type": "code",
   "execution_count": 48,
   "metadata": {
    "ExecuteTime": {
     "end_time": "2023-04-24T21:30:58.289873Z",
     "start_time": "2023-04-24T21:30:32.209686Z"
    },
    "collapsed": false
   },
   "outputs": [],
   "source": [
    "class SmallCNNMultiClass(nn.Module):\n",
    "    def __init__(self, num_classes=CLASSES):\n",
    "        super(SmallCNNMultiClass, self).__init__()\n",
    "        self.conv1 = nn.Conv2d(3, 8, 3, padding=1)\n",
    "        self.conv2 = nn.Conv2d(8, 16, 3, padding=1)\n",
    "        self.conv3 = nn.Conv2d(16, 32, 3, padding=1)\n",
    "        self.pool = nn.MaxPool2d(2, 2)\n",
    "        self.batch_norm1 = nn.BatchNorm2d(8)\n",
    "        self.batch_norm2 = nn.BatchNorm2d(16)\n",
    "        self.dropout = nn.Dropout2d(0.4)\n",
    "        self.fc1 = nn.Linear(32 * 10 * 10, 128)\n",
    "        self.fc2 = nn.Linear(128, num_classes)\n",
    "\n",
    "    def forward(self, x):\n",
    "        #VGG like\n",
    "        x = self.pool(F.relu(self.conv1(x)))  # 40x40x8\n",
    "        x = self.dropout(self.batch_norm1(x))\n",
    "        x = self.pool(F.relu(self.conv2(x)))  # 20x20x16\n",
    "        x = self.dropout(self.batch_norm2(x))\n",
    "        x = self.pool(F.relu(self.conv3(x)))  # 10x10x32\n",
    "        x = x.view(-1, 32 * 10 * 10)  # 3200\n",
    "        x = self.fc1(x)  # 128\n",
    "        x = self.fc2(x)\n",
    "        return x"
   ]
  },
  {
   "cell_type": "code",
   "execution_count": 49,
   "metadata": {
    "ExecuteTime": {
     "end_time": "2023-04-24T21:24:08.218935Z",
     "start_time": "2023-04-24T21:23:19.704793Z"
    },
    "collapsed": false
   },
   "outputs": [
    {
     "name": "stdout",
     "output_type": "stream",
     "text": [
      "Epoch: 1/30, Loss: 586.8373, Accuracy: 0.3387, 21 and 62\n",
      "Epoch: 2/30, Loss: 208.3732, Accuracy: 0.5000, 31 and 62\n",
      "Epoch: 3/30, Loss: 141.6211, Accuracy: 0.5323, 33 and 62\n",
      "Epoch: 4/30, Loss: 111.4580, Accuracy: 0.5000, 31 and 62\n",
      "Epoch: 5/30, Loss: 92.9602, Accuracy: 0.5323, 33 and 62\n",
      "Epoch: 6/30, Loss: 79.0204, Accuracy: 0.5806, 36 and 62\n",
      "Epoch: 7/30, Loss: 74.1075, Accuracy: 0.5806, 36 and 62\n",
      "Epoch: 8/30, Loss: 65.9542, Accuracy: 0.5645, 35 and 62\n",
      "Epoch: 9/30, Loss: 61.9831, Accuracy: 0.5968, 37 and 62\n",
      "Epoch: 10/30, Loss: 49.7935, Accuracy: 0.6129, 38 and 62\n",
      "Epoch: 11/30, Loss: 53.9338, Accuracy: 0.5161, 32 and 62\n",
      "Epoch: 12/30, Loss: 49.5825, Accuracy: 0.6129, 38 and 62\n",
      "Epoch: 13/30, Loss: 44.5634, Accuracy: 0.5161, 32 and 62\n",
      "Epoch: 14/30, Loss: 50.6033, Accuracy: 0.6129, 38 and 62\n",
      "Epoch: 15/30, Loss: 39.7038, Accuracy: 0.5806, 36 and 62\n",
      "Epoch: 16/30, Loss: 42.2963, Accuracy: 0.5806, 36 and 62\n",
      "Epoch: 17/30, Loss: 41.4303, Accuracy: 0.5806, 36 and 62\n",
      "Epoch: 18/30, Loss: 37.6160, Accuracy: 0.6290, 39 and 62\n",
      "Epoch: 19/30, Loss: 39.9043, Accuracy: 0.5968, 37 and 62\n",
      "Epoch: 20/30, Loss: 34.3374, Accuracy: 0.6129, 38 and 62\n",
      "Epoch: 21/30, Loss: 36.7211, Accuracy: 0.6613, 41 and 62\n",
      "Epoch: 22/30, Loss: 33.1365, Accuracy: 0.6774, 42 and 62\n",
      "Epoch: 23/30, Loss: 32.0487, Accuracy: 0.5806, 36 and 62\n",
      "Epoch: 24/30, Loss: 31.9827, Accuracy: 0.6129, 38 and 62\n",
      "Epoch: 25/30, Loss: 35.7364, Accuracy: 0.5323, 33 and 62\n",
      "Epoch: 26/30, Loss: 29.2983, Accuracy: 0.6290, 39 and 62\n",
      "Epoch: 27/30, Loss: 33.0523, Accuracy: 0.5484, 34 and 62\n",
      "Epoch: 28/30, Loss: 35.8931, Accuracy: 0.6774, 42 and 62\n",
      "Epoch: 29/30, Loss: 27.4019, Accuracy: 0.6129, 38 and 62\n",
      "Epoch: 30/30, Loss: 25.7376, Accuracy: 0.7742, 48 and 62\n"
     ]
    },
    {
     "data": {
      "text/plain": [
       "[<matplotlib.lines.Line2D at 0x7fbb8d22a530>]"
      ]
     },
     "execution_count": 49,
     "metadata": {},
     "output_type": "execute_result"
    },
    {
     "data": {
      "image/png": "[encoded data removed]",
      "text/plain": [
       "<Figure size 640x480 with 1 Axes>"
      ]
     },
     "metadata": {},
     "output_type": "display_data"
    },
    {
     "data": {
      "image/png": "[encoded data removed]",
      "text/plain": [
       "<Figure size 640x480 with 1 Axes>"
      ]
     },
     "metadata": {},
     "output_type": "display_data"
    }
   ],
   "source": [
    "if torch.cuda.is_available():  \n",
    "    dev = \"cuda:0\" \n",
    "else:  \n",
    "    dev = \"cpu\" \n",
    "\n",
    "model = SmallCNNMultiClass()\n",
    "criterion = F.cross_entropy\n",
    "model = model.to(dev)\n",
    "# model = Net().to(dev)\n",
    "optimizer = optim.Adam(model.parameters(), lr=1e-3)\n",
    "# Training loop\n",
    "num_epochs = 30\n",
    "losses = []\n",
    "accuracys = []\n",
    "for epoch in range(num_epochs):\n",
    "    model.train()\n",
    "    train_loss = 0\n",
    "\n",
    "    for inputs, labels in train_loader:\n",
    "        inputs, labels = inputs.to(dev), labels.to(dev)\n",
    "        optimizer.zero_grad()\n",
    "        outputs = model(inputs)\n",
    "        loss = criterion(outputs, labels)\n",
    "        loss.backward()\n",
    "        optimizer.step()\n",
    "        train_loss += loss.item()\n",
    "\n",
    "    # if not epoch % 10:\n",
    "    # Evaluation on the dev set\n",
    "    model.eval()\n",
    "    correct = 0\n",
    "    total = 0\n",
    "    with torch.no_grad():\n",
    "        for inputs, labels in dev_loader:\n",
    "            inputs, labels = inputs.to(dev), labels.to(dev)\n",
    "            outputs = model(inputs)\n",
    "            _, predicted = torch.max(outputs.data, 1)\n",
    "            total += labels.size(0)\n",
    "            correct += (predicted == labels).sum().item()\n",
    "    accuracy = correct / total\n",
    "    losses.append(train_loss)\n",
    "    accuracys.append(accuracy)\n",
    "    print(f'Epoch: {epoch+1}/{num_epochs}, Loss: {train_loss:.4f}, Accuracy: {accuracy:.4f}, {correct} and {total}')\n",
    "    if accuracy > 0.85:\n",
    "        break\n",
    "\n",
    "plt.figure()\n",
    "plt.plot(accuracys)\n",
    "\n",
    "plt.figure()\n",
    "plt.plot(losses)"
   ]
  },
  {
   "cell_type": "code",
   "execution_count": null,
   "metadata": {},
   "outputs": [],
   "source": [
    "if os.path.isfile('model-0.7742.pt')\n",
    "    torch.save(model.state_dict(), 'model-0.7742.pt')"
   ]
  },
  {
   "cell_type": "code",
   "execution_count": 55,
   "metadata": {},
   "outputs": [
    {
     "name": "stdout",
     "output_type": "stream",
     "text": [
      "0.7741935483870968\n",
      "28\n",
      "tensor([[-26.4169,  -3.5410, -10.8196,  -0.5502, -32.6932,  -0.2680, -20.5778,\n",
      "           3.2251, -25.4158, -28.0959,  -0.2982,  -2.6847, -28.3864, -12.8985,\n",
      "          10.5251,  10.6980,  -0.6953,  20.6646,  12.2838,  20.1808,   0.6783,\n",
      "          -4.9222, -10.2907,   1.3234,  16.0897, -20.9524,  17.1507,   8.7355,\n",
      "          47.4353,   1.1802,  13.6893]], device='cuda:0',\n",
      "       grad_fn=<AddmmBackward0>)\n",
      "tensor([28], device='cuda:0')\n"
     ]
    },
    {
     "data": {
      "image/png": "[encoded data removed]",
      "text/plain": [
       "<Figure size 640x480 with 1 Axes>"
      ]
     },
     "metadata": {},
     "output_type": "display_data"
    }
   ],
   "source": [
    "print(accuracy)\n",
    "import random\n",
    "x, y = random.choice(test_dataset)\n",
    "print(y)\n",
    "\n",
    "import matplotlib.pyplot as plt\n",
    "plt.imshow(x[0,:,:])\n",
    "x = torch.Tensor(x).to(dev)\n",
    "model.eval()\n",
    "output = model(x.unsqueeze(0))\n",
    "print(output)\n",
    "_, predicted = torch.max(output.data, 1)\n",
    "print(predicted)"
   ]
  },
  {
   "cell_type": "code",
   "execution_count": null,
   "metadata": {},
   "outputs": [],
   "source": []
  }
 ],
 "metadata": {
  "kernelspec": {
   "display_name": "Python 3",
   "language": "python",
   "name": "python3"
  },
  "language_info": {
   "codemirror_mode": {
    "name": "ipython",
    "version": 3
   },
   "file_extension": ".py",
   "mimetype": "text/x-python",
   "name": "python",
   "nbconvert_exporter": "python",
   "pygments_lexer": "ipython3",
   "version": "3.10.6"
  }
 },
 "nbformat": 4,
 "nbformat_minor": 0
}
