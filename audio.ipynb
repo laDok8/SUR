{
 "cells": [
  {
   "cell_type": "code",
   "execution_count": 3,
   "metadata": {
    "collapsed": true,
    "ExecuteTime": {
     "start_time": "2023-04-16T21:21:43.013071Z",
     "end_time": "2023-04-16T21:21:43.465631Z"
    }
   },
   "outputs": [
    {
     "name": "stderr",
     "output_type": "stream",
     "text": [
      "/home/geffik/Desktop/projects/SUR/venv/lib/python3.10/site-packages/pydub/utils.py:170: RuntimeWarning: Couldn't find ffmpeg or avconv - defaulting to ffmpeg, but may not work\n",
      "  warn(\"Couldn't find ffmpeg or avconv - defaulting to ffmpeg, but may not work\", RuntimeWarning)\n"
     ]
    }
   ],
   "source": [
    "import ikrlib as ilib\n",
    "import numpy as np\n",
    "import os\n",
    "from pydub import AudioSegment\n",
    "from pydub.silence import detect_nonsilent"
   ]
  },
  {
   "cell_type": "code",
   "execution_count": 52,
   "outputs": [
    {
     "name": "stdout",
     "output_type": "stream",
     "text": [
      "Removing silence from records in directory target_train\n",
      "Removing silence from records in directory non_target_train\n",
      "Removing silence from records in directory target_dev\n",
      "Removing silence from records in directory non_target_dev\n"
     ]
    }
   ],
   "source": [
    "def audio_adjust(dir):\n",
    "    min_silence_len = 1000  # Minimálna dĺžka ticha (ms)\n",
    "    silence_thresh = -44    # prah ticha (dB)\n",
    "\n",
    "    print(f\"Removing silence from records in directory {dir}\")\n",
    "    if not os.path.isdir(dir + \"/rs\"):\n",
    "        os.mkdir(dir + \"/rs\")\n",
    "    for f in os.listdir(dir):\n",
    "        if f[-3:] == \"wav\":\n",
    "            input_file = dir + \"/\" + f\n",
    "            audio = AudioSegment.from_wav(input_file)\n",
    "            nonsilent_intervals = detect_nonsilent(audio, min_silence_len, silence_thresh)\n",
    "\n",
    "            # Zkonkatenuj invervaly kde nie je ticho\n",
    "            non_silent_audio = AudioSegment.empty()\n",
    "            for start, end in nonsilent_intervals:\n",
    "                non_silent_audio += audio[start:end]\n",
    "\n",
    "            # Ulož audio\n",
    "            output_file = dir + \"/rs/\" + f\n",
    "            non_silent_audio.export(output_file, format=\"wav\")\n",
    "\n",
    "audio_adjust(\"target_train\")\n",
    "audio_adjust(\"non_target_train\")\n",
    "audio_adjust(\"target_dev\")\n",
    "audio_adjust(\"non_target_dev\")"
   ],
   "metadata": {
    "collapsed": false,
    "ExecuteTime": {
     "start_time": "2023-04-16T21:18:47.395355Z",
     "end_time": "2023-04-16T21:20:00.941820Z"
    }
   }
  },
  {
   "cell_type": "code",
   "execution_count": 4,
   "outputs": [
    {
     "name": "stdout",
     "output_type": "stream",
     "text": [
      "Processing file:  target_train/rs/m421_03_r09_i0_0.wav\n",
      "Processing file:  target_train/rs/m421_03_f18_i0_0.wav\n",
      "Processing file:  target_train/rs/m421_02_r09_i0_0.wav\n",
      "Processing file:  target_train/rs/m421_02_f18_i0_0.wav\n",
      "Processing file:  target_train/rs/m421_01_f18_i0_0.wav\n",
      "Processing file:  target_train/rs/m421_01_r09_i0_0.wav\n",
      "Processing file:  non_target_train/rs/m424_02_r09_i0_0.wav\n",
      "Processing file:  non_target_train/rs/m429_01_r09_i0_0.wav\n",
      "Processing file:  non_target_train/rs/m429_01_f18_i0_0.wav\n",
      "Processing file:  non_target_train/rs/f402_03_r09_i0_0.wav\n",
      "Processing file:  non_target_train/rs/f410_03_r09_i0_0.wav\n",
      "Processing file:  non_target_train/rs/m414_02_r09_i0_0.wav\n",
      "Processing file:  non_target_train/rs/m424_02_f18_i0_0.wav\n",
      "Processing file:  non_target_train/rs/m420_03_r09_i0_0.wav\n",
      "Processing file:  non_target_train/rs/f413_01_f18_i0_0.wav\n",
      "Processing file:  non_target_train/rs/m420_02_r09_i0_0.wav\n",
      "Processing file:  non_target_train/rs/m427_03_r09_i0_0.wav\n",
      "Processing file:  non_target_train/rs/m426_03_f18_i0_0.wav\n",
      "Processing file:  non_target_train/rs/m427_01_r09_i0_0.wav\n",
      "Processing file:  non_target_train/rs/f412_03_r09_i0_0.wav\n",
      "Processing file:  non_target_train/rs/m422_03_r09_i0_0.wav\n",
      "Processing file:  non_target_train/rs/f411_02_r09_i0_0.wav\n",
      "Processing file:  non_target_train/rs/f407_03_f18_i0_0.wav\n",
      "Processing file:  non_target_train/rs/m431_01_f18_i0_0.wav\n",
      "Processing file:  non_target_train/rs/f409_01_r09_i0_0.wav\n",
      "Processing file:  non_target_train/rs/m414_03_f18_i0_0.wav\n",
      "Processing file:  non_target_train/rs/f410_03_f18_i0_0.wav\n",
      "Processing file:  non_target_train/rs/m428_03_f18_i0_0.wav\n",
      "Processing file:  non_target_train/rs/m431_02_r09_i0_0.wav\n",
      "Processing file:  non_target_train/rs/f405_01_f18_i0_0.wav\n",
      "Processing file:  non_target_train/rs/f407_02_f18_i0_0.wav\n",
      "Processing file:  non_target_train/rs/f410_02_r09_i0_0.wav\n",
      "Processing file:  non_target_train/rs/m428_01_r09_i0_0.wav\n",
      "Processing file:  non_target_train/rs/f411_03_r09_i0_0.wav\n",
      "Processing file:  non_target_train/rs/f403_01_f18_i0_0.wav\n",
      "Processing file:  non_target_train/rs/m424_01_f18_i0_0.wav\n",
      "Processing file:  non_target_train/rs/f401_02_r09_i0_0.wav\n",
      "Processing file:  non_target_train/rs/m426_03_r09_i0_0.wav\n",
      "Processing file:  non_target_train/rs/m429_02_f18_i0_0.wav\n",
      "Processing file:  non_target_train/rs/f413_02_r09_i0_0.wav\n",
      "Processing file:  non_target_train/rs/m422_01_r09_i0_0.wav\n",
      "Processing file:  non_target_train/rs/m430_03_r09_i0_0.wav\n",
      "Processing file:  non_target_train/rs/m428_01_f18_i0_0.wav\n",
      "Processing file:  non_target_train/rs/f412_02_r09_i0_0.wav\n",
      "Processing file:  non_target_train/rs/f411_01_r09_i0_0.wav\n",
      "Processing file:  non_target_train/rs/m425_03_r09_i0_0.wav\n",
      "Processing file:  non_target_train/rs/f406_02_r09_i0_0.wav\n",
      "Processing file:  non_target_train/rs/m419_01_f18_i0_0.wav\n",
      "Processing file:  non_target_train/rs/m428_02_f18_i0_0.wav\n",
      "Processing file:  non_target_train/rs/m425_01_f18_i0_0.wav\n",
      "Processing file:  non_target_train/rs/m429_02_r09_i0_0.wav\n",
      "Processing file:  non_target_train/rs/f415_01_f18_i0_0.wav\n",
      "Processing file:  non_target_train/rs/f408_02_r09_i0_0.wav\n",
      "Processing file:  non_target_train/rs/f403_02_r09_i0_0.wav\n",
      "Processing file:  non_target_train/rs/f402_02_f18_i0_0.wav\n",
      "Processing file:  non_target_train/rs/m425_02_f18_i0_0.wav\n",
      "Processing file:  non_target_train/rs/m425_02_r09_i0_0.wav\n",
      "Processing file:  non_target_train/rs/f401_03_r09_i0_0.wav\n",
      "Processing file:  non_target_train/rs/f412_02_f18_i0_0.wav\n",
      "Processing file:  non_target_train/rs/f415_03_f18_i0_0.wav\n",
      "Processing file:  non_target_train/rs/m422_03_f18_i0_0.wav\n",
      "Processing file:  non_target_train/rs/f415_02_r09_i0_0.wav\n",
      "Processing file:  non_target_train/rs/f415_02_f18_i0_0.wav\n",
      "Processing file:  non_target_train/rs/f406_01_r09_i0_0.wav\n",
      "Processing file:  non_target_train/rs/m430_01_r09_i0_0.wav\n",
      "Processing file:  non_target_train/rs/m425_01_r09_i0_0.wav\n",
      "Processing file:  non_target_train/rs/f413_02_f18_i0_0.wav\n",
      "Processing file:  non_target_train/rs/m414_03_r09_i0_0.wav\n",
      "Processing file:  non_target_train/rs/m423_01_f18_i0_0.wav\n",
      "Processing file:  non_target_train/rs/f405_03_f18_i0_0.wav\n",
      "Processing file:  non_target_train/rs/f412_01_r09_i0_0.wav\n",
      "Processing file:  non_target_train/rs/m432_02_f18_i0_0.wav\n",
      "Processing file:  non_target_train/rs/m426_02_f18_i0_0.wav\n",
      "Processing file:  non_target_train/rs/f405_01_r09_i0_0.wav\n",
      "Processing file:  non_target_train/rs/f433_01_r09_i0_0.wav\n",
      "Processing file:  non_target_train/rs/m427_01_f13_i0_0.wav\n",
      "Processing file:  non_target_train/rs/f408_01_f18_i0_0.wav\n",
      "Processing file:  non_target_train/rs/f403_03_r09_i0_0.wav\n",
      "Processing file:  non_target_train/rs/m417_01_f18_i0_0.wav\n",
      "Processing file:  non_target_train/rs/f408_02_f18_i0_0.wav\n",
      "Processing file:  non_target_train/rs/f433_03_f18_i0_0.wav\n",
      "Processing file:  non_target_train/rs/m423_03_f18_i0_0.wav\n",
      "Processing file:  non_target_train/rs/f410_01_f18_i0_0.wav\n",
      "Processing file:  non_target_train/rs/f412_01_f18_i0_0.wav\n",
      "Processing file:  non_target_train/rs/f408_03_f18_i0_0.wav\n",
      "Processing file:  non_target_train/rs/m430_02_f18_i0_0.wav\n",
      "Processing file:  non_target_train/rs/f409_02_f18_i0_0.wav\n",
      "Processing file:  non_target_train/rs/m428_03_r09_i0_0.wav\n",
      "Processing file:  non_target_train/rs/f406_03_r09_i0_0.wav\n",
      "Processing file:  non_target_train/rs/f401_02_f18_i0_0.wav\n",
      "Processing file:  non_target_train/rs/m423_03_r09_i0_0.wav\n",
      "Processing file:  non_target_train/rs/f413_03_f18_i0_0.wav\n",
      "Processing file:  non_target_train/rs/f409_01_f18_i0_0.wav\n",
      "Processing file:  non_target_train/rs/m419_01_r09_i0_0.wav\n",
      "Processing file:  non_target_train/rs/f407_01_r09_i0_0.wav\n",
      "Processing file:  non_target_train/rs/f402_01_r09_i0_0.wav\n",
      "Processing file:  non_target_train/rs/f413_01_r09_i0_0.wav\n",
      "Processing file:  non_target_train/rs/m429_03_f18_i0_0.wav\n",
      "Processing file:  non_target_train/rs/m417_01_r09_i0_0.wav\n",
      "Processing file:  non_target_train/rs/f406_02_f18_i0_0.wav\n",
      "Processing file:  non_target_train/rs/m427_02_f18_i0_0.wav\n",
      "Processing file:  non_target_train/rs/f401_01_r09_i0_0.wav\n",
      "Processing file:  non_target_train/rs/m426_02_r09_i0_0.wav\n",
      "Processing file:  non_target_train/rs/m417_02_r09_i0_0.wav\n",
      "Processing file:  non_target_train/rs/m419_02_r09_i0_0.wav\n",
      "Processing file:  non_target_train/rs/f413_03_r09_i0_0.wav\n",
      "Processing file:  non_target_train/rs/f403_03_f18_i0_0.wav\n",
      "Processing file:  non_target_train/rs/m420_03_f18_i0_0.wav\n",
      "Processing file:  non_target_train/rs/f407_03_r09_i0_0.wav\n",
      "Processing file:  non_target_train/rs/f407_02_r09_i0_0.wav\n",
      "Processing file:  non_target_train/rs/f433_02_f18_i0_0.wav\n",
      "Processing file:  non_target_train/rs/m425_03_f18_i0_0.wav\n",
      "Processing file:  non_target_train/rs/f407_01_f18_i0_0.wav\n",
      "Processing file:  non_target_train/rs/m420_02_f18_i0_0.wav\n",
      "Processing file:  non_target_train/rs/f401_01_f18_i0_0.wav\n",
      "Processing file:  non_target_train/rs/f406_01_f18_i0_0.wav\n",
      "Processing file:  non_target_train/rs/m422_02_f18_i0_0.wav\n",
      "Processing file:  non_target_train/rs/m419_03_r09_i0_0.wav\n",
      "Processing file:  non_target_train/rs/m414_02_f18_i0_0.wav\n",
      "Processing file:  non_target_train/rs/m431_03_r09_i0_0.wav\n",
      "Processing file:  non_target_train/rs/m427_02_r09_i0_0.wav\n",
      "Processing file:  non_target_train/rs/m428_02_r09_i0_0.wav\n",
      "Processing file:  non_target_train/rs/f409_03_r09_i0_0.wav\n",
      "Processing file:  non_target_train/rs/f415_03_r09_i0_0.wav\n",
      "Processing file:  non_target_train/rs/f408_03_r09_i0_0.wav\n",
      "Processing file:  non_target_train/rs/f433_01_f18_i0_0.wav\n",
      "Processing file:  non_target_train/rs/m423_02_f18_i0_0.wav\n",
      "Processing file:  non_target_train/rs/f411_01_f18_i0_0.wav\n",
      "Processing file:  non_target_train/rs/f412_03_f18_i0_0.wav\n",
      "Processing file:  non_target_train/rs/m417_03_f18_i0_0.wav\n",
      "Processing file:  non_target_train/rs/m424_03_f18_i0_0.wav\n",
      "Processing file:  non_target_train/rs/f433_02_r09_i0_0.wav\n",
      "Processing file:  non_target_train/rs/f405_02_f18_i0_0.wav\n",
      "Processing file:  non_target_train/rs/f410_02_f18_i0_0.wav\n",
      "Processing file:  non_target_train/rs/m430_02_r09_i0_0.wav\n",
      "Processing file:  non_target_train/rs/m427_03_f18_i0_0.wav\n",
      "Processing file:  non_target_train/rs/f406_03_f18_i0_0.wav\n",
      "Processing file:  non_target_train/rs/f408_01_r09_i0_0.wav\n",
      "Processing file:  non_target_train/rs/f402_01_f18_i0_0.wav\n",
      "Processing file:  non_target_train/rs/f403_01_r09_i0_0.wav\n",
      "Processing file:  non_target_train/rs/m414_01_r09_i0_0.wav\n",
      "Processing file:  non_target_train/rs/f402_02_r09_i0_0.wav\n",
      "Processing file:  non_target_train/rs/m432_03_f18_i0_0.wav\n",
      "Processing file:  non_target_train/rs/m432_01_r09_i0_0.wav\n",
      "Processing file:  non_target_train/rs/f411_03_f18_i0_0.wav\n",
      "Processing file:  non_target_train/rs/m431_01_r09_i0_0.wav\n",
      "Processing file:  non_target_train/rs/f405_02_r09_i0_0.wav\n",
      "Processing file:  non_target_train/rs/m419_02_f18_i0_0.wav\n",
      "Processing file:  non_target_train/rs/m414_01_f18_i0_0.wav\n",
      "Processing file:  non_target_train/rs/m420_01_f18_i0_0.wav\n",
      "Processing file:  non_target_train/rs/m424_03_r09_i0_0.wav\n",
      "Processing file:  non_target_train/rs/f433_03_r09_i0_0.wav\n",
      "Processing file:  non_target_train/rs/m431_03_f18_i0_0.wav\n",
      "Processing file:  non_target_train/rs/f410_01_r09_i0_0.wav\n",
      "Processing file:  non_target_train/rs/m422_02_r09_i0_0.wav\n",
      "Processing file:  non_target_train/rs/m420_01_r09_i0_0.wav\n",
      "Processing file:  non_target_train/rs/f401_03_f18_i0_0.wav\n",
      "Processing file:  non_target_train/rs/m422_01_f18_i0_0.wav\n",
      "Processing file:  non_target_train/rs/f409_03_f18_i0_0.wav\n",
      "Processing file:  non_target_train/rs/m432_03_r09_i0_0.wav\n",
      "Processing file:  non_target_train/rs/m426_01_r09_i0_0.wav\n",
      "Processing file:  non_target_train/rs/f405_03_r09_i0_0.wav\n",
      "Processing file:  non_target_train/rs/f415_01_r09_i0_0.wav\n",
      "Processing file:  non_target_train/rs/m417_02_f18_i0_0.wav\n",
      "Processing file:  non_target_train/rs/f409_02_r09_i0_0.wav\n",
      "Processing file:  non_target_train/rs/m423_02_r09_i0_0.wav\n",
      "Processing file:  non_target_train/rs/f411_02_f18_i0_0.wav\n",
      "Processing file:  non_target_train/rs/m430_03_f18_i0_0.wav\n",
      "Processing file:  non_target_train/rs/f403_02_f18_i0_0.wav\n",
      "Processing file:  non_target_train/rs/m419_03_f18_i0_0.wav\n",
      "Processing file:  non_target_train/rs/m432_01_f18_i0_0.wav\n",
      "Processing file:  non_target_train/rs/m426_01_f18_i0_0.wav\n",
      "Processing file:  non_target_train/rs/m417_03_r09_i0_0.wav\n",
      "Processing file:  non_target_train/rs/m429_03_r09_i0_0.wav\n",
      "Processing file:  non_target_train/rs/m431_02_f18_i0_0.wav\n",
      "Processing file:  non_target_train/rs/m424_01_r09_i0_0.wav\n",
      "Processing file:  non_target_train/rs/m423_01_r09_i0_0.wav\n",
      "Processing file:  non_target_train/rs/f402_03_f18_i0_0.wav\n",
      "Processing file:  non_target_train/rs/m432_02_r09_i0_0.wav\n",
      "Processing file:  non_target_train/rs/m430_01_f18_i0_0.wav\n",
      "Processing file:  target_dev/rs/m421_04_f18_i0_0.wav\n",
      "Processing file:  target_dev/rs/m421_04_r09_i0_0.wav\n",
      "Processing file:  non_target_dev/rs/f415_04_f18_i0_0.wav\n",
      "Processing file:  non_target_dev/rs/f411_04_r09_i0_0.wav\n",
      "Processing file:  non_target_dev/rs/f401_04_f18_i0_0.wav\n",
      "Processing file:  non_target_dev/rs/m419_04_r09_i0_0.wav\n",
      "Processing file:  non_target_dev/rs/m420_04_f18_i0_0.wav\n",
      "Processing file:  non_target_dev/rs/f404_04_f18_i0_0.wav\n",
      "Processing file:  non_target_dev/rs/f413_04_r09_i0_0.wav\n",
      "Processing file:  non_target_dev/rs/f409_04_f18_i0_0.wav\n",
      "Processing file:  non_target_dev/rs/m417_04_f18_i0_0.wav\n",
      "Processing file:  non_target_dev/rs/m425_04_f18_i0_0.wav\n",
      "Processing file:  non_target_dev/rs/f402_04_f18_i0_0.wav\n",
      "Processing file:  non_target_dev/rs/f407_04_f18_i0_0.wav\n",
      "Processing file:  non_target_dev/rs/f404_04_r09_i0_0.wav\n",
      "Processing file:  non_target_dev/rs/m422_04_r09_i0_0.wav\n",
      "Processing file:  non_target_dev/rs/m432_04_f18_i0_0.wav\n",
      "Processing file:  non_target_dev/rs/m426_04_r09_i0_0.wav\n",
      "Processing file:  non_target_dev/rs/m430_04_f18_i0_0.wav\n",
      "Processing file:  non_target_dev/rs/m423_04_r09_i0_0.wav\n",
      "Processing file:  non_target_dev/rs/f410_04_f18_i0_0.wav\n",
      "Processing file:  non_target_dev/rs/f401_04_r09_i0_0.wav\n",
      "Processing file:  non_target_dev/rs/f415_04_r09_i0_0.wav\n",
      "Processing file:  non_target_dev/rs/m430_04_r09_i0_0.wav\n",
      "Processing file:  non_target_dev/rs/m424_04_r09_i0_0.wav\n",
      "Processing file:  non_target_dev/rs/f408_04_r09_i0_0.wav\n",
      "Processing file:  non_target_dev/rs/f405_04_f18_i0_0.wav\n",
      "Processing file:  non_target_dev/rs/m419_04_f18_i0_0.wav\n",
      "Processing file:  non_target_dev/rs/m425_04_r09_i0_0.wav\n",
      "Processing file:  non_target_dev/rs/m422_04_f18_i0_0.wav\n",
      "Processing file:  non_target_dev/rs/m428_04_f18_i0_0.wav\n",
      "Processing file:  non_target_dev/rs/m431_04_f18_i0_0.wav\n",
      "Processing file:  non_target_dev/rs/m428_04_r09_i0_0.wav\n",
      "Processing file:  non_target_dev/rs/m429_04_f18_i0_0.wav\n",
      "Processing file:  non_target_dev/rs/f413_04_f18_i0_0.wav\n",
      "Processing file:  non_target_dev/rs/m426_04_f18_i0_0.wav\n",
      "Processing file:  non_target_dev/rs/f406_04_f18_i0_0.wav\n",
      "Processing file:  non_target_dev/rs/f409_04_r09_i0_0.wav\n",
      "Processing file:  non_target_dev/rs/m427_04_f18_i0_0.wav\n",
      "Processing file:  non_target_dev/rs/f408_04_f18_i0_0.wav\n",
      "Processing file:  non_target_dev/rs/f433_04_f18_i0_0.wav\n",
      "Processing file:  non_target_dev/rs/m431_04_r09_i0_0.wav\n",
      "Processing file:  non_target_dev/rs/m427_04_r09_i0_0.wav\n",
      "Processing file:  non_target_dev/rs/f402_04_r09_i0_0.wav\n",
      "Processing file:  non_target_dev/rs/f405_04_r09_i0_0.wav\n",
      "Processing file:  non_target_dev/rs/f407_04_r09_i0_0.wav\n",
      "Processing file:  non_target_dev/rs/m414_04_r09_i0_0.wav\n",
      "Processing file:  non_target_dev/rs/f411_04_f18_i0_0.wav\n",
      "Processing file:  non_target_dev/rs/m423_04_f18_i0_0.wav\n",
      "Processing file:  non_target_dev/rs/f406_04_r09_i0_0.wav\n",
      "Processing file:  non_target_dev/rs/m429_04_r09_i0_0.wav\n",
      "Processing file:  non_target_dev/rs/f412_04_r09_i0_0.wav\n",
      "Processing file:  non_target_dev/rs/f403_04_f18_i0_0.wav\n",
      "Processing file:  non_target_dev/rs/m432_04_r09_i0_0.wav\n",
      "Processing file:  non_target_dev/rs/m414_04_f18_i0_0.wav\n",
      "Processing file:  non_target_dev/rs/f410_04_r09_i0_0.wav\n",
      "Processing file:  non_target_dev/rs/f412_04_f18_i0_0.wav\n",
      "Processing file:  non_target_dev/rs/m417_04_r09_i0_0.wav\n",
      "Processing file:  non_target_dev/rs/m424_04_f18_i0_0.wav\n",
      "Processing file:  non_target_dev/rs/f433_04_r09_i0_0.wav\n",
      "Processing file:  non_target_dev/rs/m420_04_r09_i0_0.wav\n"
     ]
    }
   ],
   "source": [
    "train_t = ilib.wav16khz2mfcc('target_train/rs').values()\n",
    "train_n = ilib.wav16khz2mfcc('non_target_train/rs').values()\n",
    "\n",
    "test_t = ilib.wav16khz2mfcc('target_dev/rs').values()\n",
    "test_n = ilib.wav16khz2mfcc('non_target_dev/rs').values()\n",
    "\n",
    "# Koeficienty sa konkatenuju do jedneho poľa\n",
    "train_t = np.vstack(list(train_t))\n",
    "train_n = np.vstack(list(train_n))"
   ],
   "metadata": {
    "collapsed": false,
    "ExecuteTime": {
     "start_time": "2023-04-16T21:21:54.846530Z",
     "end_time": "2023-04-16T21:21:59.778055Z"
    }
   }
  },
  {
   "cell_type": "code",
   "execution_count": null,
   "outputs": [],
   "source": [
    "def compute_deltas(cepstral_coeffs, window_size=2):\n",
    "    num_frames, num_coeffs = cepstral_coeffs.shape\n",
    "    deltas = np.zeros((num_frames, num_coeffs))\n",
    "\n",
    "    for t in range(num_frames):\n",
    "        window_start = max(0, t - window_size)\n",
    "        window_end = min(num_frames, t + window_size + 1)\n",
    "        window_indices = np.arange(window_start, window_end)\n",
    "        window_weights = window_indices - t\n",
    "\n",
    "        weighted_sum = np.sum(window_weights[:, np.newaxis] * cepstral_coeffs[window_indices, :], axis=0)\n",
    "        weight_sum_squared = np.sum(window_weights ** 2)\n",
    "\n",
    "        deltas[t] = weighted_sum / weight_sum_squared\n",
    "\n",
    "    return deltas\n",
    "\n",
    "train_t_delta_coefficients = compute_deltas(train_t, window_size=2)\n",
    "train_n_delta_coefficients = compute_deltas(train_n, window_size=2)\n",
    "\n",
    "train_t = np.concatenate((train_t, train_t_delta_coefficients), axis=1)\n",
    "train_n = np.concatenate((train_n, train_n_delta_coefficients), axis=1)\n",
    "\n",
    "train_t_ddelta_coefficients = compute_deltas(train_t, window_size=2)\n",
    "train_n_delta_coefficients = compute_deltas(train_n, window_size=2)"
   ],
   "metadata": {
    "collapsed": false,
    "ExecuteTime": {
     "start_time": "2023-04-16T21:21:29.031554Z",
     "end_time": "2023-04-16T21:22:20.577456Z"
    },
    "pycharm": {
     "is_executing": true
    }
   }
  },
  {
   "cell_type": "code",
   "execution_count": 37,
   "outputs": [],
   "source": [
    "M_t = 2  # Počet gaussovských komponent\n",
    "MUs_t = train_t[np.random.randint(1, len(train_t), M_t)]  # Počiatočna stredná hodnota\n",
    "COVs_t = [np.cov(train_t.T)] * M_t  # Počiatočna kovariančná matica\n",
    "Ws_t = np.ones(M_t) / M_t\n",
    "\n",
    "M_n = 20\n",
    "MUs_n = train_n[np.random.randint(1, len(train_n), M_n)]\n",
    "COVs_n = [np.cov(train_n.T)] * M_t\n",
    "Ws_n = np.ones(M_n) / M_n"
   ],
   "metadata": {
    "collapsed": false,
    "ExecuteTime": {
     "start_time": "2023-04-16T20:57:27.909373Z",
     "end_time": "2023-04-16T20:57:27.953010Z"
    }
   }
  },
  {
   "cell_type": "code",
   "execution_count": 38,
   "outputs": [
    {
     "name": "stdout",
     "output_type": "stream",
     "text": [
      "Iteration: 0 Total log likelihood: -69899.22421735441 for target -2809996.614740586 for non target\n",
      "Iteration: 1 Total log likelihood: -47173.85311228724 for target -2141285.4458649354 for non target\n",
      "Iteration: 2 Total log likelihood: -46358.052248430555 for target -2125745.4249553285 for non target\n",
      "Iteration: 3 Total log likelihood: -45341.82687765901 for target -2089567.733789713 for non target\n",
      "Iteration: 4 Total log likelihood: -44445.945229413424 for target -2038481.0926930718 for non target\n",
      "Iteration: 5 Total log likelihood: -43676.72141317656 for target -2013296.3435948638 for non target\n",
      "Iteration: 6 Total log likelihood: -43217.78982812778 for target -1995916.5772487177 for non target\n",
      "Iteration: 7 Total log likelihood: -42893.92767066146 for target -1972782.9733279606 for non target\n",
      "Iteration: 8 Total log likelihood: -42693.51191911126 for target -1952630.7032347973 for non target\n",
      "Iteration: 9 Total log likelihood: -42567.83116718388 for target -1947868.2015927827 for non target\n",
      "Iteration: 10 Total log likelihood: -42488.339752993445 for target -1946858.6481227698 for non target\n",
      "Iteration: 11 Total log likelihood: -42442.43405801791 for target -1946402.7688815214 for non target\n",
      "Iteration: 12 Total log likelihood: -42415.68337922007 for target -1946131.85330737 for non target\n",
      "Iteration: 13 Total log likelihood: -42399.42302531154 for target -1945951.2524647661 for non target\n",
      "Iteration: 14 Total log likelihood: -42389.08084641001 for target -1945823.9273060237 for non target\n",
      "Iteration: 15 Total log likelihood: -42382.280533785 for target -1945731.7325589098 for non target\n",
      "Iteration: 16 Total log likelihood: -42377.727619572295 for target -1945664.1522453208 for non target\n",
      "Iteration: 17 Total log likelihood: -42374.655242046276 for target -1945614.347210405 for non target\n",
      "Iteration: 18 Total log likelihood: -42372.576001274196 for target -1945577.5619583712 for non target\n",
      "Iteration: 19 Total log likelihood: -42371.16691549561 for target -1945550.3738589005 for non target\n",
      "Iteration: 20 Total log likelihood: -42370.21068368894 for target -1945530.2785035535 for non target\n",
      "Iteration: 21 Total log likelihood: -42369.56088443143 for target -1945515.4295656024 for non target\n",
      "Iteration: 22 Total log likelihood: -42369.118853301385 for target -1945504.4615876914 for non target\n",
      "Iteration: 23 Total log likelihood: -42368.81797109892 for target -1945496.3636458195 for non target\n",
      "Iteration: 24 Total log likelihood: -42368.613117868634 for target -1945490.3872058317 for non target\n",
      "Iteration: 25 Total log likelihood: -42368.473650020445 for target -1945485.9781941257 for non target\n",
      "Iteration: 26 Total log likelihood: -42368.378716098356 for target -1945482.726684361 for non target\n",
      "Iteration: 27 Total log likelihood: -42368.31411309718 for target -1945480.3295667402 for non target\n",
      "Iteration: 28 Total log likelihood: -42368.27016300869 for target -1945478.5628405712 for non target\n",
      "Iteration: 29 Total log likelihood: -42368.24027147807 for target -1945477.2610561135 for non target\n"
     ]
    }
   ],
   "source": [
    "for jj in range(30):\n",
    "    # TTL_t je doveryhodnosť\n",
    "    Ws_t, MUs_t, COVs_t, TTL_t = ilib.train_gmm(train_t, Ws_t, MUs_t, COVs_t)\n",
    "    Ws_n, MUs_n, COVs_n, TTL_n = ilib.train_gmm(train_n, Ws_n, MUs_n, COVs_n)\n",
    "    print(f'Iteration: {jj} Total log likelihood: {TTL_t} for target {TTL_n} for non target')"
   ],
   "metadata": {
    "collapsed": false,
    "ExecuteTime": {
     "start_time": "2023-04-16T20:57:29.421909Z",
     "end_time": "2023-04-16T20:57:31.957870Z"
    }
   }
  },
  {
   "cell_type": "code",
   "execution_count": 39,
   "outputs": [
    {
     "name": "stdout",
     "output_type": "stream",
     "text": [
      "[291.53382512676217, 383.80723060477703]\n",
      "Fraction of correctly recognized targets: 1.0%\n"
     ]
    }
   ],
   "source": [
    "P_t=0.5\n",
    "P_n=1.0-P_t\n",
    "\n",
    "score=[]\n",
    "for tst in test_t:\n",
    "    ll_t = ilib.logpdf_gmm(tst, Ws_t, MUs_t, COVs_t)\n",
    "    ll_n = ilib.logpdf_gmm(tst, Ws_n, MUs_n, COVs_n)\n",
    "    score.append((sum(ll_t) + np.log(P_t)) - (sum(ll_n) + np.log(P_n)))\n",
    "print(score)\n",
    "print(f\"Fraction of correctly recognized targets: {np.mean(np.array(score) > 0)}%\")"
   ],
   "metadata": {
    "collapsed": false,
    "ExecuteTime": {
     "start_time": "2023-04-16T20:57:34.936239Z",
     "end_time": "2023-04-16T20:57:34.947833Z"
    }
   }
  },
  {
   "cell_type": "code",
   "execution_count": 40,
   "outputs": [
    {
     "name": "stdout",
     "output_type": "stream",
     "text": [
      "[-3088.929192276106, -1046.5391712627184, -6409.610502855019, -647.9476851044346, -3346.123855851036, -1331.2549925696994, -626.7319546130002, -8614.863078811526, -13839.374035568966, -5423.689217477597, -2884.259432632658, -5535.629855856305, -3415.66008820327, -5026.607481575655, -859.7149962096946, -974.1352302232881, -164.84266303773074, -3675.035478711785, -12005.59662769195, -9512.878829575333, -172.6270733389582, -555.8067468168074, 99.8593365918241, -2646.0955005004216, -15064.132311447895, -30.18424313430114, -3381.5068378224387, -4835.633980504546, -268.8164436943225, 429.6315968384861, -521.887058491202, -1143.0456949085765, -783.5328438370179, -1940.5954176061787, -4214.595938427374, -3317.60083552834, -3239.9885209959975, -9396.185592370164, -3879.6282931645546, -488.7489446907266, -14819.159324774286, -755.7348323628494, -12147.45092552347, -3250.564071423346, 1.6818265394254013, -3050.490648057241, -4176.797730671988, -5256.12252158366, -925.7287031046762, -2255.253162177928, -4837.731163350007, -152.9508578260893, -486.15423140705843, -3009.0370652972806, -2296.7427154668985, -3282.374256894869, -465.3864297627424, -2709.935931524882, -843.7941636506639]\n",
      "Fraction of correctly recognized non targets: 0.9491525423728814%\n"
     ]
    }
   ],
   "source": [
    "score=[]\n",
    "for tst in test_n:\n",
    "    ll_t = ilib.logpdf_gmm(tst, Ws_t, MUs_t, COVs_t)\n",
    "    ll_n = ilib.logpdf_gmm(tst, Ws_n, MUs_n, COVs_n)\n",
    "    score.append((sum(ll_t) + np.log(P_t)) - (sum(ll_n) + np.log(P_n)))\n",
    "print(score)\n",
    "print(f\"Fraction of correctly recognized non targets: {np.mean(np.array(score) < 0)}%\")"
   ],
   "metadata": {
    "collapsed": false,
    "ExecuteTime": {
     "start_time": "2023-04-16T20:57:36.843883Z",
     "end_time": "2023-04-16T20:57:37.039187Z"
    }
   }
  },
  {
   "cell_type": "code",
   "execution_count": 23,
   "outputs": [],
   "source": [],
   "metadata": {
    "collapsed": false,
    "ExecuteTime": {
     "start_time": "2023-04-16T18:31:46.984919Z",
     "end_time": "2023-04-16T18:31:46.992359Z"
    }
   }
  }
 ],
 "metadata": {
  "kernelspec": {
   "display_name": "Python 3",
   "language": "python",
   "name": "python3"
  },
  "language_info": {
   "codemirror_mode": {
    "name": "ipython",
    "version": 2
   },
   "file_extension": ".py",
   "mimetype": "text/x-python",
   "name": "python",
   "nbconvert_exporter": "python",
   "pygments_lexer": "ipython2",
   "version": "2.7.6"
  }
 },
 "nbformat": 4,
 "nbformat_minor": 0
}
