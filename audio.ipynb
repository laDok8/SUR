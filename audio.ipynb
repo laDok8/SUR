{
 "cells": [
  {
   "cell_type": "code",
   "execution_count": null,
   "metadata": {
    "collapsed": true,
    "ExecuteTime": {
     "start_time": "2023-04-23T20:39:38.970032Z",
     "end_time": "2023-04-23T20:39:57.810438Z"
    }
   },
   "outputs": [],
   "source": [
    "import ikrlib as ilib\n",
    "import numpy as np\n",
    "import os\n",
    "import librosa\n",
    "import soundfile as sf\n",
    "import noisereduce as nr\n",
    "from pydub import AudioSegment\n",
    "from pydub.silence import detect_nonsilent"
   ]
  },
  {
   "cell_type": "code",
   "execution_count": null,
   "outputs": [],
   "source": [
    "cepstral_mean_subtraction_enabled = False\n",
    "delta_coefficients_enabled = False\n",
    "coefficients_normalization = False\n",
    "\n",
    "audio_adjust_enabled = True\n",
    "reduce_noise_enabled = True\n",
    "data_augmentation_enabled = True\n",
    "data_pre_emphasis = False"
   ],
   "metadata": {
    "collapsed": false,
    "ExecuteTime": {
     "start_time": "2023-04-23T20:39:57.813329Z",
     "end_time": "2023-04-23T20:39:57.817077Z"
    }
   }
  },
  {
   "cell_type": "code",
   "execution_count": null,
   "outputs": [],
   "source": [
    "def audio_adjust(dir):\n",
    "    new_dir = ilib.get_last_two_dirs(dir) + \"/rs/\"\n",
    "    min_silence_len = 1000  # Minimálna dĺžka ticha (ms)\n",
    "    silence_thresh = -44    # prah ticha (dB)\n",
    "\n",
    "    print(f\"Removing silence from records in directory {dir}\")\n",
    "    if not os.path.isdir(new_dir):\n",
    "        os.mkdir(new_dir)\n",
    "    for f in os.listdir(dir):\n",
    "        if f[-3:] == \"wav\":\n",
    "            input_file = ilib.get_last_two_dirs(dir) + \"/\" + f\n",
    "            audio = AudioSegment.from_wav(input_file)\n",
    "            nonsilent_intervals = detect_nonsilent(audio, min_silence_len, silence_thresh)\n",
    "\n",
    "            # Zkonkatenuj invervaly kde nie je ticho\n",
    "            non_silent_audio = AudioSegment.empty()\n",
    "            for start, end in nonsilent_intervals:\n",
    "                non_silent_audio += audio[start:end]\n",
    "\n",
    "            # Ulož audio\n",
    "            output_file = new_dir + f\n",
    "            non_silent_audio.export(output_file, format=\"wav\")\n",
    "\n",
    "if audio_adjust_enabled:\n",
    "    for i in range(1, 32):\n",
    "        audio_adjust(ilib.get_directory(f\"train/{i}\"))\n",
    "        audio_adjust(ilib.get_directory(f\"dev/{i}\"))\n",
    "print(\"Silence was successfully removed\")"
   ],
   "metadata": {
    "collapsed": false,
    "ExecuteTime": {
     "start_time": "2023-04-23T20:39:57.821620Z",
     "end_time": "2023-04-23T20:41:24.739122Z"
    }
   }
  },
  {
   "cell_type": "code",
   "execution_count": null,
   "outputs": [],
   "source": [
    "def reduce_noise(dir):\n",
    "    print(f\"Removing noise from records in directory {dir}\")\n",
    "    new_dir = ilib.get_last_two_dirs(dir) + \"/rn/\"\n",
    "\n",
    "    if not os.path.isdir(new_dir):\n",
    "        os.mkdir(new_dir)\n",
    "    for f in os.listdir(dir):\n",
    "        if f[-3:] == \"wav\":\n",
    "            input_file = dir + \"/\" + f\n",
    "\n",
    "            # Load the audio file\n",
    "            audio, sr = librosa.load(input_file, sr=None)\n",
    "\n",
    "            # Select a portion of the audio that contains only noise (e.g., the first 0.5 seconds)\n",
    "            noise_sample = audio[:int(sr * 0.5)]\n",
    "\n",
    "            # Perform noise reduction using the noise sample\n",
    "            reduced_audio = nr.reduce_noise(y=audio, sr=sr, y_noise=noise_sample)\n",
    "\n",
    "            # Save the noise-reduced audio to a new file\n",
    "            output_file = new_dir + f\n",
    "            sf.write(output_file, reduced_audio, sr)\n",
    "\n",
    "if reduce_noise_enabled:\n",
    "    for i in range(1, 32):\n",
    "        reduce_noise(ilib.get_directory(f\"train/{i}\", audio_adjust_enabled))\n",
    "        reduce_noise(ilib.get_directory(f\"dev/{i}\", audio_adjust_enabled))\n",
    "\n",
    "    print(\"Noise was successfully removed\")"
   ],
   "metadata": {
    "collapsed": false,
    "ExecuteTime": {
     "start_time": "2023-04-23T20:41:24.741458Z",
     "end_time": "2023-04-23T20:41:42.983411Z"
    }
   }
  },
  {
   "cell_type": "code",
   "execution_count": null,
   "outputs": [],
   "source": [
    "def data_augumentation(dir):\n",
    "    new_dir = ilib.get_last_two_dirs(dir) + \"/da/\"\n",
    "    print(f\"Removing noise from records in directory {dir}\")\n",
    "    if not os.path.isdir(new_dir):\n",
    "        os.mkdir(new_dir)\n",
    "    for f in os.listdir(dir):\n",
    "        if f[-3:] == \"wav\":\n",
    "            input_file = dir + \"/\" + f\n",
    "            print(\"Data augumentation of file: \" + input_file)\n",
    "\n",
    "            time_stretched_audio = ilib.apply_time_stretching(input_file)\n",
    "            pitch_shifted_audio = ilib.apply_pitch_shifting(input_file, semitones=2)\n",
    "            time_shifted_audio = ilib.apply_time_shifting(input_file, shift_ms=500)\n",
    "\n",
    "            # insert \"aug\" between \"audio\" and \".wav\"\n",
    "            stretched_file = new_dir + f[:-4] + \"_stretched_aug.wav\"\n",
    "            pitch_shifted_file = new_dir + f[:-4] + \"_pitch_shifted_aug.wav\"\n",
    "            time_shifted_file = new_dir + f[:-4] + \"_time_shifted_aug.wav\"\n",
    "\n",
    "            time_stretched_audio.export(stretched_file, format=\"wav\")\n",
    "            pitch_shifted_audio.export(pitch_shifted_file, format=\"wav\")\n",
    "            time_shifted_audio.export(time_shifted_file, format=\"wav\")\n",
    "\n",
    "if data_augmentation_enabled:\n",
    "    for i in range(1, 32):\n",
    "        data_augumentation(ilib.get_directory(f\"train/{i}\", audio_adjust_enabled, reduce_noise_enabled))\n",
    "    print(\"Data augumentation was done\")"
   ],
   "metadata": {
    "collapsed": false,
    "ExecuteTime": {
     "start_time": "2023-04-23T20:41:42.989092Z",
     "end_time": "2023-04-23T20:41:48.962080Z"
    }
   }
  },
  {
   "cell_type": "code",
   "execution_count": null,
   "outputs": [],
   "source": [
    "def pre_emphasis(dir):\n",
    "    data = []\n",
    "    for f in os.listdir(dir):\n",
    "        if f[-3:] == \"wav\":\n",
    "            input_file = dir + \"/\" + f\n",
    "            print(\"Proccessing input file: \" + input_file)\n",
    "            sample_rate, audio_samples = ilib.read_wav_file(input_file)\n",
    "            emphasized_audio = ilib.apply_pre_emphasis(audio_samples)\n",
    "\n",
    "            assert(sample_rate==16000)\n",
    "            data.append(ilib.extract_mfcc(emphasized_audio, sample_rate))\n",
    "    return data\n",
    "\n",
    "if data_pre_emphasis:\n",
    "    train = {}\n",
    "    dev = {}\n",
    "    for i in range(1, 32):\n",
    "        train[i] =  np.vstack(pre_emphasis(ilib.get_directory(f'train/{i}', audio_adjust_enabled, reduce_noise_enabled, data_augmentation_enabled)))\n",
    "        dev[i] =  list(pre_emphasis(ilib.get_directory(f'dev/{i}', audio_adjust_enabled, reduce_noise_enabled)))\n",
    "    print(\"Pre emphasis was successfull\")"
   ],
   "metadata": {
    "collapsed": false,
    "ExecuteTime": {
     "start_time": "2023-04-23T20:41:48.965516Z",
     "end_time": "2023-04-23T20:41:48.967523Z"
    }
   }
  },
  {
   "cell_type": "code",
   "execution_count": null,
   "outputs": [],
   "source": [
    "if not data_pre_emphasis:\n",
    "    train = {}\n",
    "    dev = {}\n",
    "    for i in range(1, 32):\n",
    "        train[i] = np.vstack(list(ilib.wav16khz2mfcc(ilib.get_directory(f'train/{i}', audio_adjust_enabled, reduce_noise_enabled, data_augmentation_enabled)).values()))\n",
    "        dev[i] = list(ilib.wav16khz2mfcc(ilib.get_directory(f'train/{i}', audio_adjust_enabled, reduce_noise_enabled)).values())\n",
    "    print(\"Loading data was successful\")"
   ],
   "metadata": {
    "collapsed": false,
    "ExecuteTime": {
     "start_time": "2023-04-23T20:41:48.969140Z",
     "end_time": "2023-04-23T20:42:07.097070Z"
    }
   }
  },
  {
   "cell_type": "code",
   "execution_count": null,
   "outputs": [],
   "source": [
    "def min_max_normalize(data):\n",
    "    min_vals = np.min(data, axis=0)\n",
    "    max_vals = np.max(data, axis=0)\n",
    "    normalized_data = (data - min_vals) / (max_vals - min_vals)\n",
    "    return normalized_data\n",
    "\n",
    "if coefficients_normalization:\n",
    "    for i in range(1, 32):\n",
    "        train[i] = min_max_normalize(train[i])"
   ],
   "metadata": {
    "collapsed": false,
    "ExecuteTime": {
     "start_time": "2023-04-23T20:42:07.096855Z",
     "end_time": "2023-04-23T20:42:07.103641Z"
    }
   }
  },
  {
   "cell_type": "code",
   "execution_count": null,
   "outputs": [],
   "source": [
    "def compute_deltas(cepstral_coeffs, window_size=2):\n",
    "    num_frames, num_coeffs = cepstral_coeffs.shape\n",
    "    deltas = np.zeros((num_frames, num_coeffs))\n",
    "\n",
    "    for t in range(num_frames):\n",
    "        window_start = max(0, t - window_size)\n",
    "        window_end = min(num_frames, t + window_size + 1)\n",
    "        window_indices = np.arange(window_start, window_end)\n",
    "        window_weights = window_indices - t\n",
    "\n",
    "        weighted_sum = np.sum(window_weights[:, np.newaxis] * cepstral_coeffs[window_indices, :], axis=0)\n",
    "        weight_sum_squared = np.sum(window_weights ** 2)\n",
    "\n",
    "        deltas[t] = weighted_sum / weight_sum_squared\n",
    "\n",
    "    return deltas\n",
    "\n",
    "if delta_coefficients_enabled:\n",
    "    for i in range(1, 32):\n",
    "        train_delta_coeffs = compute_deltas(train[i], window_size=2)\n",
    "        train_derivative_delta_coeffs = compute_deltas(train[i], window_size=2)\n",
    "        train[i] = np.concatenate((train[i], train_delta_coeffs, train_derivative_delta_coeffs), axis=1)"
   ],
   "metadata": {
    "collapsed": false,
    "ExecuteTime": {
     "start_time": "2023-04-23T20:42:07.105808Z",
     "end_time": "2023-04-23T20:42:07.205871Z"
    }
   }
  },
  {
   "cell_type": "code",
   "execution_count": null,
   "outputs": [],
   "source": [
    "def cepstral_mean_subtraction(cepstral_coeffs):\n",
    "    # Calculate the mean of the cepstral coefficients across all frames (axis 0)\n",
    "    mean_coeffs = np.mean(cepstral_coeffs, axis=0)\n",
    "\n",
    "    # Subtract the mean from the original cepstral coefficients\n",
    "    cms_coeffs = cepstral_coeffs - mean_coeffs\n",
    "\n",
    "    return cms_coeffs\n",
    "\n",
    "if cepstral_mean_subtraction_enabled:\n",
    "    for i in range(1, 32):\n",
    "        train[i] = cepstral_mean_subtraction(train[i])"
   ],
   "metadata": {
    "collapsed": false,
    "ExecuteTime": {
     "start_time": "2023-04-23T20:42:07.207369Z",
     "end_time": "2023-04-23T20:42:07.231265Z"
    }
   }
  },
  {
   "cell_type": "code",
   "execution_count": null,
   "outputs": [],
   "source": [
    "M = 3  # Počet gaussovských komponent\n",
    "MUs = {}\n",
    "COVs = {}\n",
    "Ws = {}\n",
    "for i in range(1, 32):\n",
    "    MUs[i] = train[i][np.random.randint(1, len(train[i]), M)]  # Počiatočna stredná hodnota\n",
    "    #COVs[i] = [np.cov(train[i].T)] * M  # Počiatočna kovariančná matica\n",
    "    COVs[i] = [np.diag(np.diag(np.cov(train[i].T))) for _ in range(M)]  # Initial diagonal covariance matrix\n",
    "    Ws[i] = np.ones(M) / M"
   ],
   "metadata": {
    "collapsed": false,
    "ExecuteTime": {
     "start_time": "2023-04-23T20:42:07.229754Z",
     "end_time": "2023-04-23T20:42:07.279527Z"
    }
   }
  },
  {
   "cell_type": "code",
   "execution_count": null,
   "outputs": [],
   "source": [
    "for jj in range(30):\n",
    "    # TTL_t je doveryhodnosť\n",
    "    for i in range(1, 32):\n",
    "        Ws[i], MUs[i], COVs[i], TTL = ilib.train_gmm(train[i], Ws[i], MUs[i], COVs[i])\n",
    "        print(f'Iteration: {jj} Total log likelihood: {TTL} for person {i}')"
   ],
   "metadata": {
    "collapsed": false,
    "ExecuteTime": {
     "start_time": "2023-04-23T20:42:07.280319Z",
     "end_time": "2023-04-23T20:42:33.626824Z"
    }
   }
  },
  {
   "cell_type": "code",
   "execution_count": null,
   "outputs": [],
   "source": [
    "P_t=0.5\n",
    "P_n=1.0-P_t\n",
    "\n",
    "score = []\n",
    "correct = 0\n",
    "total = 0\n",
    "\n",
    "for true_class in range(1, 32):\n",
    "    for dev_p_i in dev[true_class]:\n",
    "        dev_p_i_cpy = dev_p_i.copy()\n",
    "\n",
    "        if coefficients_normalization:\n",
    "            dev_p_i_cpy = min_max_normalize(dev_p_i_cpy)\n",
    "\n",
    "        if delta_coefficients_enabled:\n",
    "            test_t_delta_coeffs = compute_deltas(dev_p_i_cpy, window_size=2)\n",
    "            test_t_derivative_delta_coeffs = compute_deltas(test_t_delta_coeffs, window_size=2)\n",
    "\n",
    "            dev_p_i_cpy = np.concatenate((dev_p_i_cpy, test_t_delta_coeffs, test_t_derivative_delta_coeffs), axis=1)\n",
    "\n",
    "        if cepstral_mean_subtraction_enabled:\n",
    "            dev_p_i_cpy = cepstral_mean_subtraction(dev_p_i_cpy)\n",
    "\n",
    "        # Compute the likelihoods for all the classes\n",
    "        likelihoods = np.array([ilib.logpdf_gmm(dev_p_i_cpy, Ws[i], MUs[i], COVs[i]).sum() for i in range(1, 32)])\n",
    "\n",
    "        # Find the class with the highest likelihood\n",
    "        predicted_class = np.argmax(likelihoods) + 1\n",
    "\n",
    "        # Compare the predicted class with the true class\n",
    "        if predicted_class == true_class:\n",
    "            correct += 1\n",
    "        total += 1\n",
    "\n",
    "accuracy = correct / total\n",
    "print(f\"Fraction of correctly recognized targets: {accuracy * 100}%\")"
   ],
   "metadata": {
    "collapsed": false,
    "ExecuteTime": {
     "start_time": "2023-04-23T20:42:33.627529Z",
     "end_time": "2023-04-23T20:42:41.609247Z"
    }
   }
  },
  {
   "cell_type": "code",
   "execution_count": null,
   "outputs": [],
   "source": [],
   "metadata": {
    "collapsed": false,
    "ExecuteTime": {
     "start_time": "2023-04-23T20:42:41.685843Z",
     "end_time": "2023-04-23T20:42:41.749759Z"
    }
   }
  }
 ],
 "metadata": {
  "kernelspec": {
   "display_name": "Python 3",
   "language": "python",
   "name": "python3"
  },
  "language_info": {
   "codemirror_mode": {
    "name": "ipython",
    "version": 2
   },
   "file_extension": ".py",
   "mimetype": "text/x-python",
   "name": "python",
   "nbconvert_exporter": "python",
   "pygments_lexer": "ipython2",
   "version": "2.7.6"
  }
 },
 "nbformat": 4,
 "nbformat_minor": 0
}
