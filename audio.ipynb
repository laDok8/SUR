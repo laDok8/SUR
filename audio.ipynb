{
 "cells": [
  {
   "cell_type": "code",
   "execution_count": null,
   "metadata": {
    "collapsed": true,
    "ExecuteTime": {
     "start_time": "2023-04-29T18:55:04.266674Z",
     "end_time": "2023-04-29T18:55:05.711041Z"
    }
   },
   "outputs": [],
   "source": [
    "from audio import Audio"
   ]
  },
  {
   "cell_type": "code",
   "execution_count": null,
   "outputs": [],
   "source": [
    "cepstral_mean_subtraction_enabled = False\n",
    "delta_coefficients_enabled = False\n",
    "coefficients_normalization = False\n",
    "\n",
    "audio_adjust_enabled = True\n",
    "reduce_noise_enabled = True\n",
    "data_augmentation_enabled = True\n",
    "data_pre_emphasis = False\n",
    "\n",
    "CLASSES = 31"
   ],
   "metadata": {
    "collapsed": false,
    "ExecuteTime": {
     "start_time": "2023-04-29T18:55:05.712595Z",
     "end_time": "2023-04-29T18:55:05.713985Z"
    }
   }
  },
  {
   "cell_type": "code",
   "execution_count": null,
   "outputs": [],
   "source": [
    "audio = Audio(CLASSES, \"train\", \"eval\")\n",
    "audio.do_audio_adjust(audio_adjust_enabled)\n",
    "audio.do_reduce_noise(reduce_noise_enabled)\n",
    "audio.do_data_augmentation(data_augmentation_enabled)\n",
    "if data_pre_emphasis:\n",
    "    train_audio, dev_audio = audio.do_data_pre_emphasis()\n",
    "else:\n",
    "    train_audio, dev_audio = audio.do_classic_load()\n",
    "train_audio = audio.do_coefficients_normalization(train_audio, coefficients_normalization)\n",
    "train_audio = audio.do_delta_coefficients(train_audio, delta_coefficients_enabled)\n",
    "train_audio = audio.do_cepstral_mean_subtraction(train_audio, cepstral_mean_subtraction_enabled)"
   ],
   "metadata": {
    "collapsed": false,
    "ExecuteTime": {
     "start_time": "2023-04-29T14:43:08.471219Z",
     "end_time": "2023-04-29T14:58:23.220644Z"
    }
   }
  },
  {
   "cell_type": "code",
   "execution_count": null,
   "outputs": [],
   "source": [
    "audio = Audio(CLASSES, \"train\", \"eval\")\n",
    "if data_pre_emphasis:\n",
    "    train_audio, dev_audio = audio.do_data_pre_emphasis()\n",
    "else:\n",
    "    train_audio, dev_audio = audio.do_classic_load()\n",
    "train_audio = audio.do_coefficients_normalization(train_audio, coefficients_normalization)\n",
    "train_audio = audio.do_delta_coefficients(train_audio, delta_coefficients_enabled)\n",
    "train_audio = audio.do_cepstral_mean_subtraction(train_audio, cepstral_mean_subtraction_enabled)"
   ],
   "metadata": {
    "collapsed": false,
    "ExecuteTime": {
     "start_time": "2023-04-29T18:55:05.715696Z",
     "end_time": "2023-04-29T18:55:30.918037Z"
    }
   }
  },
  {
   "cell_type": "code",
   "execution_count": null,
   "outputs": [],
   "source": [
    "Ws, MUs, COVs = audio.train_gmm(train_audio, 3, 30)"
   ],
   "metadata": {
    "collapsed": false,
    "ExecuteTime": {
     "start_time": "2023-04-29T18:55:30.947510Z",
     "end_time": "2023-04-29T18:55:41.502675Z"
    }
   }
  },
  {
   "cell_type": "markdown",
   "source": [],
   "metadata": {
    "collapsed": false
   }
  },
  {
   "cell_type": "code",
   "execution_count": null,
   "outputs": [],
   "source": [
    "predicted_classes, accuracy = audio.eval(dev_audio, Ws, MUs, COVs, eval_format='new')\n",
    "print(predicted_classes)"
   ],
   "metadata": {
    "collapsed": false,
    "ExecuteTime": {
     "start_time": "2023-04-29T18:55:41.505870Z",
     "end_time": "2023-04-29T18:55:57.511760Z"
    }
   }
  },
  {
   "cell_type": "markdown",
   "source": [
    "## Old dev data"
   ],
   "metadata": {
    "collapsed": false
   }
  },
  {
   "cell_type": "code",
   "execution_count": null,
   "outputs": [],
   "source": [
    "audio = Audio(CLASSES, \"train\", \"dev\")\n",
    "if data_pre_emphasis:\n",
    "    train_audio, dev_audio = audio.do_data_pre_emphasis()\n",
    "else:\n",
    "    train_audio, dev_audio = audio.do_classic_load(eval=False)\n",
    "train_audio = audio.do_coefficients_normalization(train_audio, coefficients_normalization)\n",
    "train_audio = audio.do_delta_coefficients(train_audio, delta_coefficients_enabled)\n",
    "train_audio = audio.do_cepstral_mean_subtraction(train_audio, cepstral_mean_subtraction_enabled)"
   ],
   "metadata": {
    "collapsed": false,
    "ExecuteTime": {
     "start_time": "2023-04-29T13:44:23.547851Z",
     "end_time": "2023-04-29T13:44:34.046017Z"
    }
   }
  },
  {
   "cell_type": "code",
   "execution_count": null,
   "outputs": [],
   "source": [
    "Ws, MUs, COVs = audio.train_gmm(train_audio, 3, 30)\n"
   ],
   "metadata": {
    "collapsed": false,
    "ExecuteTime": {
     "start_time": "2023-04-29T13:47:55.979988Z",
     "end_time": "2023-04-29T13:48:09.652451Z"
    }
   }
  },
  {
   "cell_type": "code",
   "execution_count": null,
   "outputs": [],
   "source": [
    "predicted_classes, accuracy = audio.eval(dev_audio, Ws, MUs, COVs, eval_format='old')\n"
   ],
   "metadata": {
    "collapsed": false,
    "ExecuteTime": {
     "start_time": "2023-04-29T13:45:02.768418Z",
     "end_time": "2023-04-29T13:45:06.161438Z"
    }
   }
  },
  {
   "cell_type": "code",
   "execution_count": null,
   "outputs": [],
   "source": [],
   "metadata": {
    "collapsed": false
   }
  }
 ],
 "metadata": {
  "kernelspec": {
   "display_name": "Python 3",
   "language": "python",
   "name": "python3"
  },
  "language_info": {
   "codemirror_mode": {
    "name": "ipython",
    "version": 2
   },
   "file_extension": ".py",
   "mimetype": "text/x-python",
   "name": "python",
   "nbconvert_exporter": "python",
   "pygments_lexer": "ipython2",
   "version": "2.7.6"
  }
 },
 "nbformat": 4,
 "nbformat_minor": 0
}
